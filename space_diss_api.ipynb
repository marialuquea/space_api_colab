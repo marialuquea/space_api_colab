{
  "cells": [
    {
      "cell_type": "markdown",
      "metadata": {
        "id": "view-in-github",
        "colab_type": "text"
      },
      "source": [
        "<a href=\"https://colab.research.google.com/github/marialuquea/space_api_colab/blob/main/space_diss_api.ipynb\" target=\"_parent\"><img src=\"https://colab.research.google.com/assets/colab-badge.svg\" alt=\"Open In Colab\"/></a>"
      ]
    },
    {
      "cell_type": "markdown",
      "metadata": {
        "id": "5f07r3HnGrcs"
      },
      "source": [
        "# API for Space Diss Maria"
      ]
    },
    {
      "cell_type": "code",
      "execution_count": 5,
      "metadata": {
        "id": "1bDGWc0LGqsv"
      },
      "outputs": [],
      "source": [
        "%%capture\n",
        "!pip install farm-haystack"
      ]
    },
    {
      "cell_type": "code",
      "execution_count": 6,
      "metadata": {
        "id": "f_0cU1ECRSqz"
      },
      "outputs": [],
      "source": [
        "%%capture\n",
        "!pip install pinecone-client"
      ]
    },
    {
      "cell_type": "code",
      "execution_count": 7,
      "metadata": {
        "id": "7fBntckzRPfj"
      },
      "outputs": [],
      "source": [
        "%%capture\n",
        "!pip install fastapi"
      ]
    },
    {
      "cell_type": "code",
      "execution_count": 8,
      "metadata": {
        "id": "AXtm_VBSRO04"
      },
      "outputs": [],
      "source": [
        "%%capture\n",
        "!pip install colabcode"
      ]
    },
    {
      "cell_type": "code",
      "execution_count": 9,
      "metadata": {
        "colab": {
          "base_uri": "https://localhost:8080/"
        },
        "id": "aB-SwZQGHNw5",
        "outputId": "e54663ac-f0d7-4198-d51a-af82e033b02d"
      },
      "outputs": [
        {
          "output_type": "stream",
          "name": "stdout",
          "text": [
            "Mounted at /content/gdrive/\n"
          ]
        }
      ],
      "source": [
        "from google.colab import drive\n",
        "drive.mount('/content/gdrive/')"
      ]
    },
    {
      "cell_type": "code",
      "execution_count": 35,
      "metadata": {
        "id": "HVN57ys06qA5"
      },
      "outputs": [],
      "source": [
        "import sys\n",
        "sys.path.append('/content/gdrive/MyDrive/Dissertation')\n",
        "from qa_text import get_document_store, get_retriever, get_reader, create_pipeline, ask_question\n",
        "from PineconeDocumentStore_m import *\n",
        "from types_m import *\n",
        "from ff_m import _format_filters"
      ]
    },
    {
      "cell_type": "code",
      "execution_count": null,
      "metadata": {
        "id": "Ek52CfFDCYtP"
      },
      "outputs": [],
      "source": [
        "!ls"
      ]
    },
    {
      "cell_type": "code",
      "execution_count": null,
      "metadata": {
        "id": "7eCePF2RGRkQ"
      },
      "outputs": [],
      "source": [
        "!pwd"
      ]
    },
    {
      "cell_type": "code",
      "execution_count": 11,
      "metadata": {
        "id": "Oj0WUjJKIi38"
      },
      "outputs": [],
      "source": [
        "!cp /content/gdrive/MyDrive/Dissertation/pinecone_document_store.db /content/ "
      ]
    },
    {
      "cell_type": "code",
      "execution_count": null,
      "metadata": {
        "id": "RqQ3reSAKGTB"
      },
      "outputs": [],
      "source": [
        "!ls"
      ]
    },
    {
      "cell_type": "code",
      "execution_count": 12,
      "metadata": {
        "colab": {
          "base_uri": "https://localhost:8080/"
        },
        "id": "CypEQPOG-plN",
        "outputId": "496fd459-2885-48af-c02d-df6f20668336"
      },
      "outputs": [
        {
          "output_type": "stream",
          "name": "stderr",
          "text": [
            "INFO - haystack.telemetry -  Haystack sends anonymous usage data to understand the actual usage and steer dev efforts towards features that are most meaningful to users. You can opt-out at anytime by calling disable_telemetry() or by manually setting the environment variable HAYSTACK_TELEMETRY_ENABLED as described for different operating systems on the documentation page. More information at https://haystack.deepset.ai/guides/telemetry\n"
          ]
        },
        {
          "output_type": "stream",
          "name": "stdout",
          "text": [
            "Index statistics: name: testin4, embedding dimensions: 768, record count: 697\n"
          ]
        }
      ],
      "source": [
        "# initialise document store\n",
        "document_store = PineconeDocumentStore(\n",
        "        api_key='2622f896-0c2f-45a4-bfff-b4a8577e54d2',\n",
        "        index='testin4',\n",
        "        similarity=\"cosine\",\n",
        "        embedding_dim=768\n",
        "    )"
      ]
    },
    {
      "cell_type": "code",
      "execution_count": null,
      "metadata": {
        "id": "Lq42s9FQKDRX"
      },
      "outputs": [],
      "source": [
        "# get retrievers\n",
        "retriever1, retriever2 = get_retriever(document_store)"
      ]
    },
    {
      "cell_type": "code",
      "execution_count": 14,
      "metadata": {
        "colab": {
          "base_uri": "https://localhost:8080/",
          "height": 243
        },
        "id": "1tEp_3QYKKSa",
        "outputId": "a015a56c-8088-4938-85a4-c797021850ab"
      },
      "outputs": [
        {
          "output_type": "stream",
          "name": "stderr",
          "text": [
            "INFO - haystack.modeling.utils -  Using devices: CPU\n",
            "INFO - haystack.modeling.utils -  Number of GPUs: 0\n",
            "INFO - haystack.modeling.model.language_model -  LOADING MODEL\n",
            "INFO - haystack.modeling.model.language_model -  =============\n",
            "INFO - haystack.modeling.model.language_model -  Could not find deepset/roberta-base-squad2 locally.\n",
            "INFO - haystack.modeling.model.language_model -  Looking on Transformers Model Hub (in local cache and online)...\n",
            "INFO - haystack.modeling.model.language_model -  Loaded deepset/roberta-base-squad2\n",
            "INFO - haystack.modeling.utils -  Using devices: CPU\n",
            "INFO - haystack.modeling.utils -  Number of GPUs: 0\n",
            "INFO - haystack.modeling.infer -  Got ya 2 parallel workers to do inference ...\n",
            "INFO - haystack.modeling.infer -   0     0  \n",
            "INFO - haystack.modeling.infer -  /w\\   /w\\ \n",
            "INFO - haystack.modeling.infer -  /'\\   / \\ \n"
          ]
        }
      ],
      "source": [
        "%%capture\n",
        "# get reader\n",
        "reader = get_reader()"
      ]
    },
    {
      "cell_type": "code",
      "execution_count": 15,
      "metadata": {
        "colab": {
          "base_uri": "https://localhost:8080/"
        },
        "id": "GdxWhgFj6R07",
        "outputId": "987812a0-e730-4d12-8619-260bccbd22d5"
      },
      "outputs": [
        {
          "output_type": "stream",
          "name": "stdout",
          "text": [
            "---> Creating extractive QA Pipeline from reader and retriever\n"
          ]
        }
      ],
      "source": [
        "# combine them into a pipeline\n",
        "pipeline = create_pipeline(reader, retriever2)"
      ]
    },
    {
      "cell_type": "code",
      "source": [
        "pipeline"
      ],
      "metadata": {
        "colab": {
          "base_uri": "https://localhost:8080/"
        },
        "id": "PpYMfmbuTH4k",
        "outputId": "f03dc741-07af-400d-9c15-1ab70a634f66"
      },
      "execution_count": 16,
      "outputs": [
        {
          "output_type": "execute_result",
          "data": {
            "text/plain": [
              "<haystack.pipelines.standard_pipelines.ExtractiveQAPipeline at 0x7f25a2ac1c90>"
            ]
          },
          "metadata": {},
          "execution_count": 16
        }
      ]
    },
    {
      "cell_type": "code",
      "source": [
        "# Test the pipeline and see what the result looks like\n",
        "question = \"What is space debris?\"\n",
        "prediction = pipeline.run(\n",
        "        query=question, params={\"Retriever\": {\"top_k\": 3}, \"Reader\": {\"top_k\": 5}}\n",
        "    )\n",
        "prediction"
      ],
      "metadata": {
        "colab": {
          "base_uri": "https://localhost:8080/"
        },
        "id": "ZhpcEq-PSg4q",
        "outputId": "2ef89a90-3985-48bd-c42c-15466c297696"
      },
      "execution_count": 17,
      "outputs": [
        {
          "output_type": "execute_result",
          "data": {
            "text/plain": [
              "{'answers': [<Answer {'answer': 'a problem', 'type': 'extractive', 'score': 0.23694034665822983, 'context': 'This article considers why space debris is a problem, how space  debris is distributed, what risks space debris poses to satellites, what  internation', 'offsets_in_document': [{'start': 43, 'end': 52}], 'offsets_in_context': [{'start': 43, 'end': 52}], 'document_id': 'af74b43e88ba15d077e3a03249fedf94', 'meta': {'article_title': 'sd_paper_59_m.txt'}}>,\n",
              "  <Answer {'answer': 'Space Traffic Management', 'type': 'extractive', 'score': 0.00607416033744812, 'context': 'What is Space Traffic Management ', 'offsets_in_document': [{'start': 8, 'end': 32}], 'offsets_in_context': [{'start': 8, 'end': 32}], 'document_id': 'a2249fb45863b927bb51bc7185aae83c', 'meta': {'article_title': 'IAASS_paper_135_m.txt'}}>,\n",
              "  <Answer {'answer': 'SPACE OBJECT', 'type': 'extractive', 'score': 0.005973541876301169, 'context': 'B. WHAT IS A SPACE OBJECT   ', 'offsets_in_document': [{'start': 13, 'end': 25}], 'offsets_in_context': [{'start': 13, 'end': 25}], 'document_id': 'c483a71487227da30562ff88bf0dbda3', 'meta': {'article_title': 'IAASS_paper_141_m.txt'}}>,\n",
              "  <Answer {'answer': 'System Safety', 'type': 'extractive', 'score': 0.0027346466667950153, 'context': '1.1  What is System Safety ', 'offsets_in_document': [{'start': 13, 'end': 26}], 'offsets_in_context': [{'start': 13, 'end': 26}], 'document_id': 'ffc20f651fc394543936ab6f2ca4f1b', 'meta': {'article_title': 'IAASS_paper_146_m.txt'}}>,\n",
              "  <Answer {'answer': 'System Safety', 'type': 'extractive', 'score': 0.001846832747105509, 'context': '1.1   What Is System Safety . 6', 'offsets_in_document': [{'start': 14, 'end': 27}], 'offsets_in_context': [{'start': 14, 'end': 27}], 'document_id': 'ffc20f651fc394543936ab6f2ca4f1b', 'meta': {'article_title': 'IAASS_paper_146_m.txt'}}>],\n",
              " 'documents': [<Document: {'content': 'B. WHAT IS A SPACE OBJECT   ', 'content_type': 'text', 'score': None, 'meta': {'article_title': 'IAASS_paper_141_m.txt'}, 'embedding': None, 'id': 'c483a71487227da30562ff88bf0dbda3'}>,\n",
              "  <Document: {'content': 'What is Space Traffic Management ', 'content_type': 'text', 'score': None, 'meta': {'article_title': 'IAASS_paper_135_m.txt'}, 'embedding': None, 'id': 'a2249fb45863b927bb51bc7185aae83c'}>,\n",
              "  <Document: {'content': 'What is the Risk', 'content_type': 'text', 'score': None, 'meta': {'article_title': 'stm_paper_88_m.txt'}, 'embedding': None, 'id': 'd8bf7d33de8c65d6cbabb0237560d7b'}>,\n",
              "  <Document: {'content': 'What is the Risk ', 'content_type': 'text', 'score': None, 'meta': {'article_title': 'stm_paper_88_m.txt'}, 'embedding': None, 'id': 'd8bf7d33de8c65d6cbabb0237560d7b'}>,\n",
              "  <Document: {'content': 'This article considers why space debris is a problem, how space  debris is distributed, what risks space debris poses to satellites, what  international communities have done to ameliorate the problem, and  what we should do in the future.', 'content_type': 'text', 'score': None, 'meta': {'article_title': 'sd_paper_59_m.txt'}, 'embedding': None, 'id': 'af74b43e88ba15d077e3a03249fedf94'}>,\n",
              "  <Document: {'content': 'space.  We must know what the satellite is capable of doing, what it is being used for and what it ', 'content_type': 'text', 'score': None, 'meta': {'article_title': 'SSA_papers_paper_222_m.txt'}, 'embedding': None, 'id': '1f4e7882d3a6df62696d57bf66c6c8ca'}>,\n",
              "  <Document: {'content': 'APPLIES  A. WHAT IS AN AIRCRAFT  B. WHAT IS A SPACE OBJECT  C. WHAT IS AN AEROSPACE VEHICLE  D. PROBLEMS WITH THE FUNCTIONALIST APPROACH ', 'content_type': 'text', 'score': None, 'meta': {'article_title': 'IAASS_paper_141_m.txt'}, 'embedding': None, 'id': 'c483a71487227da30562ff88bf0dbda3'}>,\n",
              "  <Document: {'content': '1.1   What Is System Safety . 6', 'content_type': 'text', 'score': None, 'meta': {'article_title': 'IAASS_paper_146_m.txt'}, 'embedding': None, 'id': 'ffc20f651fc394543936ab6f2ca4f1b'}>,\n",
              "  <Document: {'content': 'WHAT IS   SYSTEM SAFETY', 'content_type': 'text', 'score': None, 'meta': {'article_title': 'IAASS_paper_146_m.txt'}, 'embedding': None, 'id': 'ffc20f651fc394543936ab6f2ca4f1b'}>,\n",
              "  <Document: {'content': '1.1  What is System Safety ', 'content_type': 'text', 'score': None, 'meta': {'article_title': 'IAASS_paper_146_m.txt'}, 'embedding': None, 'id': 'ffc20f651fc394543936ab6f2ca4f1b'}>],\n",
              " 'no_ans_gap': -1.4058020114898682,\n",
              " 'node_id': 'Reader',\n",
              " 'params': {'Reader': {'top_k': 5}, 'Retriever': {'top_k': 10}},\n",
              " 'query': 'What is space debris?',\n",
              " 'root_node': 'Query'}"
            ]
          },
          "metadata": {},
          "execution_count": 17
        }
      ]
    },
    {
      "cell_type": "code",
      "execution_count": 18,
      "metadata": {
        "id": "bxutbG4oNYMw"
      },
      "outputs": [],
      "source": [
        "from fastapi import FastAPI, Response, status\n",
        "from fastapi.testclient import TestClient\n",
        "import pickle\n",
        "import haystack\n",
        "import time\n",
        "import json \n",
        "import haystack\n",
        "from numpy import ndarray"
      ]
    },
    {
      "cell_type": "code",
      "execution_count": 33,
      "metadata": {
        "id": "VyZZ4jwl7u69"
      },
      "outputs": [],
      "source": [
        "app = FastAPI()\n",
        "client = TestClient(app)\n",
        "\n",
        "@app.get('/ping')\n",
        "def index():\n",
        "    return {'pong'}\n",
        "\n",
        "@app.get('/initialized', status_code=200)\n",
        "def index(response: Response):\n",
        "  response.status_code = status.HTTP_201_CREATED\n",
        "  return \"hola\", 200\n",
        "\n",
        "@app.post(\"/fakequery/\", response_model=QueryResponse)\n",
        "def create_item(query: QueryResponse):\n",
        "    print(\"hello1\")\n",
        "    print(query)\n",
        "    return query\n",
        "\n",
        "@app.post(\"/query/\", response_model=QueryResponse, response_model_exclude_none=True)\n",
        "def query(request: QueryRequest):\n",
        "\n",
        "    start_time = time.time()\n",
        "\n",
        "    params = request.params or {}\n",
        "\n",
        "    # format global, top-level filters (e.g. \"params\": {\"filters\": {\"name\": [\"some\"]}})\n",
        "    if \"filters\" in params.keys():\n",
        "        params[\"filters\"] = _format_filters(params[\"filters\"])\n",
        "\n",
        "    # format targeted node filters (e.g. \"params\": {\"Retriever\": {\"filters\": {\"value\"}}})\n",
        "    for key in params.keys():\n",
        "        if \"filters\" in params[key].keys():\n",
        "            params[key][\"filters\"] = _format_filters(params[key][\"filters\"])\n",
        "\n",
        "    result = pipeline.run(query=request.query, params=params, debug=request.debug)\n",
        "\n",
        "    # Ensure answers and documents exist, even if they're empty lists\n",
        "    if not \"documents\" in result:\n",
        "        result[\"documents\"] = []\n",
        "    if not \"answers\" in result:\n",
        "        result[\"answers\"] = []\n",
        "\n",
        "    # if any of the documents contains an embedding as an ndarray the latter needs to be converted to list of float\n",
        "    for document in result[\"documents\"]:\n",
        "        if isinstance(document.embedding, ndarray):\n",
        "            document.embedding = document.embedding.tolist()\n",
        "\n",
        "    return result\n",
        "\n"
      ]
    },
    {
      "cell_type": "code",
      "source": [
        "response = client.get(\"/ping\")\n",
        "print(response.status_code)\n",
        "print(response.json())"
      ],
      "metadata": {
        "colab": {
          "base_uri": "https://localhost:8080/"
        },
        "id": "_s_sIKeYXsF8",
        "outputId": "aefe385d-8600-45be-9f59-9d3ec4e99fab"
      },
      "execution_count": 26,
      "outputs": [
        {
          "output_type": "stream",
          "name": "stdout",
          "text": [
            "200\n",
            "['pong']\n"
          ]
        }
      ]
    },
    {
      "cell_type": "code",
      "source": [
        "response = client.post(\n",
        "    \"/fakequery/\",\n",
        "    # headers={\"X-Token\": \"coneofsilence\"},\n",
        "    json={\"query\": \"how are you?\"},\n",
        ")\n",
        "print(response.status_code, response.json())"
      ],
      "metadata": {
        "colab": {
          "base_uri": "https://localhost:8080/"
        },
        "id": "g6EIU1amh3uc",
        "outputId": "58d15502-9930-4c4b-b00c-8ba27cbbdc26"
      },
      "execution_count": 21,
      "outputs": [
        {
          "output_type": "stream",
          "name": "stdout",
          "text": [
            "hello1\n",
            "query='how are you?' answers=[] documents=[] debug=None\n",
            "200 {'query': 'how are you?', 'answers': [], 'documents': [], '_debug': None}\n"
          ]
        }
      ]
    },
    {
      "cell_type": "code",
      "source": [
        "response = client.post(\n",
        "    \"/query/\",\n",
        "    json={'query': 'What is space debris?', 'params': {'filters': {}, 'Retriever': {'top_k': 3}, 'Reader': {'top_k': 3}}},\n",
        ")\n",
        "print(response.json)\n",
        "# print(response.status_code, response.json())"
      ],
      "metadata": {
        "colab": {
          "base_uri": "https://localhost:8080/"
        },
        "id": "46o9BhRtiu-9",
        "outputId": "324c8c32-6fc0-424d-bd02-6a206372cd42"
      },
      "execution_count": 41,
      "outputs": [
        {
          "output_type": "stream",
          "name": "stdout",
          "text": [
            "--> Running a query: query='What is space debris?' params={'filters': {}, 'Retriever': {'top_k': 3}, 'Reader': {'top_k': 3}} debug=False\n",
            "--> Result from query: {'query': 'What is space debris?', 'no_ans_gap': -10.13113260269165, 'answers': [<Answer {'answer': 'Space Traffic Management', 'type': 'extractive', 'score': 0.00607416033744812, 'context': 'What is Space Traffic Management ', 'offsets_in_document': [{'start': 8, 'end': 32}], 'offsets_in_context': [{'start': 8, 'end': 32}], 'document_id': 'a2249fb45863b927bb51bc7185aae83c', 'meta': {'article_title': 'IAASS_paper_135_m.txt'}}>, <Answer {'answer': 'SPACE OBJECT', 'type': 'extractive', 'score': 0.005973541876301169, 'context': 'B. WHAT IS A SPACE OBJECT   ', 'offsets_in_document': [{'start': 13, 'end': 25}], 'offsets_in_context': [{'start': 13, 'end': 25}], 'document_id': 'c483a71487227da30562ff88bf0dbda3', 'meta': {'article_title': 'IAASS_paper_141_m.txt'}}>, <Answer {'answer': 'Risk', 'type': 'extractive', 'score': 0.00030151756072882563, 'context': 'What is the Risk', 'offsets_in_document': [{'start': 12, 'end': 16}], 'offsets_in_context': [{'start': 12, 'end': 16}], 'document_id': 'd8bf7d33de8c65d6cbabb0237560d7b', 'meta': {'article_title': 'stm_paper_88_m.txt'}}>], 'documents': [<Document: {'content': 'B. WHAT IS A SPACE OBJECT   ', 'content_type': 'text', 'score': None, 'meta': {'article_title': 'IAASS_paper_141_m.txt'}, 'embedding': None, 'id': 'c483a71487227da30562ff88bf0dbda3'}>, <Document: {'content': 'What is Space Traffic Management ', 'content_type': 'text', 'score': None, 'meta': {'article_title': 'IAASS_paper_135_m.txt'}, 'embedding': None, 'id': 'a2249fb45863b927bb51bc7185aae83c'}>, <Document: {'content': 'What is the Risk', 'content_type': 'text', 'score': None, 'meta': {'article_title': 'stm_paper_88_m.txt'}, 'embedding': None, 'id': 'd8bf7d33de8c65d6cbabb0237560d7b'}>], 'root_node': 'Query', 'params': {'filters': {}, 'Retriever': {'top_k': 3}, 'Reader': {'top_k': 3}, 'Query': {}}, 'node_id': 'Reader'}\n",
            "--> End of process_request:\n",
            "request: query='What is space debris?' params={'filters': {}, 'Retriever': {'top_k': 3}, 'Reader': {'top_k': 3}, 'Query': {'debug': False}} debug=False\n",
            "response <Response [200]>\n",
            "time: 4.73\n",
            "<bound method Response.json of <Response [200]>>\n"
          ]
        }
      ]
    },
    {
      "cell_type": "code",
      "source": [
        "response.json()"
      ],
      "metadata": {
        "id": "Jy3VFmBTBggo"
      },
      "execution_count": null,
      "outputs": []
    },
    {
      "cell_type": "code",
      "source": [
        "from haystack.schema import Label\n",
        "from typing import Any, Dict, List, Union, Optional\n",
        "\n",
        "@app.post(\"/feedback/\")\n",
        "def post_feedback(feedback: Union[LabelSerialized, CreateLabelSerialized]):\n",
        "    if feedback.origin is None:\n",
        "        feedback.origin = \"user-feedback\"\n",
        "    label = Label(**feedback.dict())\n",
        "    document_store.write_labels([label])\n",
        "\n",
        "@app.get(\"/feedback/\", response_model=List[LabelSerialized])\n",
        "def get_feedback():\n",
        "    labels = document_store.get_all_labels()\n",
        "    return labels\n",
        "\n",
        "@app.delete(\"/feedback/\")\n",
        "def delete_feedback():\n",
        "    all_labels = document_store.get_all_labels()\n",
        "    user_label_ids = [label.id for label in all_labels if label.origin == \"user-feedback\"]\n",
        "    document_store.delete_labels(ids=user_label_ids)\n",
        "\n",
        "@app.post(\"/eval-feedback/\")\n",
        "def get_feedback_metrics(filters: FilterRequest = None):\n",
        "    if filters:\n",
        "        filters_content = filters.filters or {}\n",
        "        filters_content[\"origin\"] = [\"user-feedback\"]\n",
        "    else:\n",
        "        filters_content = {\"origin\": [\"user-feedback\"]}\n",
        "    labels = document_store.get_all_labels(filters=filters_content)\n",
        "    res: Dict[str, Optional[Union[float, int]]]\n",
        "    if len(labels) > 0:\n",
        "        answer_feedback = [1 if l.is_correct_answer else 0 for l in labels]\n",
        "        doc_feedback = [1 if l.is_correct_document else 0 for l in labels]\n",
        "        answer_accuracy = sum(answer_feedback) / len(answer_feedback)\n",
        "        doc_accuracy = sum(doc_feedback) / len(doc_feedback)\n",
        "        res = {\"answer_accuracy\": answer_accuracy, \"document_accuracy\": doc_accuracy, \"n_feedback\": len(labels)}\n",
        "    else:\n",
        "        res = {\"answer_accuracy\": None, \"document_accuracy\": None, \"n_feedback\": 0}\n",
        "    return res\n",
        "\n",
        "@app.get(\"/export-feedback/\")\n",
        "def export_feedback(context_size: int = 100_000, full_document_context: bool = True, only_positive_labels: bool = False):\n",
        "    \"\"\"\n",
        "    This endpoint returns JSON output in the SQuAD format for question/answer pairs\n",
        "    that were marked as \"relevant\" by user feedback through the `POST /feedback` endpoint.\n",
        "    The context_size param can be used to limit response size for large documents.\n",
        "    \"\"\"\n",
        "    if only_positive_labels:\n",
        "        labels = document_store.get_all_labels(filters={\"is_correct_answer\": [True], \"origin\": [\"user-feedback\"]})\n",
        "    else:\n",
        "        labels = document_store.get_all_labels(filters={\"origin\": [\"user-feedback\"]})\n",
        "        # Filter out the labels where the passage is correct but answer is wrong (in SQuAD this matches\n",
        "        # neither a \"positive example\" nor a negative \"is_impossible\" one)\n",
        "        labels = [l for l in labels if not (l.is_correct_document is True and l.is_correct_answer is False)]\n",
        "    export_data = []\n",
        "    for label in labels:\n",
        "        answer_text = label.answer.answer if label and label.answer else \"\"\n",
        "        offset_start_in_document = 0\n",
        "        if label.answer and label.answer.offsets_in_document:\n",
        "            offset_start_in_document = label.answer.offsets_in_document[0].start\n",
        "        if full_document_context:\n",
        "            context = label.document.content\n",
        "            answer_start = offset_start_in_document\n",
        "        else:\n",
        "            text = label.document.content\n",
        "            # the final length of context(including the answer string) is 'context_size'.\n",
        "            # we try to add equal characters for context before and after the answer string.\n",
        "            # if either beginning or end of text is reached, we correspondingly\n",
        "            # append more context characters at the other end of answer string.\n",
        "            context_to_add = int((context_size - len(answer_text)) / 2)\n",
        "            start_pos = max(offset_start_in_document - context_to_add, 0)\n",
        "            additional_context_at_end = max(context_to_add - offset_start_in_document, 0)\n",
        "            end_pos = min(offset_start_in_document + len(answer_text) + context_to_add, len(text) - 1)\n",
        "            additional_context_at_start = max(offset_start_in_document + len(answer_text) + context_to_add - len(text), 0)\n",
        "            start_pos = max(0, start_pos - additional_context_at_start)\n",
        "            end_pos = min(len(text) - 1, end_pos + additional_context_at_end)\n",
        "            context = text[start_pos:end_pos]\n",
        "            answer_start = offset_start_in_document - start_pos\n",
        "        squad_label: Dict[str, Any]\n",
        "        if label.is_correct_answer is False and label.is_correct_document is False:  # No answer\n",
        "            squad_label = {\"paragraphs\": [{\n",
        "                        \"context\": context,\n",
        "                        \"id\": label.document.id,\n",
        "                        \"qas\": [{\"question\": label.query, \"id\": label.id, \"is_impossible\": True, \"answers\": []}],}]}\n",
        "        else:\n",
        "            squad_label = {\"paragraphs\": [{\n",
        "                        \"context\": context,\n",
        "                        \"id\": label.document.id,\n",
        "                        \"qas\": [{\n",
        "                                \"question\": label.query,\n",
        "                                \"id\": label.id,\n",
        "                                \"is_impossible\": False,\n",
        "                                \"answers\": [{\"text\": answer_text, \"answer_start\": answer_start}],}],}]}\n",
        "            # quality check\n",
        "            start = squad_label[\"paragraphs\"][0][\"qas\"][0][\"answers\"][0][\"answer_start\"]\n",
        "            answer = squad_label[\"paragraphs\"][0][\"qas\"][0][\"answers\"][0][\"text\"]\n",
        "            context = squad_label[\"paragraphs\"][0][\"context\"]\n",
        "            if not context[start : start + len(answer)] == answer:\n",
        "                print(f\"Skipping invalid squad label as string via offsets \",f\"('{context[start:start + len(answer)]}') does not match answer string ('{answer}') \")\n",
        "        export_data.append(squad_label)\n",
        "    export = {\"data\": export_data}\n",
        "    with open(\"feedback_squad_direct.json\", \"w\", encoding=\"utf8\") as f:\n",
        "        json.dump(export_data, f, ensure_ascii=False, sort_keys=True, indent=4)\n",
        "    return export"
      ],
      "metadata": {
        "id": "HkhEzl9UXsA6"
      },
      "execution_count": 66,
      "outputs": []
    },
    {
      "cell_type": "code",
      "source": [
        "response = client.post(\"/feedback/\",\n",
        "    json={\n",
        "      'query': 'How many sessions were planned at the Fourth European Conference on Space Debris?',\n",
        "      'document': {\n",
        "        'content': 'The 5th IAASS Conference was held  17 19 October in Versailles, France.  The 3 day  conference consisted of  forty 2 hour sessions  devoted to a number of  general space safety  issues including three sessions on spacecraft  reentry, four sessions on space traffic, two  sessions on space debris, one session on debris ',\n",
        "        'content_type': 'text',\n",
        "        'id': '9c91054b96e9267e1f3476ea6467980a',\n",
        "        'meta': {\n",
        "          'article_title': 'nasa_odqn_paper_295_m.txt'\n",
        "        }\n",
        "      },\n",
        "      'is_correct_answer': True,\n",
        "      'is_correct_document': True,\n",
        "      'origin': 'user-feedback',\n",
        "      'answer': {\n",
        "        'answer': 'two',\n",
        "        'type': 'extractive',\n",
        "        'score': 0.4920458346605301,\n",
        "        'context': ' safety  issues including three sessions on spacecraft  reentry, four sessions on space traffic, two  sessions on space debris, one session on debris ',\n",
        "        'offsets_in_document': [{\n",
        "          'start': 266,\n",
        "          'end': 269\n",
        "        }],\n",
        "        'offsets_in_context': [{\n",
        "          'start': 97,\n",
        "          'end': 100\n",
        "        }],\n",
        "        'document_id': '9c91054b96e9267e1f3476ea6467980a',\n",
        "        'meta': {\n",
        "          'article_title': 'nasa_odqn_paper_295_m.txt'\n",
        "        }\n",
        "      }\n",
        "    },\n",
        ")\n",
        "response.status_code, response.json()\n"
      ],
      "metadata": {
        "colab": {
          "base_uri": "https://localhost:8080/"
        },
        "id": "xuAjwbZSm81y",
        "outputId": "6f058ccf-1e37-401d-bd90-2580b771f603"
      },
      "execution_count": 62,
      "outputs": [
        {
          "output_type": "execute_result",
          "data": {
            "text/plain": [
              "(200, None)"
            ]
          },
          "metadata": {},
          "execution_count": 62
        }
      ]
    },
    {
      "cell_type": "code",
      "source": [
        "response = client.get(\"/feedback/\")\n",
        "print(response.status_code)\n",
        "response.json()"
      ],
      "metadata": {
        "id": "A0lFLcYSm8zX"
      },
      "execution_count": null,
      "outputs": []
    },
    {
      "cell_type": "code",
      "source": [
        "response = client.delete(\"/feedback/\")\n",
        "print(response.status_code)\n",
        "response.json()"
      ],
      "metadata": {
        "id": "lEZ2Xz0Bm8u1"
      },
      "execution_count": null,
      "outputs": []
    },
    {
      "cell_type": "code",
      "source": [
        "response = client.post(\"/eval-feedback/\")\n",
        "print(response.status_code)\n",
        "response.json()"
      ],
      "metadata": {
        "colab": {
          "base_uri": "https://localhost:8080/"
        },
        "id": "2smYhGk2syVI",
        "outputId": "2fc75152-ef3f-4871-9027-d4360f593455"
      },
      "execution_count": 64,
      "outputs": [
        {
          "output_type": "stream",
          "name": "stdout",
          "text": [
            "200\n"
          ]
        },
        {
          "output_type": "execute_result",
          "data": {
            "text/plain": [
              "{'answer_accuracy': 1.0, 'document_accuracy': 1.0, 'n_feedback': 2}"
            ]
          },
          "metadata": {},
          "execution_count": 64
        }
      ]
    },
    {
      "cell_type": "code",
      "source": [
        "response = client.get(\"/export-feedback/\")\n",
        "print(response.status_code)\n",
        "response.json()"
      ],
      "metadata": {
        "colab": {
          "base_uri": "https://localhost:8080/"
        },
        "id": "gxPvK-1MsySU",
        "outputId": "fb317236-c3e6-4b67-f3a6-216506af9ff9"
      },
      "execution_count": 65,
      "outputs": [
        {
          "output_type": "stream",
          "name": "stdout",
          "text": [
            "200\n"
          ]
        },
        {
          "output_type": "execute_result",
          "data": {
            "text/plain": [
              "{'data': [{'paragraphs': [{'context': 'The 5th IAASS Conference was held  17 19 October in Versailles, France.  The 3 day  conference consisted of  forty 2 hour sessions  devoted to a number of  general space safety  issues including three sessions on spacecraft  reentry, four sessions on space traffic, two  sessions on space debris, one session on debris ',\n",
              "     'id': '9c91054b96e9267e1f3476ea6467980a',\n",
              "     'qas': [{'answers': [{'answer_start': 266, 'text': 'two'}],\n",
              "       'id': 'e194b0d2-4e98-499a-90fe-da0fccbf1c39',\n",
              "       'is_impossible': False,\n",
              "       'question': 'How many sessions were planned at the Fourth European Conference on Space Debris?'}]}]},\n",
              "  {'paragraphs': [{'context': 'The 5th IAASS Conference was held  17 19 October in Versailles, France.  The 3 day  conference consisted of  forty 2 hour sessions  devoted to a number of  general space safety  issues including three sessions on spacecraft  reentry, four sessions on space traffic, two  sessions on space debris, one session on debris ',\n",
              "     'id': '9c91054b96e9267e1f3476ea6467980a',\n",
              "     'qas': [{'answers': [{'answer_start': 266, 'text': 'two'}],\n",
              "       'id': '89505ba6-ead0-493f-a2b6-f0cb936eb4f0',\n",
              "       'is_impossible': False,\n",
              "       'question': 'How many sessions were planned at the Fourth European Conference on Space Debris?'}]}]}]}"
            ]
          },
          "metadata": {},
          "execution_count": 65
        }
      ]
    },
    {
      "cell_type": "code",
      "source": [
        ""
      ],
      "metadata": {
        "id": "upVwGhpgsyPm"
      },
      "execution_count": null,
      "outputs": []
    },
    {
      "cell_type": "code",
      "source": [
        ""
      ],
      "metadata": {
        "id": "Ix5krIX5m8nh"
      },
      "execution_count": null,
      "outputs": []
    },
    {
      "cell_type": "code",
      "source": [
        "from pyngrok import ngrok\n",
        "ngrok.set_auth_token(\"2Cic2NFLJHneI0vmcTJfWs46ZQU_53MiGMPf8CJkdtvYw5JAJ\")"
      ],
      "metadata": {
        "id": "2vgc0CCPCQC4"
      },
      "execution_count": 44,
      "outputs": []
    },
    {
      "cell_type": "code",
      "execution_count": 45,
      "metadata": {
        "id": "JWAP5KLhL3Tt"
      },
      "outputs": [],
      "source": [
        "from colabcode import ColabCode\n",
        "server = ColabCode(port=10000, code=False)"
      ]
    },
    {
      "cell_type": "code",
      "source": [
        "'https://31a3-35-229-214-25.ngrok.io'"
      ],
      "metadata": {
        "id": "q_bjSIlwGbfc"
      },
      "execution_count": null,
      "outputs": []
    },
    {
      "cell_type": "code",
      "execution_count": 67,
      "metadata": {
        "colab": {
          "base_uri": "https://localhost:8080/"
        },
        "id": "ofBI9PjaMTQF",
        "outputId": "f05bb8da-e010-4b01-85fb-7d9f02ad5af5"
      },
      "outputs": [
        {
          "output_type": "stream",
          "name": "stdout",
          "text": [
            "Public URL: NgrokTunnel: \"https://31a3-35-229-214-25.ngrok.io\" -> \"http://localhost:10000\"\n"
          ]
        },
        {
          "output_type": "stream",
          "name": "stderr",
          "text": [
            "INFO:     Started server process [61]\n",
            "INFO - uvicorn.error -  Started server process [61]\n",
            "INFO:     Waiting for application startup.\n",
            "INFO - uvicorn.error -  Waiting for application startup.\n",
            "INFO:     Application startup complete.\n",
            "INFO - uvicorn.error -  Application startup complete.\n",
            "INFO:     Uvicorn running on http://127.0.0.1:10000 (Press CTRL+C to quit)\n",
            "INFO - uvicorn.error -  Uvicorn running on http://127.0.0.1:10000 (Press CTRL+C to quit)\n"
          ]
        },
        {
          "output_type": "stream",
          "name": "stdout",
          "text": [
            "INFO:     54.155.47.149:0 - \"GET /initialized HTTP/1.1\" 201 Created\n",
            "INFO:     54.155.47.149:0 - \"GET /initialized HTTP/1.1\" 201 Created\n",
            "INFO:     54.155.47.149:0 - \"GET /initialized HTTP/1.1\" 201 Created\n",
            "INFO:     54.155.47.149:0 - \"GET /initialized HTTP/1.1\" 201 Created\n",
            "INFO:     54.155.47.149:0 - \"GET /initialized HTTP/1.1\" 201 Created\n",
            "INFO:     54.155.47.149:0 - \"POST /query HTTP/1.1\" 307 Temporary Redirect\n",
            "--> Running a query: query='How many sessions were planned at the Fourth European Conference on Space Debris?' params={'filters': {}, 'Retriever': {'top_k': 3}, 'Reader': {'top_k': 3}} debug=False\n",
            "INFO:     54.155.47.149:0 - \"GET /initialized HTTP/1.1\" 201 Created\n",
            "INFO:     54.155.47.149:0 - \"POST /query HTTP/1.1\" 307 Temporary Redirect\n",
            "--> Running a query: query='How many sessions were planned at the Fourth European Conference on Space Debris?' params={'filters': {}, 'Retriever': {'top_k': 3}, 'Reader': {'top_k': 3}} debug=False\n",
            "--> Result from query: {'query': 'How many sessions were planned at the Fourth European Conference on Space Debris?', 'no_ans_gap': 7.294273853302002, 'answers': [<Answer {'answer': 'nine', 'type': 'extractive', 'score': 0.9267778992652893, 'context': 'e Operations Centre ESOC in  Darmstadt, Germany on 18 20 April 2005. It  included nine technical sessions Groundbased Measurements Radar and Optical, ', 'offsets_in_document': [{'start': 161, 'end': 165}], 'offsets_in_context': [{'start': 82, 'end': 86}], 'document_id': '39a9ac37ab40dab0333d3e12151611a1', 'meta': {'article_title': 'nasa_odqn_paper_362_m.txt'}}>, <Answer {'answer': 'Six', 'type': 'extractive', 'score': 0.8939991295337677, 'context': 'he conference will be held at the European  Space Operations Centre ESOC. Six sessions  have been planned to include measurements and  modeling of deb', 'offsets_in_document': [{'start': 185, 'end': 188}], 'offsets_in_context': [{'start': 74, 'end': 77}], 'document_id': '5328c78df7b0e526ca2cb5c598d8a2a0', 'meta': {'article_title': 'nasa_odqn_paper_359_m.txt'}}>], 'documents': [<Document: {'content': ' The Fourth European Conference on  Space Debris was held at the European  Space Operations Centre ESOC in  Darmstadt, Germany on 18 20 April 2005. It  included nine technical sessions Groundbased Measurements Radar and Optical, ', 'content_type': 'text', 'score': None, 'meta': {'article_title': 'nasa_odqn_paper_362_m.txt'}, 'embedding': None, 'id': '39a9ac37ab40dab0333d3e12151611a1'}>, <Document: {'content': 'European Conference on Space Debris, Darmstadt, ', 'content_type': 'text', 'score': None, 'meta': {'article_title': 'Arxiv_paper_34_m.txt'}, 'embedding': None, 'id': '3ed55de08a2a6ff8a5909d9dd4e776a'}>, <Document: {'content': 'UPCOMING   MEETING  18 20 April 2005 Fourth European Conference  on Space Debris, Darmstadt, Germany.         The conference will be held at the European  Space Operations Centre ESOC. Six sessions  have been planned to include measurements and  modeling of debris and meteoroids, hypervelocity  impacts, risk assessments and debris mitigation,  and standards and regulations. For further information contact Walter.Fluryesa.int or go to http   .', 'content_type': 'text', 'score': None, 'meta': {'article_title': 'nasa_odqn_paper_359_m.txt'}, 'embedding': None, 'id': '5328c78df7b0e526ca2cb5c598d8a2a0'}>], 'root_node': 'Query', 'params': {'filters': {}, 'Retriever': {'top_k': 3}, 'Reader': {'top_k': 3}, 'Query': {}}, 'node_id': 'Reader'}\n",
            "--> End of process_request:\n",
            "request: query='How many sessions were planned at the Fourth European Conference on Space Debris?' params={'filters': {}, 'Retriever': {'top_k': 3}, 'Reader': {'top_k': 3}, 'Query': {'debug': False}} debug=False\n",
            "response <Response [200]>\n",
            "time: 7.45\n",
            "INFO:     54.155.47.149:0 - \"POST /query/ HTTP/1.1\" 200 OK\n",
            "--> Result from query: {'query': 'How many sessions were planned at the Fourth European Conference on Space Debris?', 'no_ans_gap': 7.294273853302002, 'answers': [<Answer {'answer': 'nine', 'type': 'extractive', 'score': 0.9267778992652893, 'context': 'e Operations Centre ESOC in  Darmstadt, Germany on 18 20 April 2005. It  included nine technical sessions Groundbased Measurements Radar and Optical, ', 'offsets_in_document': [{'start': 161, 'end': 165}], 'offsets_in_context': [{'start': 82, 'end': 86}], 'document_id': '39a9ac37ab40dab0333d3e12151611a1', 'meta': {'article_title': 'nasa_odqn_paper_362_m.txt'}}>, <Answer {'answer': 'Six', 'type': 'extractive', 'score': 0.8939991295337677, 'context': 'he conference will be held at the European  Space Operations Centre ESOC. Six sessions  have been planned to include measurements and  modeling of deb', 'offsets_in_document': [{'start': 185, 'end': 188}], 'offsets_in_context': [{'start': 74, 'end': 77}], 'document_id': '5328c78df7b0e526ca2cb5c598d8a2a0', 'meta': {'article_title': 'nasa_odqn_paper_359_m.txt'}}>], 'documents': [<Document: {'content': ' The Fourth European Conference on  Space Debris was held at the European  Space Operations Centre ESOC in  Darmstadt, Germany on 18 20 April 2005. It  included nine technical sessions Groundbased Measurements Radar and Optical, ', 'content_type': 'text', 'score': None, 'meta': {'article_title': 'nasa_odqn_paper_362_m.txt'}, 'embedding': None, 'id': '39a9ac37ab40dab0333d3e12151611a1'}>, <Document: {'content': 'European Conference on Space Debris, Darmstadt, ', 'content_type': 'text', 'score': None, 'meta': {'article_title': 'Arxiv_paper_34_m.txt'}, 'embedding': None, 'id': '3ed55de08a2a6ff8a5909d9dd4e776a'}>, <Document: {'content': 'UPCOMING   MEETING  18 20 April 2005 Fourth European Conference  on Space Debris, Darmstadt, Germany.         The conference will be held at the European  Space Operations Centre ESOC. Six sessions  have been planned to include measurements and  modeling of debris and meteoroids, hypervelocity  impacts, risk assessments and debris mitigation,  and standards and regulations. For further information contact Walter.Fluryesa.int or go to http   .', 'content_type': 'text', 'score': None, 'meta': {'article_title': 'nasa_odqn_paper_359_m.txt'}, 'embedding': None, 'id': '5328c78df7b0e526ca2cb5c598d8a2a0'}>], 'root_node': 'Query', 'params': {'filters': {}, 'Retriever': {'top_k': 3}, 'Reader': {'top_k': 3}, 'Query': {}}, 'node_id': 'Reader'}\n",
            "--> End of process_request:\n",
            "request: query='How many sessions were planned at the Fourth European Conference on Space Debris?' params={'filters': {}, 'Retriever': {'top_k': 3}, 'Reader': {'top_k': 3}, 'Query': {'debug': False}} debug=False\n",
            "response <Response [200]>\n",
            "time: 6.11\n",
            "INFO:     54.155.47.149:0 - \"POST /query/ HTTP/1.1\" 200 OK\n",
            "INFO:     54.155.47.149:0 - \"GET /initialized HTTP/1.1\" 201 Created\n",
            "INFO:     54.155.47.149:0 - \"GET /initialized HTTP/1.1\" 201 Created\n",
            "INFO:     54.155.47.149:0 - \"GET /initialized HTTP/1.1\" 201 Created\n",
            "INFO:     54.155.47.149:0 - \"GET /initialized HTTP/1.1\" 201 Created\n",
            "INFO:     54.155.47.149:0 - \"GET /initialized HTTP/1.1\" 201 Created\n",
            "INFO:     54.155.47.149:0 - \"GET /initialized HTTP/1.1\" 201 Created\n",
            "INFO:     54.155.47.149:0 - \"GET /initialized HTTP/1.1\" 201 Created\n",
            "INFO:     54.155.47.149:0 - \"GET /initialized HTTP/1.1\" 201 Created\n",
            "INFO:     54.155.47.149:0 - \"GET /initialized HTTP/1.1\" 201 Created\n",
            "INFO:     54.155.47.149:0 - \"GET /initialized HTTP/1.1\" 201 Created\n",
            "INFO:     54.155.47.149:0 - \"GET /initialized HTTP/1.1\" 201 Created\n",
            "INFO:     54.155.47.149:0 - \"GET /initialized HTTP/1.1\" 201 Created\n",
            "INFO:     54.155.47.149:0 - \"GET /initialized HTTP/1.1\" 201 Created\n",
            "INFO:     54.155.47.149:0 - \"GET /initialized HTTP/1.1\" 201 Created\n",
            "INFO:     54.155.47.149:0 - \"GET /initialized HTTP/1.1\" 201 Created\n",
            "INFO:     54.155.47.149:0 - \"GET /initialized HTTP/1.1\" 201 Created\n",
            "INFO:     54.155.47.149:0 - \"GET /initialized HTTP/1.1\" 201 Created\n",
            "INFO:     54.155.47.149:0 - \"GET /initialized HTTP/1.1\" 201 Created\n",
            "INFO:     54.155.47.149:0 - \"GET /initialized HTTP/1.1\" 201 Created\n",
            "INFO:     54.155.47.149:0 - \"GET /initialized HTTP/1.1\" 201 Created\n",
            "INFO:     54.155.47.149:0 - \"GET /initialized HTTP/1.1\" 201 Created\n",
            "INFO:     54.155.47.149:0 - \"GET /initialized HTTP/1.1\" 201 Created\n",
            "INFO:     54.155.47.149:0 - \"GET /initialized HTTP/1.1\" 201 Created\n",
            "INFO:     54.155.47.149:0 - \"GET /initialized HTTP/1.1\" 201 Created\n",
            "INFO:     54.155.47.149:0 - \"GET /initialized HTTP/1.1\" 201 Created\n",
            "INFO:     34.254.189.69:0 - \"GET /initialized HTTP/1.1\" 201 Created\n",
            "INFO:     34.254.189.69:0 - \"GET /initialized HTTP/1.1\" 201 Created\n",
            "INFO:     34.254.189.69:0 - \"GET /initialized HTTP/1.1\" 201 Created\n",
            "INFO:     34.254.189.69:0 - \"GET /initialized HTTP/1.1\" 201 Created\n",
            "INFO:     34.254.189.69:0 - \"GET /initialized HTTP/1.1\" 201 Created\n",
            "INFO:     34.254.189.69:0 - \"GET /initialized HTTP/1.1\" 201 Created\n",
            "INFO:     34.254.189.69:0 - \"GET /initialized HTTP/1.1\" 201 Created\n",
            "INFO:     34.254.189.69:0 - \"GET /initialized HTTP/1.1\" 201 Created\n",
            "INFO:     34.254.189.69:0 - \"GET /initialized HTTP/1.1\" 201 Created\n",
            "INFO:     34.254.189.69:0 - \"GET /initialized HTTP/1.1\" 201 Created\n",
            "INFO:     34.254.189.69:0 - \"GET /initialized HTTP/1.1\" 201 Created\n",
            "INFO:     34.244.172.160:0 - \"GET /initialized HTTP/1.1\" 201 Created\n",
            "INFO:     34.244.172.160:0 - \"GET /initialized HTTP/1.1\" 201 Created\n",
            "INFO:     34.244.172.160:0 - \"GET /initialized HTTP/1.1\" 201 Created\n",
            "INFO:     34.244.172.160:0 - \"GET /initialized HTTP/1.1\" 201 Created\n",
            "INFO:     34.244.172.160:0 - \"GET /initialized HTTP/1.1\" 201 Created\n",
            "INFO:     34.244.172.160:0 - \"GET /initialized HTTP/1.1\" 201 Created\n",
            "INFO:     34.244.172.160:0 - \"POST /query HTTP/1.1\" 307 Temporary Redirect\n",
            "--> Running a query: query=\"'What is the most essential information for a reliable collision prediction?'\" params={'filters': {}, 'Retriever': {'top_k': 10}, 'Reader': {'top_k': 10}} debug=False\n",
            "--> Result from query: {'query': \"'What is the most essential information for a reliable collision prediction?'\", 'no_ans_gap': 8.896856307983398, 'answers': [<Answer {'answer': 'The standard deviation or the measurement', 'type': 'extractive', 'score': 0.6994068920612335, 'context': 't, but not the standard deviation of  the measurement. The standard deviation or the measurement  however is the most essential information for a reli', 'offsets_in_document': [{'start': 341, 'end': 382}], 'offsets_in_context': [{'start': 55, 'end': 96}], 'document_id': '5249ec367a6f2c34b3e0c4493c728fed', 'meta': {'article_title': 'ssa_paper_42_m.txt'}}>, <Answer {'answer': 'actor', 'type': 'extractive', 'score': 0.4723450392484665, 'context': 'reliable and essential actor to count on. ', 'offsets_in_document': [{'start': 23, 'end': 28}], 'offsets_in_context': [{'start': 23, 'end': 28}], 'document_id': 'b4792af998c6dfbafdd2839f51890248', 'meta': {'article_title': 'pp_paper_11_m.txt'}}>, <Answer {'answer': 'change a satellite orbit', 'type': 'extractive', 'score': 0.3760470300912857, 'context': 'e reliable. Only with a reliable  prediction it makes sense to change a satellite orbit to avoid a  collision. This and several others were the reason', 'offsets_in_document': [{'start': 714, 'end': 738}], 'offsets_in_context': [{'start': 63, 'end': 87}], 'document_id': '5249ec367a6f2c34b3e0c4493c728fed', 'meta': {'article_title': 'ssa_paper_42_m.txt'}}>, <Answer {'answer': 'prediction time', 'type': 'extractive', 'score': 0.0716667827218771, 'context': 'A similar non typical decrease of prediction errors with increasing prediction time is also observed for the prediction of F10.7 in cycle 24 Figure 5,', 'offsets_in_document': [{'start': 112, 'end': 127}], 'offsets_in_context': [{'start': 68, 'end': 83}], 'document_id': '93b803bc8edbbe4515756ce9d656f84a', 'meta': {'article_title': 'Arxiv_paper_87_m.txt'}}>, <Answer {'answer': 'Risk', 'type': 'extractive', 'score': 0.049117657355964184, 'context': 'What is the Risk ', 'offsets_in_document': [{'start': 12, 'end': 16}], 'offsets_in_context': [{'start': 12, 'end': 16}], 'document_id': 'd8bf7d33de8c65d6cbabb0237560d7b', 'meta': {'article_title': 'stm_paper_88_m.txt'}}>, <Answer {'answer': 'risk', 'type': 'extractive', 'score': 0.02993674948811531, 'context': 'collision risk prediction', 'offsets_in_document': [{'start': 10, 'end': 14}], 'offsets_in_context': [{'start': 10, 'end': 14}], 'document_id': 'bd52a136fbf11f3e2606d6fdbe4927ad', 'meta': {'article_title': 'IAASS_paper_132_m.txt'}}>, <Answer {'answer': 'Risk', 'type': 'extractive', 'score': 0.029884372372180223, 'context': 'What is the Risk', 'offsets_in_document': [{'start': 12, 'end': 16}], 'offsets_in_context': [{'start': 12, 'end': 16}], 'document_id': 'd8bf7d33de8c65d6cbabb0237560d7b', 'meta': {'article_title': 'stm_paper_88_m.txt'}}>, <Answer {'answer': 'collision is', 'type': 'extractive', 'score': 0.013354629918467253, 'context': 'collision is', 'offsets_in_document': [{'start': 0, 'end': 12}], 'offsets_in_context': [{'start': 0, 'end': 12}], 'document_id': '3027dfa599735ccb7cfd05f7f9f4d6df', 'meta': {'article_title': 'Arxiv_paper_38_m.txt'}}>, <Answer {'answer': 'prediction', 'type': 'extractive', 'score': 0.002456404676195234, 'context': 'prediction', 'offsets_in_document': [{'start': 0, 'end': 10}], 'offsets_in_context': [{'start': 0, 'end': 10}], 'document_id': 'bd52a136fbf11f3e2606d6fdbe4927ad', 'meta': {'article_title': 'IAASS_paper_132_m.txt'}}>, <Answer {'answer': 'PREDICTION', 'type': 'extractive', 'score': 0.0007938727212604135, 'context': 'AND PREDICTION', 'offsets_in_document': [{'start': 4, 'end': 14}], 'offsets_in_context': [{'start': 4, 'end': 14}], 'document_id': '5dad29fa74904fede6749cbb0436e859', 'meta': {'article_title': 'NASA_references_pdfs_paper_149_m.txt'}}>], 'documents': [<Document: {'content': '  Collision prediction ', 'content_type': 'text', 'score': None, 'meta': {'article_title': 'stm_paper_18_m.txt'}, 'embedding': None, 'id': 'd8876010604782d08241d0e1e8841425'}>, <Document: {'content': 'collision risk prediction', 'content_type': 'text', 'score': None, 'meta': {'article_title': 'IAASS_paper_132_m.txt'}, 'embedding': None, 'id': 'bd52a136fbf11f3e2606d6fdbe4927ad'}>, <Document: {'content': 'worldwide sensor network is a requirement for an SSA system.  But the main issue with the sensors currently in use is that they  have been developed in the cold war for military purposes and  they are still used for this. This means the published two line  element data contain the orbit, but not the standard deviation of  the measurement. The standard deviation or the measurement  however is the most essential information for a reliable  collision prediction. Only with this it is possible to give a  reliable percentage of likeliness of a collision. This means that  all SSA tools on the market, which are using Two Line  Element data, will not be reliable. Only with a reliable  prediction it makes sense to change a satellite orbit to avoid a  collision. This and several others were the reasons for Europe  to start working on their own SSA system. The issue is that  Europe has a number of telescopes and some radar, but none of  these has been build for SSA purposes.  For SSA purposes  surveillance radar with a very good resolution would be needed  to detect objects and keep tracks up to date. But this only  delivers tracks of all objects. It does not provide any  information about what object it is. For the information what is  the object a telescope or imaging radar with very high  resolution is needed. It is obvious that the pure number of  objects to determine and track requires a lot of infrastructure. ', 'content_type': 'text', 'score': None, 'meta': {'article_title': 'ssa_paper_42_m.txt'}, 'embedding': None, 'id': '5249ec367a6f2c34b3e0c4493c728fed'}>, <Document: {'content': 'prediction', 'content_type': 'text', 'score': None, 'meta': {'article_title': 'IAASS_paper_132_m.txt'}, 'embedding': None, 'id': 'bd52a136fbf11f3e2606d6fdbe4927ad'}>, <Document: {'content': 'reliable and essential actor to count on. ', 'content_type': 'text', 'score': None, 'meta': {'article_title': 'pp_paper_11_m.txt'}, 'embedding': None, 'id': 'b4792af998c6dfbafdd2839f51890248'}>, <Document: {'content': 'AND PREDICTION', 'content_type': 'text', 'score': None, 'meta': {'article_title': 'NASA_references_pdfs_paper_149_m.txt'}, 'embedding': None, 'id': '5dad29fa74904fede6749cbb0436e859'}>, <Document: {'content': 'collision is', 'content_type': 'text', 'score': None, 'meta': {'article_title': 'Arxiv_paper_38_m.txt'}, 'embedding': None, 'id': '3027dfa599735ccb7cfd05f7f9f4d6df'}>, <Document: {'content': 'prediction for larger prediction intervals. A similar non typical decrease of prediction errors with increasing prediction time is also observed for the prediction of F10.7 in cycle 24 Figure 5, red lines. However, this is not the case for the', 'content_type': 'text', 'score': None, 'meta': {'article_title': 'Arxiv_paper_87_m.txt'}, 'embedding': None, 'id': '93b803bc8edbbe4515756ce9d656f84a'}>, <Document: {'content': 'What is the Risk', 'content_type': 'text', 'score': None, 'meta': {'article_title': 'stm_paper_88_m.txt'}, 'embedding': None, 'id': 'd8bf7d33de8c65d6cbabb0237560d7b'}>, <Document: {'content': 'What is the Risk ', 'content_type': 'text', 'score': None, 'meta': {'article_title': 'stm_paper_88_m.txt'}, 'embedding': None, 'id': 'd8bf7d33de8c65d6cbabb0237560d7b'}>], 'root_node': 'Query', 'params': {'filters': {}, 'Retriever': {'top_k': 10}, 'Reader': {'top_k': 10}, 'Query': {}}, 'node_id': 'Reader'}\n",
            "--> End of process_request:\n",
            "request: query=\"'What is the most essential information for a reliable collision prediction?'\" params={'filters': {}, 'Retriever': {'top_k': 10}, 'Reader': {'top_k': 10}, 'Query': {'debug': False}} debug=False\n",
            "response <Response [200]>\n",
            "time: 13.13\n",
            "INFO:     34.244.172.160:0 - \"POST /query/ HTTP/1.1\" 200 OK\n",
            "INFO:     3.249.46.150:0 - \"GET /initialized HTTP/1.1\" 201 Created\n",
            "INFO:     3.249.46.150:0 - \"GET /initialized HTTP/1.1\" 201 Created\n",
            "INFO:     3.249.46.150:0 - \"GET /initialized HTTP/1.1\" 201 Created\n",
            "INFO:     3.249.46.150:0 - \"GET /initialized HTTP/1.1\" 201 Created\n",
            "INFO:     3.249.46.150:0 - \"GET /initialized HTTP/1.1\" 201 Created\n",
            "INFO:     3.249.46.150:0 - \"GET /initialized HTTP/1.1\" 201 Created\n",
            "INFO:     3.249.46.150:0 - \"POST /query HTTP/1.1\" 307 Temporary Redirect\n",
            "--> Running a query: query='What is a justification for interstellar travel?' params={'filters': {}, 'Retriever': {'top_k': 10}, 'Reader': {'top_k': 10}} debug=False\n",
            "--> Result from query: {'query': 'What is a justification for interstellar travel?', 'no_ans_gap': 7.376181125640869, 'answers': [<Answer {'answer': 'humanity will find a second home', 'type': 'extractive', 'score': 0.4188940078020096, 'context': 'ellar travel is that through exploring other solar systems humanity will find a second home, the colonization of which will help to ensure the long te', 'offsets_in_document': [{'start': 345, 'end': 377}], 'offsets_in_context': [{'start': 59, 'end': 91}], 'document_id': '897e74701bdaaba5f9423d62a9576866', 'meta': {'article_title': 'pp_paper_33_m.txt'}}>, <Answer {'answer': 'without scientific review', 'type': 'extractive', 'score': 0.23732740432024002, 'context': 'without scientific review, justification, ', 'offsets_in_document': [{'start': 0, 'end': 25}], 'offsets_in_context': [{'start': 0, 'end': 25}], 'document_id': '760a7126f8ad832ae43fc41c4c9fff6b', 'meta': {'article_title': 'pp_paper_20_m.txt'}}>, <Answer {'answer': 'Recommendation', 'type': 'extractive', 'score': 0.23686344921588898, 'context': 'Recommendation Justification ', 'offsets_in_document': [{'start': 0, 'end': 14}], 'offsets_in_context': [{'start': 0, 'end': 14}], 'document_id': '6d83cb809ace720a47776f1ee6a37730', 'meta': {'article_title': 'sem_paper_76_m.txt'}}>, <Answer {'answer': 'protection', 'type': 'extractive', 'score': 0.15766257047653198, 'context': ' science and interstellar exploration goals, and thus, rationales for protection, are interdependent and fluid. We do not know when interstellar trave', 'offsets_in_document': [{'start': 717, 'end': 727}], 'offsets_in_context': [{'start': 70, 'end': 80}], 'document_id': '897e74701bdaaba5f9423d62a9576866', 'meta': {'article_title': 'pp_paper_33_m.txt'}}>, <Answer {'answer': 'Travel time', 'type': 'extractive', 'score': 0.04580104164779186, 'context': 'Travel time N A N A', 'offsets_in_document': [{'start': 0, 'end': 11}], 'offsets_in_context': [{'start': 0, 'end': 11}], 'document_id': '8adab24ca75f7a2de4d64af142504a24', 'meta': {'article_title': 'stm_paper_89_m.txt'}}>, <Answer {'answer': '2009 Justification', 'type': 'extractive', 'score': 0.005209026043303311, 'context': '2009 Justification', 'offsets_in_document': [{'start': 0, 'end': 18}], 'offsets_in_context': [{'start': 0, 'end': 18}], 'document_id': '24409756b0ea76817b2c017b44ee922', 'meta': {'article_title': 'pp_paper_4_m.txt'}}>, <Answer {'answer': 'Travel', 'type': 'extractive', 'score': 0.0007854954747017473, 'context': 'Travel', 'offsets_in_document': [{'start': 0, 'end': 6}], 'offsets_in_context': [{'start': 0, 'end': 6}], 'document_id': '1ae64c3a25432d0ee4cd38100e72f0f2', 'meta': {'article_title': 'stm_paper_35_m.txt'}}>, <Answer {'answer': 'Travel', 'type': 'extractive', 'score': 0.0007854954747017473, 'context': 'Travel', 'offsets_in_document': [{'start': 0, 'end': 6}], 'offsets_in_context': [{'start': 0, 'end': 6}], 'document_id': '1ae64c3a25432d0ee4cd38100e72f0f2', 'meta': {'article_title': 'stm_paper_35_m.txt'}}>, <Answer {'answer': 'Travel', 'type': 'extractive', 'score': 0.0007854954747017473, 'context': 'Travel', 'offsets_in_document': [{'start': 0, 'end': 6}], 'offsets_in_context': [{'start': 0, 'end': 6}], 'document_id': '1ae64c3a25432d0ee4cd38100e72f0f2', 'meta': {'article_title': 'stm_paper_35_m.txt'}}>, <Answer {'answer': 'Travel', 'type': 'extractive', 'score': 0.0007854954747017473, 'context': 'Travel', 'offsets_in_document': [{'start': 0, 'end': 6}], 'offsets_in_context': [{'start': 0, 'end': 6}], 'document_id': '1ae64c3a25432d0ee4cd38100e72f0f2', 'meta': {'article_title': 'stm_paper_35_m.txt'}}>], 'documents': [<Document: {'content': '2009 Justification', 'content_type': 'text', 'score': None, 'meta': {'article_title': 'pp_paper_4_m.txt'}, 'embedding': None, 'id': '24409756b0ea76817b2c017b44ee922'}>, <Document: {'content': 'Travel', 'content_type': 'text', 'score': None, 'meta': {'article_title': 'stm_paper_35_m.txt'}, 'embedding': None, 'id': '1ae64c3a25432d0ee4cd38100e72f0f2'}>, <Document: {'content': 'Travel', 'content_type': 'text', 'score': None, 'meta': {'article_title': 'stm_paper_35_m.txt'}, 'embedding': None, 'id': '1ae64c3a25432d0ee4cd38100e72f0f2'}>, <Document: {'content': 'Travel', 'content_type': 'text', 'score': None, 'meta': {'article_title': 'stm_paper_35_m.txt'}, 'embedding': None, 'id': '1ae64c3a25432d0ee4cd38100e72f0f2'}>, <Document: {'content': 'Travel', 'content_type': 'text', 'score': None, 'meta': {'article_title': 'stm_paper_35_m.txt'}, 'embedding': None, 'id': '1ae64c3a25432d0ee4cd38100e72f0f2'}>, <Document: {'content': 'Recommendation Justification ', 'content_type': 'text', 'score': None, 'meta': {'article_title': 'sem_paper_76_m.txt'}, 'embedding': None, 'id': '6d83cb809ace720a47776f1ee6a37730'}>, <Document: {'content': ' ethical ideas. Such lacunae would be disquieting precisely because there is no sharp division between science, technology and ethics. What we learn while doing science influences what technologies we develop and what we place value upon. But what we place value upon also influences what we decide to study and what technologies we develop.25 The contemplation of an undertaking as grand as interstellar exploration simply cannot be conducted without awareness of the broader social and ethical context in which such exploration will occur. As the late Molly Macauley recognized in the case of solar system exploration Macauley 2007, interstellar science and interstellar exploration goals, and thus, rationales for protection, are interdependent and fluid. We do not know when interstellar travel will be realized, nor for what purposes it will be conducted. It would be myopic to claim that we no longer need to subject reasons for interstellar travel to critical scrutiny, or that other compelling reasons, possibly contrary to those presently accepted, will not arise. Which is all to say that discussion of interstellar planetary protection should not be dismissed out of hand simply because many who presently advance the cause of interstellar travel see little reason to concern themselves with protection policies.', 'content_type': 'text', 'score': None, 'meta': {'article_title': 'pp_paper_33_m.txt'}, 'embedding': None, 'id': '897e74701bdaaba5f9423d62a9576866'}>, <Document: {'content': 'One might think at first blush that interstellar planetary protection is of little to no concern, ethically speaking, because protection would interfere with extant, overriding ethical justifications for interstellar travel. One of the most commonly proffered justifications for interstellar travel is that through exploring other solar systems humanity will find a second home, the colonization of which will help to ensure the long term survival of our species. If indeed our long term survival is at stake in interstellar travel, then accordingly, we should not allow ourselves to be detained by weaker duties, such as those associated with interstellar nature preservation.', 'content_type': 'text', 'score': None, 'meta': {'article_title': 'pp_paper_33_m.txt'}, 'embedding': None, 'id': '897e74701bdaaba5f9423d62a9576866'}>, <Document: {'content': 'without scientific review, justification, ', 'content_type': 'text', 'score': None, 'meta': {'article_title': 'pp_paper_20_m.txt'}, 'embedding': None, 'id': '760a7126f8ad832ae43fc41c4c9fff6b'}>, <Document: {'content': 'Travel time N A N A', 'content_type': 'text', 'score': None, 'meta': {'article_title': 'stm_paper_89_m.txt'}, 'embedding': None, 'id': '8adab24ca75f7a2de4d64af142504a24'}>], 'root_node': 'Query', 'params': {'filters': {}, 'Retriever': {'top_k': 10}, 'Reader': {'top_k': 10}, 'Query': {}}, 'node_id': 'Reader'}\n",
            "--> End of process_request:\n",
            "request: query='What is a justification for interstellar travel?' params={'filters': {}, 'Retriever': {'top_k': 10}, 'Reader': {'top_k': 10}, 'Query': {'debug': False}} debug=False\n",
            "response <Response [200]>\n",
            "time: 12.74\n",
            "INFO:     3.249.46.150:0 - \"POST /query/ HTTP/1.1\" 200 OK\n",
            "INFO:     3.249.46.150:0 - \"GET /initialized HTTP/1.1\" 201 Created\n",
            "INFO:     3.249.46.150:0 - \"GET /initialized HTTP/1.1\" 201 Created\n",
            "INFO:     3.249.46.150:0 - \"POST /query HTTP/1.1\" 307 Temporary Redirect\n",
            "--> Running a query: query='what is dark energy?' params={'filters': {}, 'Retriever': {'top_k': 10}, 'Reader': {'top_k': 10}} debug=False\n",
            "--> Result from query: {'query': 'what is dark energy?', 'no_ans_gap': -4.134516775608063, 'answers': [<Answer {'answer': 'dark', 'type': 'extractive', 'score': 0.09995388239622116, 'context': 'p p,dark ,dark', 'offsets_in_document': [{'start': 10, 'end': 14}], 'offsets_in_context': [{'start': 10, 'end': 14}], 'document_id': '36d78b96906c7f557c00604e0e5d2e1e', 'meta': {'article_title': 'ssa_paper_79_m.txt'}}>, <Answer {'answer': 'sky', 'type': 'extractive', 'score': 0.05086097680032253, 'context': '1 ,sky ,dark', 'offsets_in_document': [{'start': 3, 'end': 6}], 'offsets_in_context': [{'start': 3, 'end': 6}], 'document_id': '36d78b96906c7f557c00604e0e5d2e1e', 'meta': {'article_title': 'ssa_paper_79_m.txt'}}>, <Answer {'answer': 'sky', 'type': 'extractive', 'score': 0.0388540793210268, 'context': ',sky ,dark', 'offsets_in_document': [{'start': 1, 'end': 4}], 'offsets_in_context': [{'start': 1, 'end': 4}], 'document_id': '36d78b96906c7f557c00604e0e5d2e1e', 'meta': {'article_title': 'ssa_paper_79_m.txt'}}>, <Answer {'answer': 'sky', 'type': 'extractive', 'score': 0.0388540793210268, 'context': ',sky ,dark', 'offsets_in_document': [{'start': 1, 'end': 4}], 'offsets_in_context': [{'start': 1, 'end': 4}], 'document_id': '36d78b96906c7f557c00604e0e5d2e1e', 'meta': {'article_title': 'ssa_paper_79_m.txt'}}>, <Answer {'answer': 'sky', 'type': 'extractive', 'score': 0.0388540793210268, 'context': ',sky ,dark', 'offsets_in_document': [{'start': 1, 'end': 4}], 'offsets_in_context': [{'start': 1, 'end': 4}], 'document_id': '36d78b96906c7f557c00604e0e5d2e1e', 'meta': {'article_title': 'ssa_paper_79_m.txt'}}>, <Answer {'answer': 'sky', 'type': 'extractive', 'score': 0.0388540793210268, 'context': ',sky ,dark', 'offsets_in_document': [{'start': 1, 'end': 4}], 'offsets_in_context': [{'start': 1, 'end': 4}], 'document_id': '36d78b96906c7f557c00604e0e5d2e1e', 'meta': {'article_title': 'ssa_paper_79_m.txt'}}>, <Answer {'answer': 'sky', 'type': 'extractive', 'score': 0.02020950522273779, 'context': ',sky ,dark 1 2', 'offsets_in_document': [{'start': 1, 'end': 4}], 'offsets_in_context': [{'start': 1, 'end': 4}], 'document_id': '36d78b96906c7f557c00604e0e5d2e1e', 'meta': {'article_title': 'ssa_paper_79_m.txt'}}>, <Answer {'answer': 'Dark Noise', 'type': 'extractive', 'score': 0.004009204916656017, 'context': 'b.  Dark Noise ', 'offsets_in_document': [{'start': 4, 'end': 14}], 'offsets_in_context': [{'start': 4, 'end': 14}], 'document_id': '520eca9170e81a9e23e1f18671a51cda', 'meta': {'article_title': 'SSA_papers_paper_230_m.txt'}}>, <Answer {'answer': 'dark', 'type': 'extractive', 'score': 0.0034590583527460694, 'context': 'm  on dark,', 'offsets_in_document': [{'start': 6, 'end': 10}], 'offsets_in_context': [{'start': 6, 'end': 10}], 'document_id': 'cd67aafbdac07dcfe143c21a729b974a', 'meta': {'article_title': 'Arxiv_paper_122_m.txt'}}>, <Answer {'answer': 'sky dark dark 2', 'type': 'extractive', 'score': 0.0018435352831147611, 'context': 'so SO sky dark dark 2', 'offsets_in_document': [{'start': 6, 'end': 21}], 'offsets_in_context': [{'start': 6, 'end': 21}], 'document_id': '36d78b96906c7f557c00604e0e5d2e1e', 'meta': {'article_title': 'ssa_paper_79_m.txt'}}>], 'documents': [<Document: {'content': 'p p,dark ,dark', 'content_type': 'text', 'score': None, 'meta': {'article_title': 'ssa_paper_79_m.txt'}, 'embedding': None, 'id': '36d78b96906c7f557c00604e0e5d2e1e'}>, <Document: {'content': 'm  on dark,', 'content_type': 'text', 'score': None, 'meta': {'article_title': 'Arxiv_paper_122_m.txt'}, 'embedding': None, 'id': 'cd67aafbdac07dcfe143c21a729b974a'}>, <Document: {'content': 'b.  Dark Noise ', 'content_type': 'text', 'score': None, 'meta': {'article_title': 'SSA_papers_paper_230_m.txt'}, 'embedding': None, 'id': '520eca9170e81a9e23e1f18671a51cda'}>, <Document: {'content': 'so SO sky dark dark 2', 'content_type': 'text', 'score': None, 'meta': {'article_title': 'ssa_paper_79_m.txt'}, 'embedding': None, 'id': '36d78b96906c7f557c00604e0e5d2e1e'}>, <Document: {'content': ',sky ,dark', 'content_type': 'text', 'score': None, 'meta': {'article_title': 'ssa_paper_79_m.txt'}, 'embedding': None, 'id': '36d78b96906c7f557c00604e0e5d2e1e'}>, <Document: {'content': ',sky ,dark', 'content_type': 'text', 'score': None, 'meta': {'article_title': 'ssa_paper_79_m.txt'}, 'embedding': None, 'id': '36d78b96906c7f557c00604e0e5d2e1e'}>, <Document: {'content': '1 ,sky ,dark', 'content_type': 'text', 'score': None, 'meta': {'article_title': 'ssa_paper_79_m.txt'}, 'embedding': None, 'id': '36d78b96906c7f557c00604e0e5d2e1e'}>, <Document: {'content': ',sky ,dark', 'content_type': 'text', 'score': None, 'meta': {'article_title': 'ssa_paper_79_m.txt'}, 'embedding': None, 'id': '36d78b96906c7f557c00604e0e5d2e1e'}>, <Document: {'content': ',sky ,dark 1 2', 'content_type': 'text', 'score': None, 'meta': {'article_title': 'ssa_paper_79_m.txt'}, 'embedding': None, 'id': '36d78b96906c7f557c00604e0e5d2e1e'}>, <Document: {'content': ',sky ,dark', 'content_type': 'text', 'score': None, 'meta': {'article_title': 'ssa_paper_79_m.txt'}, 'embedding': None, 'id': '36d78b96906c7f557c00604e0e5d2e1e'}>], 'root_node': 'Query', 'params': {'filters': {}, 'Retriever': {'top_k': 10}, 'Reader': {'top_k': 10}, 'Query': {}}, 'node_id': 'Reader'}\n",
            "--> End of process_request:\n",
            "request: query='what is dark energy?' params={'filters': {}, 'Retriever': {'top_k': 10}, 'Reader': {'top_k': 10}, 'Query': {'debug': False}} debug=False\n",
            "response <Response [200]>\n",
            "time: 12.38\n",
            "INFO:     3.249.46.150:0 - \"POST /query/ HTTP/1.1\" 200 OK\n",
            "INFO:     3.249.46.150:0 - \"GET /initialized HTTP/1.1\" 201 Created\n",
            "INFO:     3.249.46.150:0 - \"GET /initialized HTTP/1.1\" 201 Created\n",
            "INFO:     3.249.46.150:0 - \"GET /initialized HTTP/1.1\" 201 Created\n",
            "INFO:     3.249.46.150:0 - \"POST /query HTTP/1.1\" 307 Temporary Redirect\n",
            "--> Running a query: query='What will the new Ground control role consist of?' params={'filters': {}, 'Retriever': {'top_k': 10}, 'Reader': {'top_k': 10}} debug=False\n",
            "--> Result from query: {'query': 'What will the new Ground control role consist of?', 'no_ans_gap': -3.5169402360916138, 'answers': [<Answer {'answer': 'Ground Risk Control', 'type': 'extractive', 'score': 0.13940580934286118, 'context': '2.4 Ground Risk Control ', 'offsets_in_document': [{'start': 4, 'end': 23}], 'offsets_in_context': [{'start': 4, 'end': 23}], 'document_id': 'bd52a136fbf11f3e2606d6fdbe4927ad', 'meta': {'article_title': 'IAASS_paper_132_m.txt'}}>, <Answer {'answer': 'Ground Risk Control', 'type': 'extractive', 'score': 0.13803350552916527, 'context': '2.4 Ground Risk Control', 'offsets_in_document': [{'start': 4, 'end': 23}], 'offsets_in_context': [{'start': 4, 'end': 23}], 'document_id': 'bd52a136fbf11f3e2606d6fdbe4927ad', 'meta': {'article_title': 'IAASS_paper_132_m.txt'}}>, <Answer {'answer': 'optical satellite communications', 'type': 'extractive', 'score': 0.08666341006755829, 'context': 'what will be the role of optical satellite communications   ', 'offsets_in_document': [{'start': 25, 'end': 57}], 'offsets_in_context': [{'start': 25, 'end': 57}], 'document_id': '5a747dfe2e46d79563016218de8b1e2c', 'meta': {'article_title': 'Arxiv_paper_51_m.txt'}}>, <Answer {'answer': 'documentation', 'type': 'extractive', 'score': 0.04708762280642986, 'context': 'Requirements will consist of documentation ', 'offsets_in_document': [{'start': 29, 'end': 42}], 'offsets_in_context': [{'start': 29, 'end': 42}], 'document_id': '760a7126f8ad832ae43fc41c4c9fff6b', 'meta': {'article_title': 'pp_paper_20_m.txt'}}>, <Answer {'answer': 'Ground risk control', 'type': 'extractive', 'score': 0.008907494368031621, 'context': 'Ground risk control, 9', 'offsets_in_document': [{'start': 0, 'end': 19}], 'offsets_in_context': [{'start': 0, 'end': 19}], 'document_id': 'bd52a136fbf11f3e2606d6fdbe4927ad', 'meta': {'article_title': 'IAASS_paper_132_m.txt'}}>, <Answer {'answer': 'attitude control error', 'type': 'extractive', 'score': 0.005873520276509225, 'context': 'will change what is producing the attitude control error ', 'offsets_in_document': [{'start': 34, 'end': 56}], 'offsets_in_context': [{'start': 34, 'end': 56}], 'document_id': '688dd92ecb7f44ea01d357f68f6de12b', 'meta': {'article_title': 'SSA_papers_paper_193_m.txt'}}>, <Answer {'answer': 'Ground', 'type': 'extractive', 'score': 0.005852608010172844, 'context': 'Ground ', 'offsets_in_document': [{'start': 0, 'end': 6}], 'offsets_in_context': [{'start': 0, 'end': 6}], 'document_id': '5a747dfe2e46d79563016218de8b1e2c', 'meta': {'article_title': 'Arxiv_paper_51_m.txt'}}>, <Answer {'answer': 'ground.', 'type': 'extractive', 'score': 0.005544164218008518, 'context': 'ground. ', 'offsets_in_document': [{'start': 0, 'end': 7}], 'offsets_in_context': [{'start': 0, 'end': 7}], 'document_id': 'a67e60037e7979983716283646b6fa36', 'meta': {'article_title': 'NASA_references_pdfs_paper_152_m.txt'}}>, <Answer {'answer': 'GROUND', 'type': 'extractive', 'score': 0.0021519314614124596, 'context': '  GROUND ', 'offsets_in_document': [{'start': 2, 'end': 8}], 'offsets_in_context': [{'start': 2, 'end': 8}], 'document_id': '67c590075e5ca1c9186894e673a05378', 'meta': {'article_title': 'sem_paper_20_m.txt'}}>, <Answer {'answer': 'role', 'type': 'extractive', 'score': 0.00044770877866540104, 'context': 'role.', 'offsets_in_document': [{'start': 0, 'end': 4}], 'offsets_in_context': [{'start': 0, 'end': 4}], 'document_id': '4863a3c1eebd811875f520a702ede51f', 'meta': {'article_title': 'IAASS_paper_134_m.txt'}}>], 'documents': [<Document: {'content': 'what will be the role of optical satellite communications   ', 'content_type': 'text', 'score': None, 'meta': {'article_title': 'Arxiv_paper_51_m.txt'}, 'embedding': None, 'id': '5a747dfe2e46d79563016218de8b1e2c'}>, <Document: {'content': 'role.', 'content_type': 'text', 'score': None, 'meta': {'article_title': 'IAASS_paper_134_m.txt'}, 'embedding': None, 'id': '4863a3c1eebd811875f520a702ede51f'}>, <Document: {'content': 'Requirements will consist of documentation ', 'content_type': 'text', 'score': None, 'meta': {'article_title': 'pp_paper_20_m.txt'}, 'embedding': None, 'id': '760a7126f8ad832ae43fc41c4c9fff6b'}>, <Document: {'content': '2.4 Ground Risk Control', 'content_type': 'text', 'score': None, 'meta': {'article_title': 'IAASS_paper_132_m.txt'}, 'embedding': None, 'id': 'bd52a136fbf11f3e2606d6fdbe4927ad'}>, <Document: {'content': 'Ground risk control, 9', 'content_type': 'text', 'score': None, 'meta': {'article_title': 'IAASS_paper_132_m.txt'}, 'embedding': None, 'id': 'bd52a136fbf11f3e2606d6fdbe4927ad'}>, <Document: {'content': '2.4 Ground Risk Control ', 'content_type': 'text', 'score': None, 'meta': {'article_title': 'IAASS_paper_132_m.txt'}, 'embedding': None, 'id': 'bd52a136fbf11f3e2606d6fdbe4927ad'}>, <Document: {'content': '  GROUND ', 'content_type': 'text', 'score': None, 'meta': {'article_title': 'sem_paper_20_m.txt'}, 'embedding': None, 'id': '67c590075e5ca1c9186894e673a05378'}>, <Document: {'content': 'ground. ', 'content_type': 'text', 'score': None, 'meta': {'article_title': 'NASA_references_pdfs_paper_152_m.txt'}, 'embedding': None, 'id': 'a67e60037e7979983716283646b6fa36'}>, <Document: {'content': 'Ground ', 'content_type': 'text', 'score': None, 'meta': {'article_title': 'Arxiv_paper_51_m.txt'}, 'embedding': None, 'id': '5a747dfe2e46d79563016218de8b1e2c'}>, <Document: {'content': 'will change what is producing the attitude control error ', 'content_type': 'text', 'score': None, 'meta': {'article_title': 'SSA_papers_paper_193_m.txt'}, 'embedding': None, 'id': '688dd92ecb7f44ea01d357f68f6de12b'}>], 'root_node': 'Query', 'params': {'filters': {}, 'Retriever': {'top_k': 10}, 'Reader': {'top_k': 10}, 'Query': {}}, 'node_id': 'Reader'}\n",
            "--> End of process_request:\n",
            "request: query='What will the new Ground control role consist of?' params={'filters': {}, 'Retriever': {'top_k': 10}, 'Reader': {'top_k': 10}, 'Query': {'debug': False}} debug=False\n",
            "response <Response [200]>\n",
            "time: 12.68\n",
            "INFO:     3.249.46.150:0 - \"POST /query/ HTTP/1.1\" 200 OK\n",
            "INFO:     3.249.46.150:0 - \"GET /initialized HTTP/1.1\" 201 Created\n",
            "INFO:     3.249.46.150:0 - \"GET /initialized HTTP/1.1\" 201 Created\n",
            "INFO:     3.249.46.150:0 - \"POST /query HTTP/1.1\" 307 Temporary Redirect\n",
            "--> Running a query: query='How many sessions were planned at the Fourth European Conference on Space Debris?' params={'filters': {}, 'Retriever': {'top_k': 10}, 'Reader': {'top_k': 10}} debug=False\n",
            "--> Result from query: {'query': 'How many sessions were planned at the Fourth European Conference on Space Debris?', 'no_ans_gap': 7.294273853302002, 'answers': [<Answer {'answer': 'nine', 'type': 'extractive', 'score': 0.9267778992652893, 'context': 'e Operations Centre ESOC in  Darmstadt, Germany on 18 20 April 2005. It  included nine technical sessions Groundbased Measurements Radar and Optical, ', 'offsets_in_document': [{'start': 161, 'end': 165}], 'offsets_in_context': [{'start': 82, 'end': 86}], 'document_id': '39a9ac37ab40dab0333d3e12151611a1', 'meta': {'article_title': 'nasa_odqn_paper_362_m.txt'}}>, <Answer {'answer': 'Six', 'type': 'extractive', 'score': 0.8939991295337677, 'context': 'he conference will be held at the European  Space Operations Centre ESOC. Six sessions  have been planned to include measurements and  modeling of deb', 'offsets_in_document': [{'start': 185, 'end': 188}], 'offsets_in_context': [{'start': 74, 'end': 77}], 'document_id': '5328c78df7b0e526ca2cb5c598d8a2a0', 'meta': {'article_title': 'nasa_odqn_paper_359_m.txt'}}>, <Answer {'answer': 'two', 'type': 'extractive', 'score': 0.4920458346605301, 'context': ' safety  issues including three sessions on spacecraft  reentry, four sessions on space traffic, two  sessions on space debris, one session on debris ', 'offsets_in_document': [{'start': 266, 'end': 269}], 'offsets_in_context': [{'start': 97, 'end': 100}], 'document_id': '9c91054b96e9267e1f3476ea6467980a', 'meta': {'article_title': 'nasa_odqn_paper_295_m.txt'}}>, <Answer {'answer': 'technical', 'type': 'extractive', 'score': 0.09432226419448853, 'context': 'The conference will include technical sessions on space debris and a panel discussion session on international space law of  space debris.  Additional', 'offsets_in_document': [{'start': 28, 'end': 37}], 'offsets_in_context': [{'start': 28, 'end': 37}], 'document_id': '54e3497a68f7f0bced17cabcb3760156', 'meta': {'article_title': 'nasa_odqn_paper_272_m.txt'}}>, <Answer {'answer': 'technical', 'type': 'extractive', 'score': 0.09432226419448853, 'context': 'The conference will include technical sessions on space debris and a panel discussion session on international space law of  space debris.  Additional', 'offsets_in_document': [{'start': 28, 'end': 37}], 'offsets_in_context': [{'start': 28, 'end': 37}], 'document_id': 'ad8e6f401573875d9d76e23656da6a7d', 'meta': {'article_title': 'nasa_odqn_paper_271_m.txt'}}>, <Answer {'answer': '7th European Conference on Space Debris,', 'type': 'extractive', 'score': 4.903437366010621e-05, 'context': '7th European Conference on Space Debris, ', 'offsets_in_document': [{'start': 0, 'end': 40}], 'offsets_in_context': [{'start': 0, 'end': 40}], 'document_id': '3ed55de08a2a6ff8a5909d9dd4e776a', 'meta': {'article_title': 'Arxiv_paper_34_m.txt'}}>, <Answer {'answer': 'debris. Proceedings', 'type': 'extractive', 'score': 6.9976936174498405e-06, 'context': 'debris. Proceedings of the Second European Conference on Space', 'offsets_in_document': [{'start': 0, 'end': 19}], 'offsets_in_context': [{'start': 0, 'end': 19}], 'document_id': '47d4f03fc0e47e83d5b7b8c5c586308b', 'meta': {'article_title': 'stm_paper_8_m.txt'}}>], 'documents': [<Document: {'content': ' The Fourth European Conference on  Space Debris was held at the European  Space Operations Centre ESOC in  Darmstadt, Germany on 18 20 April 2005. It  included nine technical sessions Groundbased Measurements Radar and Optical, ', 'content_type': 'text', 'score': None, 'meta': {'article_title': 'nasa_odqn_paper_362_m.txt'}, 'embedding': None, 'id': '39a9ac37ab40dab0333d3e12151611a1'}>, <Document: {'content': 'European Conference on Space Debris, Darmstadt, ', 'content_type': 'text', 'score': None, 'meta': {'article_title': 'Arxiv_paper_34_m.txt'}, 'embedding': None, 'id': '3ed55de08a2a6ff8a5909d9dd4e776a'}>, <Document: {'content': 'UPCOMING   MEETING  18 20 April 2005 Fourth European Conference  on Space Debris, Darmstadt, Germany.         The conference will be held at the European  Space Operations Centre ESOC. Six sessions  have been planned to include measurements and  modeling of debris and meteoroids, hypervelocity  impacts, risk assessments and debris mitigation,  and standards and regulations. For further information contact Walter.Fluryesa.int or go to http   .', 'content_type': 'text', 'score': None, 'meta': {'article_title': 'nasa_odqn_paper_359_m.txt'}, 'embedding': None, 'id': '5328c78df7b0e526ca2cb5c598d8a2a0'}>, <Document: {'content': 'The 5th IAASS Conference was held  17 19 October in Versailles, France.  The 3 day  conference consisted of  forty 2 hour sessions  devoted to a number of  general space safety  issues including three sessions on spacecraft  reentry, four sessions on space traffic, two  sessions on space debris, one session on debris ', 'content_type': 'text', 'score': None, 'meta': {'article_title': 'nasa_odqn_paper_295_m.txt'}, 'embedding': None, 'id': '9c91054b96e9267e1f3476ea6467980a'}>, <Document: {'content': 'The conference will include technical sessions on space debris and a panel discussion session on international space law of  space debris.  Additional information on the Conference is available at http  ', 'content_type': 'text', 'score': None, 'meta': {'article_title': 'nasa_odqn_paper_272_m.txt'}, 'embedding': None, 'id': '54e3497a68f7f0bced17cabcb3760156'}>, <Document: {'content': 'The conference will include technical sessions on space debris and a panel discussion session on international space law of  space debris.  Additional information on the Conference is available at http  ', 'content_type': 'text', 'score': None, 'meta': {'article_title': 'nasa_odqn_paper_271_m.txt'}, 'embedding': None, 'id': 'ad8e6f401573875d9d76e23656da6a7d'}>, <Document: {'content': 'debris. Proceedings of the Second European Conference on Space', 'content_type': 'text', 'score': None, 'meta': {'article_title': 'stm_paper_8_m.txt'}, 'embedding': None, 'id': '47d4f03fc0e47e83d5b7b8c5c586308b'}>, <Document: {'content': 'European Conference on Space Debris, At Darmstadt, Germany, ', 'content_type': 'text', 'score': None, 'meta': {'article_title': 'sd_paper_40_m.txt'}, 'embedding': None, 'id': '9851c45f94a51d4dd58aeeba0842c555'}>, <Document: {'content': 'th  European Space Debris Conference, ', 'content_type': 'text', 'score': None, 'meta': {'article_title': 'sd_paper_51_m.txt'}, 'embedding': None, 'id': 'fdf41f890c2ad6d404a3ccc1afa560c2'}>, <Document: {'content': '7th European Conference on Space Debris, ', 'content_type': 'text', 'score': None, 'meta': {'article_title': 'Arxiv_paper_34_m.txt'}, 'embedding': None, 'id': '3ed55de08a2a6ff8a5909d9dd4e776a'}>], 'root_node': 'Query', 'params': {'filters': {}, 'Retriever': {'top_k': 10}, 'Reader': {'top_k': 10}, 'Query': {}}, 'node_id': 'Reader'}\n",
            "--> End of process_request:\n",
            "request: query='How many sessions were planned at the Fourth European Conference on Space Debris?' params={'filters': {}, 'Retriever': {'top_k': 10}, 'Reader': {'top_k': 10}, 'Query': {'debug': False}} debug=False\n",
            "response <Response [200]>\n",
            "time: 14.41\n",
            "INFO:     3.249.46.150:0 - \"POST /query/ HTTP/1.1\" 200 OK\n",
            "INFO:     3.249.46.150:0 - \"GET /initialized HTTP/1.1\" 201 Created\n",
            "INFO:     3.249.46.150:0 - \"GET /initialized HTTP/1.1\" 201 Created\n",
            "INFO:     3.249.46.150:0 - \"GET /initialized HTTP/1.1\" 201 Created\n",
            "INFO:     3.249.46.150:0 - \"GET /initialized HTTP/1.1\" 201 Created\n",
            "INFO:     3.249.46.150:0 - \"POST /query HTTP/1.1\" 307 Temporary Redirect\n",
            "--> Running a query: query='How many objects are currently in orbit around earth?' params={'filters': {}, 'Retriever': {'top_k': 10}, 'Reader': {'top_k': 10}} debug=False\n",
            "--> Result from query: {'query': 'How many objects are currently in orbit around earth?', 'no_ans_gap': -2.1526660919189453, 'answers': [<Answer {'answer': '1 mm or larger', 'type': 'extractive', 'score': 0.25256605446338654, 'context': 'objects 1 mm or larger currently in orbit.  ', 'offsets_in_document': [{'start': 8, 'end': 22}], 'offsets_in_context': [{'start': 8, 'end': 22}], 'document_id': '6081bb2897784fd0b111edc76c5db4eb', 'meta': {'article_title': 'SSA_papers_paper_195_m.txt'}}>, <Answer {'answer': 'Geostationary Earth Orbit', 'type': 'extractive', 'score': 0.00870567373931408, 'context': 'Awareness of objects and events in and around the Geostationary Earth Orbit GEO ', 'offsets_in_document': [{'start': 50, 'end': 75}], 'offsets_in_context': [{'start': 50, 'end': 75}], 'document_id': 'c9b25200a35e93a116eb29d92b653bc1', 'meta': {'article_title': 'ssa_paper_11_m.txt'}}>, <Answer {'answer': 'Low Earth Orbit LEO', 'type': 'extractive', 'score': 0.00250423070974648, 'context': 'objects are in Low Earth Orbit LEO. Such objects have', 'offsets_in_document': [{'start': 15, 'end': 34}], 'offsets_in_context': [{'start': 15, 'end': 34}], 'document_id': '5316196fee9c2ba804e9668ab60b2497', 'meta': {'article_title': 'SSA_papers_paper_177_m.txt'}}>, <Answer {'answer': 'space objects', 'type': 'extractive', 'score': 0.00249177822843194, 'context': 'and predict the orbit of space objects around the Earth. ', 'offsets_in_document': [{'start': 25, 'end': 38}], 'offsets_in_context': [{'start': 25, 'end': 38}], 'document_id': 'eace30966a447ab529c2a5d70889ae3b', 'meta': {'article_title': 'SSA_papers_paper_241_m.txt'}}>, <Answer {'answer': 'Earth Orbit', 'type': 'extractive', 'score': 0.0013019376783631742, 'context': 's Earth Orbit ', 'offsets_in_document': [{'start': 2, 'end': 13}], 'offsets_in_context': [{'start': 2, 'end': 13}], 'document_id': '92969de588c730bbb1943a28ad098d18', 'meta': {'article_title': 'SSA_papers_paper_225_m.txt'}}>, <Answer {'answer': 'earth orbit', 'type': 'extractive', 'score': 0.0008575375541113317, 'context': 'earth orbit', 'offsets_in_document': [{'start': 0, 'end': 11}], 'offsets_in_context': [{'start': 0, 'end': 11}], 'document_id': '4863a3c1eebd811875f520a702ede51f', 'meta': {'article_title': 'IAASS_paper_134_m.txt'}}>, <Answer {'answer': 'Earth orbit', 'type': 'extractive', 'score': 0.0006102457409724593, 'context': 'Earth orbit', 'offsets_in_document': [{'start': 0, 'end': 11}], 'offsets_in_context': [{'start': 0, 'end': 11}], 'document_id': 'bd52a136fbf11f3e2606d6fdbe4927ad', 'meta': {'article_title': 'IAASS_paper_132_m.txt'}}>, <Answer {'answer': 'currently in orbit', 'type': 'extractive', 'score': 0.0001286248934775358, 'context': 'currently in orbit', 'offsets_in_document': [{'start': 0, 'end': 18}], 'offsets_in_context': [{'start': 0, 'end': 18}], 'document_id': '5dad29fa74904fede6749cbb0436e859', 'meta': {'article_title': 'NASA_references_pdfs_paper_149_m.txt'}}>], 'documents': [<Document: {'content': 'currently in orbit', 'content_type': 'text', 'score': None, 'meta': {'article_title': 'NASA_references_pdfs_paper_149_m.txt'}, 'embedding': None, 'id': '5dad29fa74904fede6749cbb0436e859'}>, <Document: {'content': 'and predict the orbit of space objects around the Earth. ', 'content_type': 'text', 'score': None, 'meta': {'article_title': 'SSA_papers_paper_241_m.txt'}, 'embedding': None, 'id': 'eace30966a447ab529c2a5d70889ae3b'}>, <Document: {'content': 'in Earth orbit. ', 'content_type': 'text', 'score': None, 'meta': {'article_title': 'NASA_references_pdfs_paper_153_m.txt'}, 'embedding': None, 'id': 'd83dbe94c58bda4bde6315e86c55f607'}>, <Document: {'content': 'objects are in Low Earth Orbit LEO. Such objects have', 'content_type': 'text', 'score': None, 'meta': {'article_title': 'SSA_papers_paper_177_m.txt'}, 'embedding': None, 'id': '5316196fee9c2ba804e9668ab60b2497'}>, <Document: {'content': 'Earth orbit', 'content_type': 'text', 'score': None, 'meta': {'article_title': 'IAASS_paper_132_m.txt'}, 'embedding': None, 'id': 'bd52a136fbf11f3e2606d6fdbe4927ad'}>, <Document: {'content': 's Earth Orbit ', 'content_type': 'text', 'score': None, 'meta': {'article_title': 'SSA_papers_paper_225_m.txt'}, 'embedding': None, 'id': '92969de588c730bbb1943a28ad098d18'}>, <Document: {'content': 'Earth orbit. ', 'content_type': 'text', 'score': None, 'meta': {'article_title': 'stm_paper_37_m.txt'}, 'embedding': None, 'id': 'd5ae0babf83ced640a3293bc95e06f93'}>, <Document: {'content': 'earth orbit', 'content_type': 'text', 'score': None, 'meta': {'article_title': 'IAASS_paper_134_m.txt'}, 'embedding': None, 'id': '4863a3c1eebd811875f520a702ede51f'}>, <Document: {'content': 'objects 1 mm or larger currently in orbit.  ', 'content_type': 'text', 'score': None, 'meta': {'article_title': 'SSA_papers_paper_195_m.txt'}, 'embedding': None, 'id': '6081bb2897784fd0b111edc76c5db4eb'}>, <Document: {'content': 'Awareness of objects and events in and around the Geostationary Earth Orbit GEO ', 'content_type': 'text', 'score': None, 'meta': {'article_title': 'ssa_paper_11_m.txt'}, 'embedding': None, 'id': 'c9b25200a35e93a116eb29d92b653bc1'}>], 'root_node': 'Query', 'params': {'filters': {}, 'Retriever': {'top_k': 10}, 'Reader': {'top_k': 10}, 'Query': {}}, 'node_id': 'Reader'}\n",
            "--> End of process_request:\n",
            "request: query='How many objects are currently in orbit around earth?' params={'filters': {}, 'Retriever': {'top_k': 10}, 'Reader': {'top_k': 10}, 'Query': {'debug': False}} debug=False\n",
            "response <Response [200]>\n",
            "time: 12.59\n",
            "INFO:     3.249.46.150:0 - \"POST /query/ HTTP/1.1\" 200 OK\n",
            "INFO:     3.249.46.150:0 - \"GET /initialized HTTP/1.1\" 201 Created\n",
            "INFO:     3.249.46.150:0 - \"GET /initialized HTTP/1.1\" 201 Created\n",
            "INFO:     3.249.46.150:0 - \"POST /feedback HTTP/1.1\" 307 Temporary Redirect\n",
            "INFO:     3.249.46.150:0 - \"POST /feedback/ HTTP/1.1\" 200 OK\n",
            "INFO:     3.249.46.150:0 - \"GET /initialized HTTP/1.1\" 201 Created\n",
            "INFO:     3.249.46.150:0 - \"GET /initialized HTTP/1.1\" 201 Created\n",
            "INFO:     3.249.46.150:0 - \"GET /initialized HTTP/1.1\" 201 Created\n",
            "INFO:     3.249.46.150:0 - \"GET /initialized HTTP/1.1\" 201 Created\n",
            "INFO:     3.249.46.150:0 - \"GET /initialized HTTP/1.1\" 201 Created\n",
            "INFO:     3.249.46.150:0 - \"POST /query HTTP/1.1\" 307 Temporary Redirect\n",
            "--> Running a query: query='What is the Kessler Syndrome?' params={'filters': {}, 'Retriever': {'top_k': 10}, 'Reader': {'top_k': 10}} debug=False\n",
            "--> Result from query: {'query': 'What is the Kessler Syndrome?', 'no_ans_gap': 8.246536016464233, 'answers': [<Answer {'answer': 'Implications to Future Space Operations', 'type': 'extractive', 'score': 0.6929973065853119, 'context': ' The Kessler Syndrome  Implications to Future Space Operations', 'offsets_in_document': [{'start': 23, 'end': 62}], 'offsets_in_context': [{'start': 23, 'end': 62}], 'document_id': 'f972980fa4fbc5bdcef11f57806afeda', 'meta': {'article_title': 'nasa_odqn_paper_288_m.txt'}}>, <Answer {'answer': 'Mega Constellations', 'type': 'extractive', 'score': 0.6296520233154297, 'context': '5.2. Kessler Syndrome and Mega Constellations', 'offsets_in_document': [{'start': 26, 'end': 45}], 'offsets_in_context': [{'start': 26, 'end': 45}], 'document_id': '82597a57d501fb7ff7ed7c129e054da2', 'meta': {'article_title': 'sd_paper_16_m.txt'}}>, <Answer {'answer': 'even if there are no new launches', 'type': 'extractive', 'score': 0.49971605092287064, 'context': 'region, where Kessler syndrome will occur even if there are no new launches, as the Kessler', 'offsets_in_document': [{'start': 42, 'end': 75}], 'offsets_in_context': [{'start': 42, 'end': 75}], 'document_id': '3027dfa599735ccb7cfd05f7f9f4d6df', 'meta': {'article_title': 'Arxiv_paper_38_m.txt'}}>, <Answer {'answer': 'catastrophic scenario', 'type': 'extractive', 'score': 0.06125081516802311, 'context': 'to avoid the catastrophic scenario known as Kessler Syndrome Kessler and', 'offsets_in_document': [{'start': 13, 'end': 34}], 'offsets_in_context': [{'start': 13, 'end': 34}], 'document_id': 'fc74b2b90959ad731f46d644d4dd94da', 'meta': {'article_title': 'sd_paper_45_m.txt'}}>, <Answer {'answer': 'the probability', 'type': 'extractive', 'score': 0.06084822677075863, 'context': 'of Kessler Syndrome at any given time. In the main parameter set, the probability of Kessler', 'offsets_in_document': [{'start': 66, 'end': 81}], 'offsets_in_context': [{'start': 66, 'end': 81}], 'document_id': '3027dfa599735ccb7cfd05f7f9f4d6df', 'meta': {'article_title': 'Arxiv_paper_38_m.txt'}}>, <Answer {'answer': 'the probability of Kessler Syndrome peaks within 25', 'type': 'extractive', 'score': 0.05776457116007805, 'context': 'distribution of Kessler times shows that the probability of Kessler Syndrome peaks within 25', 'offsets_in_document': [{'start': 41, 'end': 92}], 'offsets_in_context': [{'start': 41, 'end': 92}], 'document_id': '3027dfa599735ccb7cfd05f7f9f4d6df', 'meta': {'article_title': 'Arxiv_paper_38_m.txt'}}>, <Answer {'answer': 'Kessler', 'type': 'extractive', 'score': 0.03191321808844805, 'context': '0     \\nKessler  ', 'offsets_in_document': [{'start': 6, 'end': 13}], 'offsets_in_context': [{'start': 6, 'end': 13}], 'document_id': 'bb3dea6da2cec87d3b9cd779162ed634', 'meta': {'article_title': 'Arxiv_paper_22_m.txt'}}>, <Answer {'answer': 'Kessler Syndrome to occur.', 'type': 'extractive', 'score': 0.007679401896893978, 'context': 'Kessler Syndrome to occur.', 'offsets_in_document': [{'start': 0, 'end': 26}], 'offsets_in_context': [{'start': 0, 'end': 26}], 'document_id': '3027dfa599735ccb7cfd05f7f9f4d6df', 'meta': {'article_title': 'Arxiv_paper_38_m.txt'}}>, <Answer {'answer': 'Syndrome', 'type': 'extractive', 'score': 0.0013395758578553796, 'context': 'Syndrome.', 'offsets_in_document': [{'start': 0, 'end': 8}], 'offsets_in_context': [{'start': 0, 'end': 8}], 'document_id': '9ef9e70bd1caa0906e44c3ae7958684', 'meta': {'article_title': 'Arxiv_paper_105_m.txt'}}>, <Answer {'answer': 'Syndrome', 'type': 'extractive', 'score': 0.0013395758578553796, 'context': 'Syndrome.', 'offsets_in_document': [{'start': 0, 'end': 8}], 'offsets_in_context': [{'start': 0, 'end': 8}], 'document_id': '9ef9e70bd1caa0906e44c3ae7958684', 'meta': {'article_title': 'Arxiv_paper_105_m.txt'}}>], 'documents': [<Document: {'content': 'Kessler Syndrome to occur.', 'content_type': 'text', 'score': None, 'meta': {'article_title': 'Arxiv_paper_38_m.txt'}, 'embedding': None, 'id': '3027dfa599735ccb7cfd05f7f9f4d6df'}>, <Document: {'content': 'Syndrome.', 'content_type': 'text', 'score': None, 'meta': {'article_title': 'Arxiv_paper_105_m.txt'}, 'embedding': None, 'id': '9ef9e70bd1caa0906e44c3ae7958684'}>, <Document: {'content': 'Syndrome.', 'content_type': 'text', 'score': None, 'meta': {'article_title': 'Arxiv_paper_105_m.txt'}, 'embedding': None, 'id': '9ef9e70bd1caa0906e44c3ae7958684'}>, <Document: {'content': 'to avoid the catastrophic scenario known as Kessler Syndrome Kessler and', 'content_type': 'text', 'score': None, 'meta': {'article_title': 'sd_paper_45_m.txt'}, 'embedding': None, 'id': 'fc74b2b90959ad731f46d644d4dd94da'}>, <Document: {'content': ' The Kessler Syndrome  Implications to Future Space Operations', 'content_type': 'text', 'score': None, 'meta': {'article_title': 'nasa_odqn_paper_288_m.txt'}, 'embedding': None, 'id': 'f972980fa4fbc5bdcef11f57806afeda'}>, <Document: {'content': 'of Kessler Syndrome at any given time. In the main parameter set, the probability of Kessler', 'content_type': 'text', 'score': None, 'meta': {'article_title': 'Arxiv_paper_38_m.txt'}, 'embedding': None, 'id': '3027dfa599735ccb7cfd05f7f9f4d6df'}>, <Document: {'content': '5.2. Kessler Syndrome and Mega Constellations', 'content_type': 'text', 'score': None, 'meta': {'article_title': 'sd_paper_16_m.txt'}, 'embedding': None, 'id': '82597a57d501fb7ff7ed7c129e054da2'}>, <Document: {'content': '0     \\nKessler  ', 'content_type': 'text', 'score': None, 'meta': {'article_title': 'Arxiv_paper_22_m.txt'}, 'embedding': None, 'id': 'bb3dea6da2cec87d3b9cd779162ed634'}>, <Document: {'content': 'distribution of Kessler times shows that the probability of Kessler Syndrome peaks within 25', 'content_type': 'text', 'score': None, 'meta': {'article_title': 'Arxiv_paper_38_m.txt'}, 'embedding': None, 'id': '3027dfa599735ccb7cfd05f7f9f4d6df'}>, <Document: {'content': 'region, where Kessler syndrome will occur even if there are no new launches, as the Kessler', 'content_type': 'text', 'score': None, 'meta': {'article_title': 'Arxiv_paper_38_m.txt'}, 'embedding': None, 'id': '3027dfa599735ccb7cfd05f7f9f4d6df'}>], 'root_node': 'Query', 'params': {'filters': {}, 'Retriever': {'top_k': 10}, 'Reader': {'top_k': 10}, 'Query': {}}, 'node_id': 'Reader'}\n",
            "--> End of process_request:\n",
            "request: query='What is the Kessler Syndrome?' params={'filters': {}, 'Retriever': {'top_k': 10}, 'Reader': {'top_k': 10}, 'Query': {'debug': False}} debug=False\n",
            "response <Response [200]>\n",
            "time: 12.57\n",
            "INFO:     3.249.46.150:0 - \"POST /query/ HTTP/1.1\" 200 OK\n",
            "INFO:     3.249.46.150:0 - \"GET /initialized HTTP/1.1\" 201 Created\n",
            "INFO:     3.249.46.150:0 - \"POST /feedback HTTP/1.1\" 307 Temporary Redirect\n",
            "INFO:     3.249.46.150:0 - \"POST /feedback/ HTTP/1.1\" 200 OK\n",
            "INFO:     3.249.46.150:0 - \"GET /initialized HTTP/1.1\" 201 Created\n",
            "INFO:     3.249.46.150:0 - \"GET /initialized HTTP/1.1\" 201 Created\n",
            "INFO:     3.249.46.150:0 - \"GET /initialized HTTP/1.1\" 201 Created\n",
            "INFO:     3.249.46.150:0 - \"GET /initialized HTTP/1.1\" 201 Created\n",
            "INFO:     3.249.46.150:0 - \"GET /initialized HTTP/1.1\" 201 Created\n",
            "INFO:     3.249.46.150:0 - \"POST /query HTTP/1.1\" 307 Temporary Redirect\n",
            "--> Running a query: query='When will the ' params={'filters': {}, 'Retriever': {'top_k': 10}, 'Reader': {'top_k': 10}} debug=False\n",
            "--> Result from query: {'query': 'When will the ', 'no_ans_gap': -1.151742935180664, 'answers': [<Answer {'answer': '2', 'type': 'extractive', 'score': 0.24533401429653168, 'context': 'where  when  0 and   when  0,  and  when  2,  and  when  2. The expression of Snmpq is given by', 'offsets_in_document': [{'start': 42, 'end': 43}], 'offsets_in_context': [{'start': 42, 'end': 43}], 'document_id': '632fe994c503c3113e6bf8d79a15465d', 'meta': {'article_title': 'Arxiv_paper_23_m.txt'}}>, <Answer {'answer': '2', 'type': 'extractive', 'score': 0.22657565027475357, 'context': 'where  when  0 and   when  0,  and  when  2,  and  when  2.', 'offsets_in_document': [{'start': 42, 'end': 43}], 'offsets_in_context': [{'start': 42, 'end': 43}], 'document_id': '6498d3676bd9466ff75c7075df038d05', 'meta': {'article_title': 'Arxiv_paper_70_m.txt'}}>, <Answer {'answer': '2.', 'type': 'extractive', 'score': 0.11512582935392857, 'context': 'while  and  when  2,  and  when  2.', 'offsets_in_document': [{'start': 33, 'end': 35}], 'offsets_in_context': [{'start': 33, 'end': 35}], 'document_id': '228792f4e24eb0b91aa16a8f742f927', 'meta': {'article_title': 'Arxiv_paper_26_m.txt'}}>, <Answer {'answer': 'next maneuver', 'type': 'extractive', 'score': 0.03715638816356659, 'context': 'when the next interval will  occur. A probability distribution for when the next maneuver will  occur is generated for ', 'offsets_in_document': [{'start': 76, 'end': 89}], 'offsets_in_context': [{'start': 76, 'end': 89}], 'document_id': '801997ec4a4d3ba3653f0de6cf4a8643', 'meta': {'article_title': 'SSA_papers_paper_207_m.txt'}}>, <Answer {'answer': 'When', 'type': 'extractive', 'score': 0.02322732948232442, 'context': '1 1  1 1. When the', 'offsets_in_document': [{'start': 10, 'end': 14}], 'offsets_in_context': [{'start': 10, 'end': 14}], 'document_id': '2d967e56f161774288edad624ee53ccc', 'meta': {'article_title': 'stm_paper_91_m.txt'}}>, <Answer {'answer': 'when it is directly exposed to the debris fluxes, will still produce an increase of the survivability', 'type': 'extractive', 'score': 0.022346218582242727, 'context': 'when it is directly exposed to the debris fluxes, will still produce an increase of the survivability when ', 'offsets_in_document': [{'start': 0, 'end': 101}], 'offsets_in_context': [{'start': 0, 'end': 101}], 'document_id': '9c9b56b397c46a7e8c64a031a76de3b1', 'meta': {'article_title': 'Arxiv_paper_85_m.txt'}}>, <Answer {'answer': 'when  0', 'type': 'extractive', 'score': 0.019252683967351913, 'context': 'with   when  0 and  when  0, and', 'offsets_in_document': [{'start': 20, 'end': 27}], 'offsets_in_context': [{'start': 20, 'end': 27}], 'document_id': '6498d3676bd9466ff75c7075df038d05', 'meta': {'article_title': 'Arxiv_paper_70_m.txt'}}>, <Answer {'answer': 'when  0', 'type': 'extractive', 'score': 0.019252683967351913, 'context': 'with   when  0 and  when  0, and', 'offsets_in_document': [{'start': 20, 'end': 27}], 'offsets_in_context': [{'start': 20, 'end': 27}], 'document_id': '632fe994c503c3113e6bf8d79a15465d', 'meta': {'article_title': 'Arxiv_paper_23_m.txt'}}>, <Answer {'answer': 'when   0', 'type': 'extractive', 'score': 0.010311305057257414, 'context': 'with    when   0 and  when   0', 'offsets_in_document': [{'start': 22, 'end': 30}], 'offsets_in_context': [{'start': 22, 'end': 30}], 'document_id': 'c58187ed74f01e32284fb36c9c51ddf4', 'meta': {'article_title': 'sd_paper_43_m.txt'}}>, <Answer {'answer': 'R will be', 'type': 'extractive', 'score': 0.004350511357188225, 'context': 'R will be ', 'offsets_in_document': [{'start': 0, 'end': 9}], 'offsets_in_context': [{'start': 0, 'end': 9}], 'document_id': 'ce85a6c41192e5dfd134b976831c340d', 'meta': {'article_title': 'Arxiv_paper_67_m.txt'}}>], 'documents': [<Document: {'content': '1 1  1 1. When the', 'content_type': 'text', 'score': None, 'meta': {'article_title': 'stm_paper_91_m.txt'}, 'embedding': None, 'id': '2d967e56f161774288edad624ee53ccc'}>, <Document: {'content': 'with    when   0 and  when   0', 'content_type': 'text', 'score': None, 'meta': {'article_title': 'sd_paper_43_m.txt'}, 'embedding': None, 'id': 'c58187ed74f01e32284fb36c9c51ddf4'}>, <Document: {'content': 'where  when  0 and   when  0,  and  when  2,  and  when  2.', 'content_type': 'text', 'score': None, 'meta': {'article_title': 'Arxiv_paper_70_m.txt'}, 'embedding': None, 'id': '6498d3676bd9466ff75c7075df038d05'}>, <Document: {'content': 'with   when  0 and  when  0, and', 'content_type': 'text', 'score': None, 'meta': {'article_title': 'Arxiv_paper_70_m.txt'}, 'embedding': None, 'id': '6498d3676bd9466ff75c7075df038d05'}>, <Document: {'content': 'with   when  0 and  when  0, and', 'content_type': 'text', 'score': None, 'meta': {'article_title': 'Arxiv_paper_23_m.txt'}, 'embedding': None, 'id': '632fe994c503c3113e6bf8d79a15465d'}>, <Document: {'content': 'while  and  when  2,  and  when  2.', 'content_type': 'text', 'score': None, 'meta': {'article_title': 'Arxiv_paper_26_m.txt'}, 'embedding': None, 'id': '228792f4e24eb0b91aa16a8f742f927'}>, <Document: {'content': 'where  when  0 and   when  0,  and  when  2,  and  when  2. The expression of Snmpq is given by', 'content_type': 'text', 'score': None, 'meta': {'article_title': 'Arxiv_paper_23_m.txt'}, 'embedding': None, 'id': '632fe994c503c3113e6bf8d79a15465d'}>, <Document: {'content': 'when the next interval will  occur. A probability distribution for when the next maneuver will  occur is generated for ', 'content_type': 'text', 'score': None, 'meta': {'article_title': 'SSA_papers_paper_207_m.txt'}, 'embedding': None, 'id': '801997ec4a4d3ba3653f0de6cf4a8643'}>, <Document: {'content': 'R will be ', 'content_type': 'text', 'score': None, 'meta': {'article_title': 'Arxiv_paper_67_m.txt'}, 'embedding': None, 'id': 'ce85a6c41192e5dfd134b976831c340d'}>, <Document: {'content': 'when it is directly exposed to the debris fluxes, will still produce an increase of the survivability when ', 'content_type': 'text', 'score': None, 'meta': {'article_title': 'Arxiv_paper_85_m.txt'}, 'embedding': None, 'id': '9c9b56b397c46a7e8c64a031a76de3b1'}>], 'root_node': 'Query', 'params': {'filters': {}, 'Retriever': {'top_k': 10}, 'Reader': {'top_k': 10}, 'Query': {}}, 'node_id': 'Reader'}\n",
            "--> End of process_request:\n",
            "request: query='When will the ' params={'filters': {}, 'Retriever': {'top_k': 10}, 'Reader': {'top_k': 10}, 'Query': {'debug': False}} debug=False\n",
            "response <Response [200]>\n",
            "time: 14.45\n",
            "INFO:     3.249.46.150:0 - \"POST /query/ HTTP/1.1\" 200 OK\n",
            "INFO:     3.249.46.150:0 - \"GET /initialized HTTP/1.1\" 201 Created\n",
            "INFO:     3.249.46.150:0 - \"GET /initialized HTTP/1.1\" 201 Created\n",
            "INFO:     3.249.46.150:0 - \"POST /query HTTP/1.1\" 307 Temporary Redirect\n",
            "--> Running a query: query='When will the ' params={'filters': {}, 'Retriever': {'top_k': 10}, 'Reader': {'top_k': 10}} debug=False\n",
            "INFO:     3.249.46.150:0 - \"GET /initialized HTTP/1.1\" 201 Created\n",
            "--> Result from query: {'query': 'When will the ', 'no_ans_gap': -1.151742935180664, 'answers': [<Answer {'answer': '2', 'type': 'extractive', 'score': 0.24533401429653168, 'context': 'where  when  0 and   when  0,  and  when  2,  and  when  2. The expression of Snmpq is given by', 'offsets_in_document': [{'start': 42, 'end': 43}], 'offsets_in_context': [{'start': 42, 'end': 43}], 'document_id': '632fe994c503c3113e6bf8d79a15465d', 'meta': {'article_title': 'Arxiv_paper_23_m.txt'}}>, <Answer {'answer': '2', 'type': 'extractive', 'score': 0.22657565027475357, 'context': 'where  when  0 and   when  0,  and  when  2,  and  when  2.', 'offsets_in_document': [{'start': 42, 'end': 43}], 'offsets_in_context': [{'start': 42, 'end': 43}], 'document_id': '6498d3676bd9466ff75c7075df038d05', 'meta': {'article_title': 'Arxiv_paper_70_m.txt'}}>, <Answer {'answer': '2.', 'type': 'extractive', 'score': 0.11512582935392857, 'context': 'while  and  when  2,  and  when  2.', 'offsets_in_document': [{'start': 33, 'end': 35}], 'offsets_in_context': [{'start': 33, 'end': 35}], 'document_id': '228792f4e24eb0b91aa16a8f742f927', 'meta': {'article_title': 'Arxiv_paper_26_m.txt'}}>, <Answer {'answer': 'next maneuver', 'type': 'extractive', 'score': 0.03715638816356659, 'context': 'when the next interval will  occur. A probability distribution for when the next maneuver will  occur is generated for ', 'offsets_in_document': [{'start': 76, 'end': 89}], 'offsets_in_context': [{'start': 76, 'end': 89}], 'document_id': '801997ec4a4d3ba3653f0de6cf4a8643', 'meta': {'article_title': 'SSA_papers_paper_207_m.txt'}}>, <Answer {'answer': 'When', 'type': 'extractive', 'score': 0.02322732948232442, 'context': '1 1  1 1. When the', 'offsets_in_document': [{'start': 10, 'end': 14}], 'offsets_in_context': [{'start': 10, 'end': 14}], 'document_id': '2d967e56f161774288edad624ee53ccc', 'meta': {'article_title': 'stm_paper_91_m.txt'}}>, <Answer {'answer': 'when it is directly exposed to the debris fluxes, will still produce an increase of the survivability', 'type': 'extractive', 'score': 0.022346218582242727, 'context': 'when it is directly exposed to the debris fluxes, will still produce an increase of the survivability when ', 'offsets_in_document': [{'start': 0, 'end': 101}], 'offsets_in_context': [{'start': 0, 'end': 101}], 'document_id': '9c9b56b397c46a7e8c64a031a76de3b1', 'meta': {'article_title': 'Arxiv_paper_85_m.txt'}}>, <Answer {'answer': 'when  0', 'type': 'extractive', 'score': 0.019252683967351913, 'context': 'with   when  0 and  when  0, and', 'offsets_in_document': [{'start': 20, 'end': 27}], 'offsets_in_context': [{'start': 20, 'end': 27}], 'document_id': '6498d3676bd9466ff75c7075df038d05', 'meta': {'article_title': 'Arxiv_paper_70_m.txt'}}>, <Answer {'answer': 'when  0', 'type': 'extractive', 'score': 0.019252683967351913, 'context': 'with   when  0 and  when  0, and', 'offsets_in_document': [{'start': 20, 'end': 27}], 'offsets_in_context': [{'start': 20, 'end': 27}], 'document_id': '632fe994c503c3113e6bf8d79a15465d', 'meta': {'article_title': 'Arxiv_paper_23_m.txt'}}>, <Answer {'answer': 'when   0', 'type': 'extractive', 'score': 0.010311305057257414, 'context': 'with    when   0 and  when   0', 'offsets_in_document': [{'start': 22, 'end': 30}], 'offsets_in_context': [{'start': 22, 'end': 30}], 'document_id': 'c58187ed74f01e32284fb36c9c51ddf4', 'meta': {'article_title': 'sd_paper_43_m.txt'}}>, <Answer {'answer': 'R will be', 'type': 'extractive', 'score': 0.004350511357188225, 'context': 'R will be ', 'offsets_in_document': [{'start': 0, 'end': 9}], 'offsets_in_context': [{'start': 0, 'end': 9}], 'document_id': 'ce85a6c41192e5dfd134b976831c340d', 'meta': {'article_title': 'Arxiv_paper_67_m.txt'}}>], 'documents': [<Document: {'content': '1 1  1 1. When the', 'content_type': 'text', 'score': None, 'meta': {'article_title': 'stm_paper_91_m.txt'}, 'embedding': None, 'id': '2d967e56f161774288edad624ee53ccc'}>, <Document: {'content': 'with    when   0 and  when   0', 'content_type': 'text', 'score': None, 'meta': {'article_title': 'sd_paper_43_m.txt'}, 'embedding': None, 'id': 'c58187ed74f01e32284fb36c9c51ddf4'}>, <Document: {'content': 'where  when  0 and   when  0,  and  when  2,  and  when  2.', 'content_type': 'text', 'score': None, 'meta': {'article_title': 'Arxiv_paper_70_m.txt'}, 'embedding': None, 'id': '6498d3676bd9466ff75c7075df038d05'}>, <Document: {'content': 'with   when  0 and  when  0, and', 'content_type': 'text', 'score': None, 'meta': {'article_title': 'Arxiv_paper_70_m.txt'}, 'embedding': None, 'id': '6498d3676bd9466ff75c7075df038d05'}>, <Document: {'content': 'with   when  0 and  when  0, and', 'content_type': 'text', 'score': None, 'meta': {'article_title': 'Arxiv_paper_23_m.txt'}, 'embedding': None, 'id': '632fe994c503c3113e6bf8d79a15465d'}>, <Document: {'content': 'while  and  when  2,  and  when  2.', 'content_type': 'text', 'score': None, 'meta': {'article_title': 'Arxiv_paper_26_m.txt'}, 'embedding': None, 'id': '228792f4e24eb0b91aa16a8f742f927'}>, <Document: {'content': 'where  when  0 and   when  0,  and  when  2,  and  when  2. The expression of Snmpq is given by', 'content_type': 'text', 'score': None, 'meta': {'article_title': 'Arxiv_paper_23_m.txt'}, 'embedding': None, 'id': '632fe994c503c3113e6bf8d79a15465d'}>, <Document: {'content': 'when the next interval will  occur. A probability distribution for when the next maneuver will  occur is generated for ', 'content_type': 'text', 'score': None, 'meta': {'article_title': 'SSA_papers_paper_207_m.txt'}, 'embedding': None, 'id': '801997ec4a4d3ba3653f0de6cf4a8643'}>, <Document: {'content': 'R will be ', 'content_type': 'text', 'score': None, 'meta': {'article_title': 'Arxiv_paper_67_m.txt'}, 'embedding': None, 'id': 'ce85a6c41192e5dfd134b976831c340d'}>, <Document: {'content': 'when it is directly exposed to the debris fluxes, will still produce an increase of the survivability when ', 'content_type': 'text', 'score': None, 'meta': {'article_title': 'Arxiv_paper_85_m.txt'}, 'embedding': None, 'id': '9c9b56b397c46a7e8c64a031a76de3b1'}>], 'root_node': 'Query', 'params': {'filters': {}, 'Retriever': {'top_k': 10}, 'Reader': {'top_k': 10}, 'Query': {}}, 'node_id': 'Reader'}\n",
            "--> End of process_request:\n",
            "request: query='When will the ' params={'filters': {}, 'Retriever': {'top_k': 10}, 'Reader': {'top_k': 10}, 'Query': {'debug': False}} debug=False\n",
            "response <Response [200]>\n",
            "time: 12.56\n",
            "INFO:     3.249.46.150:0 - \"POST /query/ HTTP/1.1\" 200 OK\n",
            "INFO:     3.249.46.150:0 - \"GET /initialized HTTP/1.1\" 201 Created\n",
            "INFO:     3.249.46.150:0 - \"POST /query HTTP/1.1\" 307 Temporary Redirect\n",
            "--> Running a query: query='What is the lunar gateway?' params={'filters': {}, 'Retriever': {'top_k': 10}, 'Reader': {'top_k': 10}} debug=False\n",
            "--> Result from query: {'query': 'What is the lunar gateway?', 'no_ans_gap': -2.082462787628174, 'answers': [<Answer {'answer': 'LUNAR', 'type': 'extractive', 'score': 0.25343509763479233, 'context': 'LUNAR ', 'offsets_in_document': [{'start': 0, 'end': 5}], 'offsets_in_context': [{'start': 0, 'end': 5}], 'document_id': '67c590075e5ca1c9186894e673a05378', 'meta': {'article_title': 'sem_paper_20_m.txt'}}>, <Answer {'answer': 'LUNAR', 'type': 'extractive', 'score': 0.04846109822392464, 'context': 'FOR LUNAR ', 'offsets_in_document': [{'start': 4, 'end': 9}], 'offsets_in_context': [{'start': 4, 'end': 9}], 'document_id': '67c590075e5ca1c9186894e673a05378', 'meta': {'article_title': 'sem_paper_20_m.txt'}}>, <Answer {'answer': 'gateway', 'type': 'extractive', 'score': 0.002116666466463357, 'context': 'Service  gateway', 'offsets_in_document': [{'start': 9, 'end': 16}], 'offsets_in_context': [{'start': 9, 'end': 16}], 'document_id': 'ced1d2f7d6b67a9bcbbb2bff2d8359eb', 'meta': {'article_title': 'ssa_paper_47_m.txt'}}>, <Answer {'answer': 'Gateway', 'type': 'extractive', 'score': 0.0017399985808879137, 'context': 'Gateway', 'offsets_in_document': [{'start': 0, 'end': 7}], 'offsets_in_context': [{'start': 0, 'end': 7}], 'document_id': 'c954750133624c203bd73f839a713019', 'meta': {'article_title': 'Arxiv_paper_112_m.txt'}}>, <Answer {'answer': 'Gateway', 'type': 'extractive', 'score': 0.0017399985808879137, 'context': 'Gateway', 'offsets_in_document': [{'start': 0, 'end': 7}], 'offsets_in_context': [{'start': 0, 'end': 7}], 'document_id': 'acff4b660a6c9ad20ffed841b2b6c173', 'meta': {'article_title': 'ssa_paper_1_m.txt'}}>, <Answer {'answer': 'Gateway', 'type': 'extractive', 'score': 0.0017399985808879137, 'context': 'Gateway', 'offsets_in_document': [{'start': 0, 'end': 7}], 'offsets_in_context': [{'start': 0, 'end': 7}], 'document_id': 'cf32698a3ab7748b3ef4ab27db07395e', 'meta': {'article_title': 'stm_paper_15_m.txt'}}>, <Answer {'answer': 'Gateway', 'type': 'extractive', 'score': 0.0017399985808879137, 'context': 'Gateway', 'offsets_in_document': [{'start': 0, 'end': 7}], 'offsets_in_context': [{'start': 0, 'end': 7}], 'document_id': '3749c5046be05d3e74f667ae9bb424a7', 'meta': {'article_title': 'SSA_papers_paper_218_m.txt'}}>, <Answer {'answer': 'Gateway', 'type': 'extractive', 'score': 0.0017399985808879137, 'context': 'Gateway', 'offsets_in_document': [{'start': 0, 'end': 7}], 'offsets_in_context': [{'start': 0, 'end': 7}], 'document_id': '3749c5046be05d3e74f667ae9bb424a7', 'meta': {'article_title': 'SSA_papers_paper_218_m.txt'}}>, <Answer {'answer': 'Risk', 'type': 'extractive', 'score': 0.0008500061958329752, 'context': 'What is the Risk', 'offsets_in_document': [{'start': 12, 'end': 16}], 'offsets_in_context': [{'start': 12, 'end': 16}], 'document_id': 'd8bf7d33de8c65d6cbabb0237560d7b', 'meta': {'article_title': 'stm_paper_88_m.txt'}}>, <Answer {'answer': 'Service gateway', 'type': 'extractive', 'score': 0.0004646564557333477, 'context': 'Service gateway Se', 'offsets_in_document': [{'start': 0, 'end': 15}], 'offsets_in_context': [{'start': 0, 'end': 15}], 'document_id': 'ced1d2f7d6b67a9bcbbb2bff2d8359eb', 'meta': {'article_title': 'ssa_paper_47_m.txt'}}>], 'documents': [<Document: {'content': 'Gateway', 'content_type': 'text', 'score': None, 'meta': {'article_title': 'Arxiv_paper_112_m.txt'}, 'embedding': None, 'id': 'c954750133624c203bd73f839a713019'}>, <Document: {'content': 'Gateway', 'content_type': 'text', 'score': None, 'meta': {'article_title': 'ssa_paper_1_m.txt'}, 'embedding': None, 'id': 'acff4b660a6c9ad20ffed841b2b6c173'}>, <Document: {'content': 'Gateway', 'content_type': 'text', 'score': None, 'meta': {'article_title': 'stm_paper_15_m.txt'}, 'embedding': None, 'id': 'cf32698a3ab7748b3ef4ab27db07395e'}>, <Document: {'content': 'Gateway', 'content_type': 'text', 'score': None, 'meta': {'article_title': 'SSA_papers_paper_218_m.txt'}, 'embedding': None, 'id': '3749c5046be05d3e74f667ae9bb424a7'}>, <Document: {'content': 'Gateway', 'content_type': 'text', 'score': None, 'meta': {'article_title': 'SSA_papers_paper_218_m.txt'}, 'embedding': None, 'id': '3749c5046be05d3e74f667ae9bb424a7'}>, <Document: {'content': 'Service  gateway', 'content_type': 'text', 'score': None, 'meta': {'article_title': 'ssa_paper_47_m.txt'}, 'embedding': None, 'id': 'ced1d2f7d6b67a9bcbbb2bff2d8359eb'}>, <Document: {'content': 'Service gateway Se', 'content_type': 'text', 'score': None, 'meta': {'article_title': 'ssa_paper_47_m.txt'}, 'embedding': None, 'id': 'ced1d2f7d6b67a9bcbbb2bff2d8359eb'}>, <Document: {'content': 'LUNAR ', 'content_type': 'text', 'score': None, 'meta': {'article_title': 'sem_paper_20_m.txt'}, 'embedding': None, 'id': '67c590075e5ca1c9186894e673a05378'}>, <Document: {'content': 'FOR LUNAR ', 'content_type': 'text', 'score': None, 'meta': {'article_title': 'sem_paper_20_m.txt'}, 'embedding': None, 'id': '67c590075e5ca1c9186894e673a05378'}>, <Document: {'content': 'What is the Risk', 'content_type': 'text', 'score': None, 'meta': {'article_title': 'stm_paper_88_m.txt'}, 'embedding': None, 'id': 'd8bf7d33de8c65d6cbabb0237560d7b'}>], 'root_node': 'Query', 'params': {'filters': {}, 'Retriever': {'top_k': 10}, 'Reader': {'top_k': 10}, 'Query': {}}, 'node_id': 'Reader'}\n",
            "--> End of process_request:\n",
            "request: query='What is the lunar gateway?' params={'filters': {}, 'Retriever': {'top_k': 10}, 'Reader': {'top_k': 10}, 'Query': {'debug': False}} debug=False\n",
            "response <Response [200]>\n",
            "time: 12.48\n",
            "INFO:     3.249.46.150:0 - \"POST /query/ HTTP/1.1\" 200 OK\n",
            "INFO:     3.249.46.150:0 - \"GET /initialized HTTP/1.1\" 201 Created\n",
            "INFO:     3.249.46.150:0 - \"GET /initialized HTTP/1.1\" 201 Created\n",
            "INFO:     3.249.46.150:0 - \"POST /query HTTP/1.1\" 307 Temporary Redirect\n",
            "--> Running a query: query='what is the success rate of Falcon 9?' params={'filters': {}, 'Retriever': {'top_k': 10}, 'Reader': {'top_k': 10}} debug=False\n",
            "--> Result from query: {'query': 'what is the success rate of Falcon 9?', 'no_ans_gap': -0.4016733169555664, 'answers': [<Answer {'answer': '11 0', 'type': 'extractive', 'score': 0.422757551074028, 'context': 'Falcon 9a 11 0', 'offsets_in_document': [{'start': 10, 'end': 14}], 'offsets_in_context': [{'start': 10, 'end': 14}], 'document_id': 'b46cc22669eeb9f9ee0f4def838507bb', 'meta': {'article_title': 'Arxiv_paper_75_m.txt'}}>, <Answer {'answer': 'Induction Time', 'type': 'extractive', 'score': 0.06015712209045887, 'context': ' Success Rate and Induction Time ', 'offsets_in_document': [{'start': 18, 'end': 32}], 'offsets_in_context': [{'start': 18, 'end': 32}], 'document_id': '7c9168b4e77d1b8f9a0111539fd3df39', 'meta': {'article_title': 'sem_paper_31_m.txt'}}>, <Answer {'answer': 'success total', 'type': 'extractive', 'score': 0.010817282367497683, 'context': 'success total ', 'offsets_in_document': [{'start': 0, 'end': 13}], 'offsets_in_context': [{'start': 0, 'end': 13}], 'document_id': '4c1759447603fc098d0939493009d5dd', 'meta': {'article_title': 'nasa_odqn_paper_286_m.txt'}}>, <Answer {'answer': 'rate', 'type': 'extractive', 'score': 0.007891701068729162, 'context': 'rate ', 'offsets_in_document': [{'start': 0, 'end': 4}], 'offsets_in_context': [{'start': 0, 'end': 4}], 'document_id': 'ce85a6c41192e5dfd134b976831c340d', 'meta': {'article_title': 'Arxiv_paper_67_m.txt'}}>, <Answer {'answer': 'Avoidance Success', 'type': 'extractive', 'score': 0.003629335784353316, 'context': 'Avoidance Success', 'offsets_in_document': [{'start': 0, 'end': 17}], 'offsets_in_context': [{'start': 0, 'end': 17}], 'document_id': '7a22547802eb2f14a24d051617eb0ae1', 'meta': {'article_title': 'SSA_papers_paper_212_m.txt'}}>, <Answer {'answer': 'Tracking Success', 'type': 'extractive', 'score': 0.0030594184063374996, 'context': 'Tracking Success', 'offsets_in_document': [{'start': 0, 'end': 16}], 'offsets_in_context': [{'start': 0, 'end': 16}], 'document_id': '7a22547802eb2f14a24d051617eb0ae1', 'meta': {'article_title': 'SSA_papers_paper_212_m.txt'}}>, <Answer {'answer': 'Tracking Success', 'type': 'extractive', 'score': 0.0030594184063374996, 'context': 'Tracking Success', 'offsets_in_document': [{'start': 0, 'end': 16}], 'offsets_in_context': [{'start': 0, 'end': 16}], 'document_id': '213f99401413149985faa6410b4f52f9', 'meta': {'article_title': 'ssa_paper_22_m.txt'}}>, <Answer {'answer': 'Risk', 'type': 'extractive', 'score': 0.0022275055525824428, 'context': 'What is the Risk ', 'offsets_in_document': [{'start': 12, 'end': 16}], 'offsets_in_context': [{'start': 12, 'end': 16}], 'document_id': 'd8bf7d33de8c65d6cbabb0237560d7b', 'meta': {'article_title': 'stm_paper_88_m.txt'}}>, <Answer {'answer': 'Risk', 'type': 'extractive', 'score': 0.0008914881473174319, 'context': 'What is the Risk', 'offsets_in_document': [{'start': 12, 'end': 16}], 'offsets_in_context': [{'start': 12, 'end': 16}], 'document_id': 'd8bf7d33de8c65d6cbabb0237560d7b', 'meta': {'article_title': 'stm_paper_88_m.txt'}}>, <Answer {'answer': 'Handovers Success Rate', 'type': 'extractive', 'score': 0.0004683128499891609, 'context': 'Handovers Success Rate ', 'offsets_in_document': [{'start': 0, 'end': 22}], 'offsets_in_context': [{'start': 0, 'end': 22}], 'document_id': '4c1759447603fc098d0939493009d5dd', 'meta': {'article_title': 'nasa_odqn_paper_286_m.txt'}}>], 'documents': [<Document: {'content': ' Success Rate and Induction Time ', 'content_type': 'text', 'score': None, 'meta': {'article_title': 'sem_paper_31_m.txt'}, 'embedding': None, 'id': '7c9168b4e77d1b8f9a0111539fd3df39'}>, <Document: {'content': 'What is the Risk', 'content_type': 'text', 'score': None, 'meta': {'article_title': 'stm_paper_88_m.txt'}, 'embedding': None, 'id': 'd8bf7d33de8c65d6cbabb0237560d7b'}>, <Document: {'content': 'What is the Risk ', 'content_type': 'text', 'score': None, 'meta': {'article_title': 'stm_paper_88_m.txt'}, 'embedding': None, 'id': 'd8bf7d33de8c65d6cbabb0237560d7b'}>, <Document: {'content': 'Handovers Success Rate ', 'content_type': 'text', 'score': None, 'meta': {'article_title': 'nasa_odqn_paper_286_m.txt'}, 'embedding': None, 'id': '4c1759447603fc098d0939493009d5dd'}>, <Document: {'content': 'rate ', 'content_type': 'text', 'score': None, 'meta': {'article_title': 'Arxiv_paper_67_m.txt'}, 'embedding': None, 'id': 'ce85a6c41192e5dfd134b976831c340d'}>, <Document: {'content': 'Tracking Success', 'content_type': 'text', 'score': None, 'meta': {'article_title': 'SSA_papers_paper_212_m.txt'}, 'embedding': None, 'id': '7a22547802eb2f14a24d051617eb0ae1'}>, <Document: {'content': 'Tracking Success', 'content_type': 'text', 'score': None, 'meta': {'article_title': 'ssa_paper_22_m.txt'}, 'embedding': None, 'id': '213f99401413149985faa6410b4f52f9'}>, <Document: {'content': 'Falcon 9a 11 0', 'content_type': 'text', 'score': None, 'meta': {'article_title': 'Arxiv_paper_75_m.txt'}, 'embedding': None, 'id': 'b46cc22669eeb9f9ee0f4def838507bb'}>, <Document: {'content': 'success total ', 'content_type': 'text', 'score': None, 'meta': {'article_title': 'nasa_odqn_paper_286_m.txt'}, 'embedding': None, 'id': '4c1759447603fc098d0939493009d5dd'}>, <Document: {'content': 'Avoidance Success', 'content_type': 'text', 'score': None, 'meta': {'article_title': 'SSA_papers_paper_212_m.txt'}, 'embedding': None, 'id': '7a22547802eb2f14a24d051617eb0ae1'}>], 'root_node': 'Query', 'params': {'filters': {}, 'Retriever': {'top_k': 10}, 'Reader': {'top_k': 10}, 'Query': {}}, 'node_id': 'Reader'}\n",
            "--> End of process_request:\n",
            "request: query='what is the success rate of Falcon 9?' params={'filters': {}, 'Retriever': {'top_k': 10}, 'Reader': {'top_k': 10}, 'Query': {'debug': False}} debug=False\n",
            "response <Response [200]>\n",
            "time: 12.64\n",
            "INFO:     3.249.46.150:0 - \"POST /query/ HTTP/1.1\" 200 OK\n",
            "INFO:     3.249.46.150:0 - \"GET /initialized HTTP/1.1\" 201 Created\n",
            "INFO:     3.249.46.150:0 - \"GET /initialized HTTP/1.1\" 201 Created\n",
            "INFO:     3.249.46.150:0 - \"POST /query HTTP/1.1\" 307 Temporary Redirect\n",
            "--> Running a query: query='what is the success rate of Falcon 9?' params={'filters': {}, 'Retriever': {'top_k': 10}, 'Reader': {'top_k': 10}} debug=False\n",
            "--> Result from query: {'query': 'what is the success rate of Falcon 9?', 'no_ans_gap': -0.4016733169555664, 'answers': [<Answer {'answer': '11 0', 'type': 'extractive', 'score': 0.422757551074028, 'context': 'Falcon 9a 11 0', 'offsets_in_document': [{'start': 10, 'end': 14}], 'offsets_in_context': [{'start': 10, 'end': 14}], 'document_id': 'b46cc22669eeb9f9ee0f4def838507bb', 'meta': {'article_title': 'Arxiv_paper_75_m.txt'}}>, <Answer {'answer': 'Induction Time', 'type': 'extractive', 'score': 0.06015712209045887, 'context': ' Success Rate and Induction Time ', 'offsets_in_document': [{'start': 18, 'end': 32}], 'offsets_in_context': [{'start': 18, 'end': 32}], 'document_id': '7c9168b4e77d1b8f9a0111539fd3df39', 'meta': {'article_title': 'sem_paper_31_m.txt'}}>, <Answer {'answer': 'success total', 'type': 'extractive', 'score': 0.010817282367497683, 'context': 'success total ', 'offsets_in_document': [{'start': 0, 'end': 13}], 'offsets_in_context': [{'start': 0, 'end': 13}], 'document_id': '4c1759447603fc098d0939493009d5dd', 'meta': {'article_title': 'nasa_odqn_paper_286_m.txt'}}>, <Answer {'answer': 'rate', 'type': 'extractive', 'score': 0.007891701068729162, 'context': 'rate ', 'offsets_in_document': [{'start': 0, 'end': 4}], 'offsets_in_context': [{'start': 0, 'end': 4}], 'document_id': 'ce85a6c41192e5dfd134b976831c340d', 'meta': {'article_title': 'Arxiv_paper_67_m.txt'}}>, <Answer {'answer': 'Avoidance Success', 'type': 'extractive', 'score': 0.003629335784353316, 'context': 'Avoidance Success', 'offsets_in_document': [{'start': 0, 'end': 17}], 'offsets_in_context': [{'start': 0, 'end': 17}], 'document_id': '7a22547802eb2f14a24d051617eb0ae1', 'meta': {'article_title': 'SSA_papers_paper_212_m.txt'}}>, <Answer {'answer': 'Tracking Success', 'type': 'extractive', 'score': 0.0030594184063374996, 'context': 'Tracking Success', 'offsets_in_document': [{'start': 0, 'end': 16}], 'offsets_in_context': [{'start': 0, 'end': 16}], 'document_id': '7a22547802eb2f14a24d051617eb0ae1', 'meta': {'article_title': 'SSA_papers_paper_212_m.txt'}}>, <Answer {'answer': 'Tracking Success', 'type': 'extractive', 'score': 0.0030594184063374996, 'context': 'Tracking Success', 'offsets_in_document': [{'start': 0, 'end': 16}], 'offsets_in_context': [{'start': 0, 'end': 16}], 'document_id': '213f99401413149985faa6410b4f52f9', 'meta': {'article_title': 'ssa_paper_22_m.txt'}}>, <Answer {'answer': 'Risk', 'type': 'extractive', 'score': 0.0022275055525824428, 'context': 'What is the Risk ', 'offsets_in_document': [{'start': 12, 'end': 16}], 'offsets_in_context': [{'start': 12, 'end': 16}], 'document_id': 'd8bf7d33de8c65d6cbabb0237560d7b', 'meta': {'article_title': 'stm_paper_88_m.txt'}}>, <Answer {'answer': 'Risk', 'type': 'extractive', 'score': 0.0008914881473174319, 'context': 'What is the Risk', 'offsets_in_document': [{'start': 12, 'end': 16}], 'offsets_in_context': [{'start': 12, 'end': 16}], 'document_id': 'd8bf7d33de8c65d6cbabb0237560d7b', 'meta': {'article_title': 'stm_paper_88_m.txt'}}>, <Answer {'answer': 'Handovers Success Rate', 'type': 'extractive', 'score': 0.0004683128499891609, 'context': 'Handovers Success Rate ', 'offsets_in_document': [{'start': 0, 'end': 22}], 'offsets_in_context': [{'start': 0, 'end': 22}], 'document_id': '4c1759447603fc098d0939493009d5dd', 'meta': {'article_title': 'nasa_odqn_paper_286_m.txt'}}>], 'documents': [<Document: {'content': ' Success Rate and Induction Time ', 'content_type': 'text', 'score': None, 'meta': {'article_title': 'sem_paper_31_m.txt'}, 'embedding': None, 'id': '7c9168b4e77d1b8f9a0111539fd3df39'}>, <Document: {'content': 'What is the Risk', 'content_type': 'text', 'score': None, 'meta': {'article_title': 'stm_paper_88_m.txt'}, 'embedding': None, 'id': 'd8bf7d33de8c65d6cbabb0237560d7b'}>, <Document: {'content': 'What is the Risk ', 'content_type': 'text', 'score': None, 'meta': {'article_title': 'stm_paper_88_m.txt'}, 'embedding': None, 'id': 'd8bf7d33de8c65d6cbabb0237560d7b'}>, <Document: {'content': 'Handovers Success Rate ', 'content_type': 'text', 'score': None, 'meta': {'article_title': 'nasa_odqn_paper_286_m.txt'}, 'embedding': None, 'id': '4c1759447603fc098d0939493009d5dd'}>, <Document: {'content': 'rate ', 'content_type': 'text', 'score': None, 'meta': {'article_title': 'Arxiv_paper_67_m.txt'}, 'embedding': None, 'id': 'ce85a6c41192e5dfd134b976831c340d'}>, <Document: {'content': 'Tracking Success', 'content_type': 'text', 'score': None, 'meta': {'article_title': 'SSA_papers_paper_212_m.txt'}, 'embedding': None, 'id': '7a22547802eb2f14a24d051617eb0ae1'}>, <Document: {'content': 'Tracking Success', 'content_type': 'text', 'score': None, 'meta': {'article_title': 'ssa_paper_22_m.txt'}, 'embedding': None, 'id': '213f99401413149985faa6410b4f52f9'}>, <Document: {'content': 'Falcon 9a 11 0', 'content_type': 'text', 'score': None, 'meta': {'article_title': 'Arxiv_paper_75_m.txt'}, 'embedding': None, 'id': 'b46cc22669eeb9f9ee0f4def838507bb'}>, <Document: {'content': 'success total ', 'content_type': 'text', 'score': None, 'meta': {'article_title': 'nasa_odqn_paper_286_m.txt'}, 'embedding': None, 'id': '4c1759447603fc098d0939493009d5dd'}>, <Document: {'content': 'Avoidance Success', 'content_type': 'text', 'score': None, 'meta': {'article_title': 'SSA_papers_paper_212_m.txt'}, 'embedding': None, 'id': '7a22547802eb2f14a24d051617eb0ae1'}>], 'root_node': 'Query', 'params': {'filters': {}, 'Retriever': {'top_k': 10}, 'Reader': {'top_k': 10}, 'Query': {}}, 'node_id': 'Reader'}\n",
            "--> End of process_request:\n",
            "request: query='what is the success rate of Falcon 9?' params={'filters': {}, 'Retriever': {'top_k': 10}, 'Reader': {'top_k': 10}, 'Query': {'debug': False}} debug=False\n",
            "response <Response [200]>\n",
            "time: 12.61\n",
            "INFO:     3.249.46.150:0 - \"POST /query/ HTTP/1.1\" 200 OK\n",
            "INFO:     3.249.46.150:0 - \"GET /initialized HTTP/1.1\" 201 Created\n",
            "INFO:     3.249.46.150:0 - \"POST /query HTTP/1.1\" 307 Temporary Redirect\n",
            "--> Running a query: query='how many identified debris objects are there in LEO?' params={'filters': {}, 'Retriever': {'top_k': 10}, 'Reader': {'top_k': 10}} debug=False\n",
            "--> Result from query: {'query': 'how many identified debris objects are there in LEO?', 'no_ans_gap': -11.875093460083008, 'answers': [<Answer {'answer': 'Such objects', 'type': 'extractive', 'score': 0.01086572851636447, 'context': 'objects are in Low Earth Orbit LEO. Such objects have', 'offsets_in_document': [{'start': 36, 'end': 48}], 'offsets_in_context': [{'start': 36, 'end': 48}], 'document_id': '5316196fee9c2ba804e9668ab60b2497', 'meta': {'article_title': 'SSA_papers_paper_177_m.txt'}}>, <Answer {'answer': 'reducing the debris', 'type': 'extractive', 'score': 0.001372999744489789, 'context': 'There are many possible means of reducing the debris', 'offsets_in_document': [{'start': 33, 'end': 52}], 'offsets_in_context': [{'start': 33, 'end': 52}], 'document_id': '5dad29fa74904fede6749cbb0436e859', 'meta': {'article_title': 'NASA_references_pdfs_paper_149_m.txt'}}>, <Answer {'answer': 'Much', 'type': 'extractive', 'score': 0.001240690384292975, 'context': 'How Much Orbital Debris is Up There', 'offsets_in_document': [{'start': 4, 'end': 8}], 'offsets_in_context': [{'start': 4, 'end': 8}], 'document_id': 'eafdada15908a8a687243f92a47781ae', 'meta': {'article_title': 'SSA_papers_paper_161_m.txt'}}>, <Answer {'answer': 'Table 5.1', 'type': 'extractive', 'score': 0.0006110484100645408, 'context': 'to space objects combinations identified in Table 5.1. The objects are the same', 'offsets_in_document': [{'start': 44, 'end': 53}], 'offsets_in_context': [{'start': 44, 'end': 53}], 'document_id': '561d34284ca57e9570e84605ca2af5a5', 'meta': {'article_title': 'ssa_paper_75_m.txt'}}>, <Answer {'answer': '.How', 'type': 'extractive', 'score': 0.0003264805200160481, 'context': ' .How', 'offsets_in_document': [{'start': 1, 'end': 5}], 'offsets_in_context': [{'start': 1, 'end': 5}], 'document_id': 'a7fa81869573e6ecff556ff5aa560221', 'meta': {'article_title': 'SSA_papers_paper_227_m.txt'}}>, <Answer {'answer': 'medium objects', 'type': 'extractive', 'score': 0.00018692992307478562, 'context': 'and medium objects in LEO. There are some differences between these', 'offsets_in_document': [{'start': 4, 'end': 18}], 'offsets_in_context': [{'start': 4, 'end': 18}], 'document_id': '5dad29fa74904fede6749cbb0436e859', 'meta': {'article_title': 'NASA_references_pdfs_paper_149_m.txt'}}>, <Answer {'answer': 'LEO', 'type': 'extractive', 'score': 0.00015321197497542016, 'context': 'LEO', 'offsets_in_document': [{'start': 0, 'end': 3}], 'offsets_in_context': [{'start': 0, 'end': 3}], 'document_id': '5dad29fa74904fede6749cbb0436e859', 'meta': {'article_title': 'NASA_references_pdfs_paper_149_m.txt'}}>, <Answer {'answer': 'LEO', 'type': 'extractive', 'score': 0.00015321197497542016, 'context': 'LEO', 'offsets_in_document': [{'start': 0, 'end': 3}], 'offsets_in_context': [{'start': 0, 'end': 3}], 'document_id': '3bb79d582bbbfff31b61bca83b5b801f', 'meta': {'article_title': 'Arxiv_paper_119_m.txt'}}>, <Answer {'answer': 'How many', 'type': 'extractive', 'score': 5.1171908125979826e-05, 'context': ' How many objects are there cardinality problem', 'offsets_in_document': [{'start': 1, 'end': 9}], 'offsets_in_context': [{'start': 1, 'end': 9}], 'document_id': 'f69d2c9938c49a3565daf5dab15302a2', 'meta': {'article_title': 'SSA_papers_paper_226_m.txt'}}>], 'documents': [<Document: {'content': ' How many objects are there cardinality problem', 'content_type': 'text', 'score': None, 'meta': {'article_title': 'SSA_papers_paper_226_m.txt'}, 'embedding': None, 'id': 'f69d2c9938c49a3565daf5dab15302a2'}>, <Document: {'content': 'to space objects combinations identified in Table 5.1. The objects are the same', 'content_type': 'text', 'score': None, 'meta': {'article_title': 'ssa_paper_75_m.txt'}, 'embedding': None, 'id': '561d34284ca57e9570e84605ca2af5a5'}>, <Document: {'content': ' .How', 'content_type': 'text', 'score': None, 'meta': {'article_title': 'SSA_papers_paper_227_m.txt'}, 'embedding': None, 'id': 'a7fa81869573e6ecff556ff5aa560221'}>, <Document: {'content': 'and medium objects in LEO. There are some differences between these', 'content_type': 'text', 'score': None, 'meta': {'article_title': 'NASA_references_pdfs_paper_149_m.txt'}, 'embedding': None, 'id': '5dad29fa74904fede6749cbb0436e859'}>, <Document: {'content': 'objects are in Low Earth Orbit LEO. Such objects have', 'content_type': 'text', 'score': None, 'meta': {'article_title': 'SSA_papers_paper_177_m.txt'}, 'embedding': None, 'id': '5316196fee9c2ba804e9668ab60b2497'}>, <Document: {'content': 'There are many possible means of reducing the debris', 'content_type': 'text', 'score': None, 'meta': {'article_title': 'NASA_references_pdfs_paper_149_m.txt'}, 'embedding': None, 'id': '5dad29fa74904fede6749cbb0436e859'}>, <Document: {'content': 'How Much Orbital Debris is Up There', 'content_type': 'text', 'score': None, 'meta': {'article_title': 'SSA_papers_paper_161_m.txt'}, 'embedding': None, 'id': 'eafdada15908a8a687243f92a47781ae'}>, <Document: {'content': 'LEO', 'content_type': 'text', 'score': None, 'meta': {'article_title': 'NASA_references_pdfs_paper_149_m.txt'}, 'embedding': None, 'id': '5dad29fa74904fede6749cbb0436e859'}>, <Document: {'content': 'LEO', 'content_type': 'text', 'score': None, 'meta': {'article_title': 'Arxiv_paper_119_m.txt'}, 'embedding': None, 'id': '3bb79d582bbbfff31b61bca83b5b801f'}>, <Document: {'content': ' LEO ', 'content_type': 'text', 'score': None, 'meta': {'article_title': 'ssa_paper_20_m.txt'}, 'embedding': None, 'id': '9735f2d9595ef0939ceb11a004e799b5'}>], 'root_node': 'Query', 'params': {'filters': {}, 'Retriever': {'top_k': 10}, 'Reader': {'top_k': 10}, 'Query': {}}, 'node_id': 'Reader'}\n",
            "--> End of process_request:\n",
            "request: query='how many identified debris objects are there in LEO?' params={'filters': {}, 'Retriever': {'top_k': 10}, 'Reader': {'top_k': 10}, 'Query': {'debug': False}} debug=False\n",
            "response <Response [200]>\n",
            "time: 12.48\n",
            "INFO:     3.249.46.150:0 - \"POST /query/ HTTP/1.1\" 200 OK\n",
            "INFO:     3.249.46.150:0 - \"GET /initialized HTTP/1.1\" 201 Created\n",
            "INFO:     3.249.46.150:0 - \"GET /initialized HTTP/1.1\" 201 Created\n",
            "INFO:     3.249.46.150:0 - \"POST /query HTTP/1.1\" 307 Temporary Redirect\n",
            "--> Running a query: query='debris in leo?' params={'filters': {}, 'Retriever': {'top_k': 10}, 'Reader': {'top_k': 10}} debug=False\n",
            "--> Result from query: {'query': 'debris in leo?', 'no_ans_gap': -13.937760353088379, 'answers': [<Answer {'answer': 'LEO', 'type': 'extractive', 'score': 0.0009261009690817446, 'context': ' LEO ', 'offsets_in_document': [{'start': 1, 'end': 4}], 'offsets_in_context': [{'start': 1, 'end': 4}], 'document_id': '9735f2d9595ef0939ceb11a004e799b5', 'meta': {'article_title': 'ssa_paper_20_m.txt'}}>, <Answer {'answer': 'LEO', 'type': 'extractive', 'score': 0.0008981276478152722, 'context': 'LEO', 'offsets_in_document': [{'start': 0, 'end': 3}], 'offsets_in_context': [{'start': 0, 'end': 3}], 'document_id': '5dad29fa74904fede6749cbb0436e859', 'meta': {'article_title': 'NASA_references_pdfs_paper_149_m.txt'}}>, <Answer {'answer': 'LEO', 'type': 'extractive', 'score': 0.0008981276478152722, 'context': 'LEO', 'offsets_in_document': [{'start': 0, 'end': 3}], 'offsets_in_context': [{'start': 0, 'end': 3}], 'document_id': '3bb79d582bbbfff31b61bca83b5b801f', 'meta': {'article_title': 'Arxiv_paper_119_m.txt'}}>, <Answer {'answer': 'LEO', 'type': 'extractive', 'score': 0.0008981276478152722, 'context': 'LEO', 'offsets_in_document': [{'start': 0, 'end': 3}], 'offsets_in_context': [{'start': 0, 'end': 3}], 'document_id': '3a6ea1b75a2425aa34829d0f8b994ef5', 'meta': {'article_title': 'sem_paper_58_m.txt'}}>, <Answer {'answer': 'LEO', 'type': 'extractive', 'score': 0.0008981276478152722, 'context': 'LEO', 'offsets_in_document': [{'start': 0, 'end': 3}], 'offsets_in_context': [{'start': 0, 'end': 3}], 'document_id': 'fb5cb732765b177a6cd35ab9c7096df7', 'meta': {'article_title': 'ssa_paper_15_m.txt'}}>, <Answer {'answer': 'LEO', 'type': 'extractive', 'score': 0.0008981276478152722, 'context': 'LEO', 'offsets_in_document': [{'start': 0, 'end': 3}], 'offsets_in_context': [{'start': 0, 'end': 3}], 'document_id': '5a747dfe2e46d79563016218de8b1e2c', 'meta': {'article_title': 'Arxiv_paper_51_m.txt'}}>, <Answer {'answer': 'LEO', 'type': 'extractive', 'score': 0.0008981276478152722, 'context': 'LEO', 'offsets_in_document': [{'start': 0, 'end': 3}], 'offsets_in_context': [{'start': 0, 'end': 3}], 'document_id': '63e0a2ff6a2b0103e592d34319cbd582', 'meta': {'article_title': 'sem_paper_50_m.txt'}}>, <Answer {'answer': 'LEO', 'type': 'extractive', 'score': 0.0008981276478152722, 'context': 'LEO', 'offsets_in_document': [{'start': 0, 'end': 3}], 'offsets_in_context': [{'start': 0, 'end': 3}], 'document_id': '3ea2beb0055b21b41f33258d9766e1e9', 'meta': {'article_title': 'SSA_papers_paper_206_m.txt'}}>, <Answer {'answer': 'LEO', 'type': 'extractive', 'score': 0.0008981276478152722, 'context': 'LEO', 'offsets_in_document': [{'start': 0, 'end': 3}], 'offsets_in_context': [{'start': 0, 'end': 3}], 'document_id': '4863a3c1eebd811875f520a702ede51f', 'meta': {'article_title': 'IAASS_paper_134_m.txt'}}>, <Answer {'answer': 'LEO', 'type': 'extractive', 'score': 0.0005070673068985343, 'context': 'a LEO', 'offsets_in_document': [{'start': 2, 'end': 5}], 'offsets_in_context': [{'start': 2, 'end': 5}], 'document_id': '561d34284ca57e9570e84605ca2af5a5', 'meta': {'article_title': 'ssa_paper_75_m.txt'}}>], 'documents': [<Document: {'content': 'LEO', 'content_type': 'text', 'score': None, 'meta': {'article_title': 'NASA_references_pdfs_paper_149_m.txt'}, 'embedding': None, 'id': '5dad29fa74904fede6749cbb0436e859'}>, <Document: {'content': 'LEO', 'content_type': 'text', 'score': None, 'meta': {'article_title': 'Arxiv_paper_119_m.txt'}, 'embedding': None, 'id': '3bb79d582bbbfff31b61bca83b5b801f'}>, <Document: {'content': ' LEO ', 'content_type': 'text', 'score': None, 'meta': {'article_title': 'ssa_paper_20_m.txt'}, 'embedding': None, 'id': '9735f2d9595ef0939ceb11a004e799b5'}>, <Document: {'content': 'LEO', 'content_type': 'text', 'score': None, 'meta': {'article_title': 'sem_paper_58_m.txt'}, 'embedding': None, 'id': '3a6ea1b75a2425aa34829d0f8b994ef5'}>, <Document: {'content': 'LEO', 'content_type': 'text', 'score': None, 'meta': {'article_title': 'ssa_paper_15_m.txt'}, 'embedding': None, 'id': 'fb5cb732765b177a6cd35ab9c7096df7'}>, <Document: {'content': 'LEO', 'content_type': 'text', 'score': None, 'meta': {'article_title': 'Arxiv_paper_51_m.txt'}, 'embedding': None, 'id': '5a747dfe2e46d79563016218de8b1e2c'}>, <Document: {'content': 'a LEO', 'content_type': 'text', 'score': None, 'meta': {'article_title': 'ssa_paper_75_m.txt'}, 'embedding': None, 'id': '561d34284ca57e9570e84605ca2af5a5'}>, <Document: {'content': 'LEO', 'content_type': 'text', 'score': None, 'meta': {'article_title': 'sem_paper_50_m.txt'}, 'embedding': None, 'id': '63e0a2ff6a2b0103e592d34319cbd582'}>, <Document: {'content': 'LEO', 'content_type': 'text', 'score': None, 'meta': {'article_title': 'SSA_papers_paper_206_m.txt'}, 'embedding': None, 'id': '3ea2beb0055b21b41f33258d9766e1e9'}>, <Document: {'content': 'LEO', 'content_type': 'text', 'score': None, 'meta': {'article_title': 'IAASS_paper_134_m.txt'}, 'embedding': None, 'id': '4863a3c1eebd811875f520a702ede51f'}>], 'root_node': 'Query', 'params': {'filters': {}, 'Retriever': {'top_k': 10}, 'Reader': {'top_k': 10}, 'Query': {}}, 'node_id': 'Reader'}\n",
            "--> End of process_request:\n",
            "request: query='debris in leo?' params={'filters': {}, 'Retriever': {'top_k': 10}, 'Reader': {'top_k': 10}, 'Query': {'debug': False}} debug=False\n",
            "response <Response [200]>\n",
            "time: 12.56\n",
            "INFO:     3.249.46.150:0 - \"POST /query/ HTTP/1.1\" 200 OK\n",
            "INFO:     3.249.46.150:0 - \"GET /initialized HTTP/1.1\" 201 Created\n",
            "INFO:     3.249.46.150:0 - \"GET /initialized HTTP/1.1\" 201 Created\n",
            "INFO:     3.249.46.150:0 - \"GET /initialized HTTP/1.1\" 201 Created\n",
            "INFO:     3.249.46.150:0 - \"POST /query HTTP/1.1\" 307 Temporary Redirect\n",
            "--> Running a query: query='What process can obtain a complete picture of subcellular structures?' params={'filters': {}, 'Retriever': {'top_k': 10}, 'Reader': {'top_k': 10}} debug=False\n",
            "--> Result from query: {'query': 'What process can obtain a complete picture of subcellular structures?', 'no_ans_gap': 1.5620508193969727, 'answers': [<Answer {'answer': 'radar observations', 'type': 'extractive', 'score': 0.5083892047405243, 'context': 'statistics that can be correlated with the radar observations and can yield a more complete picture ', 'offsets_in_document': [{'start': 43, 'end': 61}], 'offsets_in_context': [{'start': 43, 'end': 61}], 'document_id': 'a67e60037e7979983716283646b6fa36', 'meta': {'article_title': 'NASA_references_pdfs_paper_152_m.txt'}}>, <Answer {'answer': 'Orbital Debris Ontology', 'type': 'extractive', 'score': 0.011096884030848742, 'context': 'complete picture of the domain. Some include the Orbital Debris Ontology , ', 'offsets_in_document': [{'start': 49, 'end': 72}], 'offsets_in_context': [{'start': 49, 'end': 72}], 'document_id': '1dcec15a233a62dff32d290e178dedef', 'meta': {'article_title': 'SSA_papers_paper_253_m.txt'}}>, <Answer {'answer': 'spacecraft structures', 'type': 'extractive', 'score': 0.0015925494371913373, 'context': 'spacecraft structures ', 'offsets_in_document': [{'start': 0, 'end': 21}], 'offsets_in_context': [{'start': 0, 'end': 21}], 'document_id': 'a3dfdcfe97d9acfb902bdd3f8acb526b', 'meta': {'article_title': 'SSA_papers_paper_203_m.txt'}}>, <Answer {'answer': '91', 'type': 'extractive', 'score': 0.0012277820496819913, 'context': 'and obtain as clear and complete a picture of these orbits as possible. 91', 'offsets_in_document': [{'start': 72, 'end': 74}], 'offsets_in_context': [{'start': 72, 'end': 74}], 'document_id': '896552403b9f13c9677259cef513dcd0', 'meta': {'article_title': 'SSA_papers_paper_264_m.txt'}}>, <Answer {'answer': 'obtain', 'type': 'extractive', 'score': 0.0008737298776395619, 'context': 'obtain', 'offsets_in_document': [{'start': 0, 'end': 6}], 'offsets_in_context': [{'start': 0, 'end': 6}], 'document_id': '9ef9e70bd1caa0906e44c3ae7958684', 'meta': {'article_title': 'Arxiv_paper_105_m.txt'}}>, <Answer {'answer': 'structures', 'type': 'extractive', 'score': 0.0007488912087865174, 'context': 'structures ', 'offsets_in_document': [{'start': 0, 'end': 10}], 'offsets_in_context': [{'start': 0, 'end': 10}], 'document_id': '9a94d3b750f3d30b33e8fec3efe8c427', 'meta': {'article_title': 'Arxiv_paper_108_m.txt'}}>, <Answer {'answer': 'Picture', 'type': 'extractive', 'score': 0.0005269486864563078, 'context': 'Picture', 'offsets_in_document': [{'start': 0, 'end': 7}], 'offsets_in_context': [{'start': 0, 'end': 7}], 'document_id': 'cc503cba64af1704a2f699ddead08dc9', 'meta': {'article_title': 'SSA_papers_paper_172_m.txt'}}>, <Answer {'answer': 'Picture', 'type': 'extractive', 'score': 0.0005269486864563078, 'context': 'Picture', 'offsets_in_document': [{'start': 0, 'end': 7}], 'offsets_in_context': [{'start': 0, 'end': 7}], 'document_id': 'cc503cba64af1704a2f699ddead08dc9', 'meta': {'article_title': 'SSA_papers_paper_172_m.txt'}}>, <Answer {'answer': 'Picture', 'type': 'extractive', 'score': 0.0005269486864563078, 'context': 'Picture', 'offsets_in_document': [{'start': 0, 'end': 7}], 'offsets_in_context': [{'start': 0, 'end': 7}], 'document_id': 'cc503cba64af1704a2f699ddead08dc9', 'meta': {'article_title': 'SSA_papers_paper_172_m.txt'}}>, <Answer {'answer': 'structures.', 'type': 'extractive', 'score': 0.000516001382493414, 'context': 'structures.', 'offsets_in_document': [{'start': 0, 'end': 11}], 'offsets_in_context': [{'start': 0, 'end': 11}], 'document_id': 'ada7baa499428b5a47ef9e21dfedc448', 'meta': {'article_title': 'Arxiv_paper_93_m.txt'}}>], 'documents': [<Document: {'content': 'Picture', 'content_type': 'text', 'score': None, 'meta': {'article_title': 'SSA_papers_paper_172_m.txt'}, 'embedding': None, 'id': 'cc503cba64af1704a2f699ddead08dc9'}>, <Document: {'content': 'Picture', 'content_type': 'text', 'score': None, 'meta': {'article_title': 'SSA_papers_paper_172_m.txt'}, 'embedding': None, 'id': 'cc503cba64af1704a2f699ddead08dc9'}>, <Document: {'content': 'Picture', 'content_type': 'text', 'score': None, 'meta': {'article_title': 'SSA_papers_paper_172_m.txt'}, 'embedding': None, 'id': 'cc503cba64af1704a2f699ddead08dc9'}>, <Document: {'content': 'and obtain as clear and complete a picture of these orbits as possible. 91', 'content_type': 'text', 'score': None, 'meta': {'article_title': 'SSA_papers_paper_264_m.txt'}, 'embedding': None, 'id': '896552403b9f13c9677259cef513dcd0'}>, <Document: {'content': 'structures.', 'content_type': 'text', 'score': None, 'meta': {'article_title': 'Arxiv_paper_93_m.txt'}, 'embedding': None, 'id': 'ada7baa499428b5a47ef9e21dfedc448'}>, <Document: {'content': 'structures ', 'content_type': 'text', 'score': None, 'meta': {'article_title': 'Arxiv_paper_108_m.txt'}, 'embedding': None, 'id': '9a94d3b750f3d30b33e8fec3efe8c427'}>, <Document: {'content': 'obtain', 'content_type': 'text', 'score': None, 'meta': {'article_title': 'Arxiv_paper_105_m.txt'}, 'embedding': None, 'id': '9ef9e70bd1caa0906e44c3ae7958684'}>, <Document: {'content': 'statistics that can be correlated with the radar observations and can yield a more complete picture ', 'content_type': 'text', 'score': None, 'meta': {'article_title': 'NASA_references_pdfs_paper_152_m.txt'}, 'embedding': None, 'id': 'a67e60037e7979983716283646b6fa36'}>, <Document: {'content': 'complete picture of the domain. Some include the Orbital Debris Ontology , ', 'content_type': 'text', 'score': None, 'meta': {'article_title': 'SSA_papers_paper_253_m.txt'}, 'embedding': None, 'id': '1dcec15a233a62dff32d290e178dedef'}>, <Document: {'content': 'spacecraft structures ', 'content_type': 'text', 'score': None, 'meta': {'article_title': 'SSA_papers_paper_203_m.txt'}, 'embedding': None, 'id': 'a3dfdcfe97d9acfb902bdd3f8acb526b'}>], 'root_node': 'Query', 'params': {'filters': {}, 'Retriever': {'top_k': 10}, 'Reader': {'top_k': 10}, 'Query': {}}, 'node_id': 'Reader'}\n",
            "--> End of process_request:\n",
            "request: query='What process can obtain a complete picture of subcellular structures?' params={'filters': {}, 'Retriever': {'top_k': 10}, 'Reader': {'top_k': 10}, 'Query': {'debug': False}} debug=False\n",
            "response <Response [200]>\n",
            "time: 12.53\n",
            "INFO:     3.249.46.150:0 - \"POST /query/ HTTP/1.1\" 200 OK\n",
            "INFO:     3.249.46.150:0 - \"GET /initialized HTTP/1.1\" 201 Created\n",
            "INFO:     3.249.46.150:0 - \"GET /initialized HTTP/1.1\" 201 Created\n",
            "INFO:     3.249.46.150:0 - \"GET /initialized HTTP/1.1\" 201 Created\n",
            "INFO:     3.249.46.150:0 - \"POST /query HTTP/1.1\" 307 Temporary Redirect\n",
            "--> Running a query: query='How many sessions were planned at the Fourth European Conference on Space Debris?' params={'filters': {}, 'Retriever': {'top_k': 10}, 'Reader': {'top_k': 10}} debug=False\n",
            "--> Result from query: {'query': 'How many sessions were planned at the Fourth European Conference on Space Debris?', 'no_ans_gap': 7.294273853302002, 'answers': [<Answer {'answer': 'nine', 'type': 'extractive', 'score': 0.9267778992652893, 'context': 'e Operations Centre ESOC in  Darmstadt, Germany on 18 20 April 2005. It  included nine technical sessions Groundbased Measurements Radar and Optical, ', 'offsets_in_document': [{'start': 161, 'end': 165}], 'offsets_in_context': [{'start': 82, 'end': 86}], 'document_id': '39a9ac37ab40dab0333d3e12151611a1', 'meta': {'article_title': 'nasa_odqn_paper_362_m.txt'}}>, <Answer {'answer': 'Six', 'type': 'extractive', 'score': 0.8939991295337677, 'context': 'he conference will be held at the European  Space Operations Centre ESOC. Six sessions  have been planned to include measurements and  modeling of deb', 'offsets_in_document': [{'start': 185, 'end': 188}], 'offsets_in_context': [{'start': 74, 'end': 77}], 'document_id': '5328c78df7b0e526ca2cb5c598d8a2a0', 'meta': {'article_title': 'nasa_odqn_paper_359_m.txt'}}>, <Answer {'answer': 'two', 'type': 'extractive', 'score': 0.4920458346605301, 'context': ' safety  issues including three sessions on spacecraft  reentry, four sessions on space traffic, two  sessions on space debris, one session on debris ', 'offsets_in_document': [{'start': 266, 'end': 269}], 'offsets_in_context': [{'start': 97, 'end': 100}], 'document_id': '9c91054b96e9267e1f3476ea6467980a', 'meta': {'article_title': 'nasa_odqn_paper_295_m.txt'}}>, <Answer {'answer': 'technical', 'type': 'extractive', 'score': 0.09432226419448853, 'context': 'The conference will include technical sessions on space debris and a panel discussion session on international space law of  space debris.  Additional', 'offsets_in_document': [{'start': 28, 'end': 37}], 'offsets_in_context': [{'start': 28, 'end': 37}], 'document_id': '54e3497a68f7f0bced17cabcb3760156', 'meta': {'article_title': 'nasa_odqn_paper_272_m.txt'}}>, <Answer {'answer': 'technical', 'type': 'extractive', 'score': 0.09432226419448853, 'context': 'The conference will include technical sessions on space debris and a panel discussion session on international space law of  space debris.  Additional', 'offsets_in_document': [{'start': 28, 'end': 37}], 'offsets_in_context': [{'start': 28, 'end': 37}], 'document_id': 'ad8e6f401573875d9d76e23656da6a7d', 'meta': {'article_title': 'nasa_odqn_paper_271_m.txt'}}>, <Answer {'answer': '7th European Conference on Space Debris,', 'type': 'extractive', 'score': 4.903437366010621e-05, 'context': '7th European Conference on Space Debris, ', 'offsets_in_document': [{'start': 0, 'end': 40}], 'offsets_in_context': [{'start': 0, 'end': 40}], 'document_id': '3ed55de08a2a6ff8a5909d9dd4e776a', 'meta': {'article_title': 'Arxiv_paper_34_m.txt'}}>, <Answer {'answer': 'debris. Proceedings', 'type': 'extractive', 'score': 6.9976936174498405e-06, 'context': 'debris. Proceedings of the Second European Conference on Space', 'offsets_in_document': [{'start': 0, 'end': 19}], 'offsets_in_context': [{'start': 0, 'end': 19}], 'document_id': '47d4f03fc0e47e83d5b7b8c5c586308b', 'meta': {'article_title': 'stm_paper_8_m.txt'}}>], 'documents': [<Document: {'content': ' The Fourth European Conference on  Space Debris was held at the European  Space Operations Centre ESOC in  Darmstadt, Germany on 18 20 April 2005. It  included nine technical sessions Groundbased Measurements Radar and Optical, ', 'content_type': 'text', 'score': None, 'meta': {'article_title': 'nasa_odqn_paper_362_m.txt'}, 'embedding': None, 'id': '39a9ac37ab40dab0333d3e12151611a1'}>, <Document: {'content': 'European Conference on Space Debris, Darmstadt, ', 'content_type': 'text', 'score': None, 'meta': {'article_title': 'Arxiv_paper_34_m.txt'}, 'embedding': None, 'id': '3ed55de08a2a6ff8a5909d9dd4e776a'}>, <Document: {'content': 'UPCOMING   MEETING  18 20 April 2005 Fourth European Conference  on Space Debris, Darmstadt, Germany.         The conference will be held at the European  Space Operations Centre ESOC. Six sessions  have been planned to include measurements and  modeling of debris and meteoroids, hypervelocity  impacts, risk assessments and debris mitigation,  and standards and regulations. For further information contact Walter.Fluryesa.int or go to http   .', 'content_type': 'text', 'score': None, 'meta': {'article_title': 'nasa_odqn_paper_359_m.txt'}, 'embedding': None, 'id': '5328c78df7b0e526ca2cb5c598d8a2a0'}>, <Document: {'content': 'The 5th IAASS Conference was held  17 19 October in Versailles, France.  The 3 day  conference consisted of  forty 2 hour sessions  devoted to a number of  general space safety  issues including three sessions on spacecraft  reentry, four sessions on space traffic, two  sessions on space debris, one session on debris ', 'content_type': 'text', 'score': None, 'meta': {'article_title': 'nasa_odqn_paper_295_m.txt'}, 'embedding': None, 'id': '9c91054b96e9267e1f3476ea6467980a'}>, <Document: {'content': 'The conference will include technical sessions on space debris and a panel discussion session on international space law of  space debris.  Additional information on the Conference is available at http  ', 'content_type': 'text', 'score': None, 'meta': {'article_title': 'nasa_odqn_paper_272_m.txt'}, 'embedding': None, 'id': '54e3497a68f7f0bced17cabcb3760156'}>, <Document: {'content': 'The conference will include technical sessions on space debris and a panel discussion session on international space law of  space debris.  Additional information on the Conference is available at http  ', 'content_type': 'text', 'score': None, 'meta': {'article_title': 'nasa_odqn_paper_271_m.txt'}, 'embedding': None, 'id': 'ad8e6f401573875d9d76e23656da6a7d'}>, <Document: {'content': 'debris. Proceedings of the Second European Conference on Space', 'content_type': 'text', 'score': None, 'meta': {'article_title': 'stm_paper_8_m.txt'}, 'embedding': None, 'id': '47d4f03fc0e47e83d5b7b8c5c586308b'}>, <Document: {'content': 'European Conference on Space Debris, At Darmstadt, Germany, ', 'content_type': 'text', 'score': None, 'meta': {'article_title': 'sd_paper_40_m.txt'}, 'embedding': None, 'id': '9851c45f94a51d4dd58aeeba0842c555'}>, <Document: {'content': 'th  European Space Debris Conference, ', 'content_type': 'text', 'score': None, 'meta': {'article_title': 'sd_paper_51_m.txt'}, 'embedding': None, 'id': 'fdf41f890c2ad6d404a3ccc1afa560c2'}>, <Document: {'content': '7th European Conference on Space Debris, ', 'content_type': 'text', 'score': None, 'meta': {'article_title': 'Arxiv_paper_34_m.txt'}, 'embedding': None, 'id': '3ed55de08a2a6ff8a5909d9dd4e776a'}>], 'root_node': 'Query', 'params': {'filters': {}, 'Retriever': {'top_k': 10}, 'Reader': {'top_k': 10}, 'Query': {}}, 'node_id': 'Reader'}\n",
            "--> End of process_request:\n",
            "request: query='How many sessions were planned at the Fourth European Conference on Space Debris?' params={'filters': {}, 'Retriever': {'top_k': 10}, 'Reader': {'top_k': 10}, 'Query': {'debug': False}} debug=False\n",
            "response <Response [200]>\n",
            "time: 13.89\n",
            "INFO:     3.249.46.150:0 - \"POST /query/ HTTP/1.1\" 200 OK\n",
            "INFO:     3.249.46.150:0 - \"GET /initialized HTTP/1.1\" 201 Created\n",
            "INFO:     3.249.46.150:0 - \"GET /initialized HTTP/1.1\" 201 Created\n",
            "INFO:     3.249.46.150:0 - \"POST /query HTTP/1.1\" 307 Temporary Redirect\n",
            "--> Running a query: query='What’s the weight of space debris?' params={'filters': {}, 'Retriever': {'top_k': 10}, 'Reader': {'top_k': 10}} debug=False\n",
            "--> Result from query: {'query': 'What’s the weight of space debris?', 'no_ans_gap': -3.606889009475708, 'answers': [<Answer {'answer': '5.5  0.3 kg', 'type': 'extractive', 'score': 0.14537174999713898, 'context': 'Weight 5.5  0.3 kg', 'offsets_in_document': [{'start': 7, 'end': 18}], 'offsets_in_context': [{'start': 7, 'end': 18}], 'document_id': 'cd67aafbdac07dcfe143c21a729b974a', 'meta': {'article_title': 'Arxiv_paper_122_m.txt'}}>, <Answer {'answer': 'Equal Weight', 'type': 'extractive', 'score': 0.010309807257726789, 'context': 'A. Equal Weight', 'offsets_in_document': [{'start': 3, 'end': 15}], 'offsets_in_context': [{'start': 3, 'end': 15}], 'document_id': 'e619172d68d88c751d987900afb0d663', 'meta': {'article_title': 'ssa_paper_10_m.txt'}}>, <Answer {'answer': 'weight', 'type': 'extractive', 'score': 0.002259506145492196, 'context': ' is the weight', 'offsets_in_document': [{'start': 8, 'end': 14}], 'offsets_in_context': [{'start': 8, 'end': 14}], 'document_id': 'bd52a136fbf11f3e2606d6fdbe4927ad', 'meta': {'article_title': 'IAASS_paper_132_m.txt'}}>, <Answer {'answer': 'satellites', 'type': 'extractive', 'score': 0.0016469474649056792, 'context': 'm, how space  debris is distributed, what risks space debris poses to satellites, what  international communities have done to ameliorate the problem,', 'offsets_in_document': [{'start': 121, 'end': 131}], 'offsets_in_context': [{'start': 70, 'end': 80}], 'document_id': 'af74b43e88ba15d077e3a03249fedf94', 'meta': {'article_title': 'sd_paper_59_m.txt'}}>, <Answer {'answer': 'E. Space Debris', 'type': 'extractive', 'score': 0.0011082608543802053, 'context': 'E. Space Debris', 'offsets_in_document': [{'start': 0, 'end': 15}], 'offsets_in_context': [{'start': 0, 'end': 15}], 'document_id': 'c954750133624c203bd73f839a713019', 'meta': {'article_title': 'Arxiv_paper_112_m.txt'}}>, <Answer {'answer': 'SPACE OBJECT', 'type': 'extractive', 'score': 0.0010441763588460162, 'context': 'B. WHAT IS A SPACE OBJECT   ', 'offsets_in_document': [{'start': 13, 'end': 25}], 'offsets_in_context': [{'start': 13, 'end': 25}], 'document_id': 'c483a71487227da30562ff88bf0dbda3', 'meta': {'article_title': 'IAASS_paper_141_m.txt'}}>, <Answer {'answer': 'weight', 'type': 'extractive', 'score': 0.0006316729995887727, 'context': 'weight', 'offsets_in_document': [{'start': 0, 'end': 6}], 'offsets_in_context': [{'start': 0, 'end': 6}], 'document_id': '6bd65b17329e44ff4e9b10c51707c66d', 'meta': {'article_title': 'sd_paper_8_m.txt'}}>, <Answer {'answer': 'Space Debris', 'type': 'extractive', 'score': 0.000547067989828065, 'context': 'Space Debris', 'offsets_in_document': [{'start': 0, 'end': 12}], 'offsets_in_context': [{'start': 0, 'end': 12}], 'document_id': 'c954750133624c203bd73f839a713019', 'meta': {'article_title': 'Arxiv_paper_112_m.txt'}}>, <Answer {'answer': 'Space debris', 'type': 'extractive', 'score': 0.0002609363873489201, 'context': 'Space debris', 'offsets_in_document': [{'start': 0, 'end': 12}], 'offsets_in_context': [{'start': 0, 'end': 12}], 'document_id': 'c954750133624c203bd73f839a713019', 'meta': {'article_title': 'Arxiv_paper_112_m.txt'}}>], 'documents': [<Document: {'content': 'weight', 'content_type': 'text', 'score': None, 'meta': {'article_title': 'sd_paper_8_m.txt'}, 'embedding': None, 'id': '6bd65b17329e44ff4e9b10c51707c66d'}>, <Document: {'content': ' is the weight', 'content_type': 'text', 'score': None, 'meta': {'article_title': 'IAASS_paper_132_m.txt'}, 'embedding': None, 'id': 'bd52a136fbf11f3e2606d6fdbe4927ad'}>, <Document: {'content': 'B. WHAT IS A SPACE OBJECT   ', 'content_type': 'text', 'score': None, 'meta': {'article_title': 'IAASS_paper_141_m.txt'}, 'embedding': None, 'id': 'c483a71487227da30562ff88bf0dbda3'}>, <Document: {'content': 'Weight 5.5  0.3 kg', 'content_type': 'text', 'score': None, 'meta': {'article_title': 'Arxiv_paper_122_m.txt'}, 'embedding': None, 'id': 'cd67aafbdac07dcfe143c21a729b974a'}>, <Document: {'content': 'A. Equal Weight', 'content_type': 'text', 'score': None, 'meta': {'article_title': 'ssa_paper_10_m.txt'}, 'embedding': None, 'id': 'e619172d68d88c751d987900afb0d663'}>, <Document: {'content': 'This article considers why space debris is a problem, how space  debris is distributed, what risks space debris poses to satellites, what  international communities have done to ameliorate the problem, and  what we should do in the future.', 'content_type': 'text', 'score': None, 'meta': {'article_title': 'sd_paper_59_m.txt'}, 'embedding': None, 'id': 'af74b43e88ba15d077e3a03249fedf94'}>, <Document: {'content': 'space debris ', 'content_type': 'text', 'score': None, 'meta': {'article_title': 'Arxiv_paper_112_m.txt'}, 'embedding': None, 'id': 'c954750133624c203bd73f839a713019'}>, <Document: {'content': 'Space Debris', 'content_type': 'text', 'score': None, 'meta': {'article_title': 'Arxiv_paper_112_m.txt'}, 'embedding': None, 'id': 'c954750133624c203bd73f839a713019'}>, <Document: {'content': 'E. Space Debris', 'content_type': 'text', 'score': None, 'meta': {'article_title': 'Arxiv_paper_112_m.txt'}, 'embedding': None, 'id': 'c954750133624c203bd73f839a713019'}>, <Document: {'content': 'Space debris', 'content_type': 'text', 'score': None, 'meta': {'article_title': 'Arxiv_paper_112_m.txt'}, 'embedding': None, 'id': 'c954750133624c203bd73f839a713019'}>], 'root_node': 'Query', 'params': {'filters': {}, 'Retriever': {'top_k': 10}, 'Reader': {'top_k': 10}, 'Query': {}}, 'node_id': 'Reader'}\n",
            "--> End of process_request:\n",
            "request: query='What’s the weight of space debris?' params={'filters': {}, 'Retriever': {'top_k': 10}, 'Reader': {'top_k': 10}, 'Query': {'debug': False}} debug=False\n",
            "response <Response [200]>\n",
            "time: 12.85\n",
            "INFO:     3.249.46.150:0 - \"POST /query/ HTTP/1.1\" 200 OK\n",
            "INFO:     3.249.46.150:0 - \"GET /initialized HTTP/1.1\" 201 Created\n",
            "INFO:     3.249.46.150:0 - \"POST /query HTTP/1.1\" 307 Temporary Redirect\n",
            "--> Running a query: query='What’s the weight of space debris?' params={'filters': {}, 'Retriever': {'top_k': 10}, 'Reader': {'top_k': 10}} debug=False\n",
            "--> Result from query: {'query': 'What’s the weight of space debris?', 'no_ans_gap': -3.606889009475708, 'answers': [<Answer {'answer': '5.5  0.3 kg', 'type': 'extractive', 'score': 0.14537174999713898, 'context': 'Weight 5.5  0.3 kg', 'offsets_in_document': [{'start': 7, 'end': 18}], 'offsets_in_context': [{'start': 7, 'end': 18}], 'document_id': 'cd67aafbdac07dcfe143c21a729b974a', 'meta': {'article_title': 'Arxiv_paper_122_m.txt'}}>, <Answer {'answer': 'Equal Weight', 'type': 'extractive', 'score': 0.010309807257726789, 'context': 'A. Equal Weight', 'offsets_in_document': [{'start': 3, 'end': 15}], 'offsets_in_context': [{'start': 3, 'end': 15}], 'document_id': 'e619172d68d88c751d987900afb0d663', 'meta': {'article_title': 'ssa_paper_10_m.txt'}}>, <Answer {'answer': 'weight', 'type': 'extractive', 'score': 0.002259506145492196, 'context': ' is the weight', 'offsets_in_document': [{'start': 8, 'end': 14}], 'offsets_in_context': [{'start': 8, 'end': 14}], 'document_id': 'bd52a136fbf11f3e2606d6fdbe4927ad', 'meta': {'article_title': 'IAASS_paper_132_m.txt'}}>, <Answer {'answer': 'satellites', 'type': 'extractive', 'score': 0.0016469474649056792, 'context': 'm, how space  debris is distributed, what risks space debris poses to satellites, what  international communities have done to ameliorate the problem,', 'offsets_in_document': [{'start': 121, 'end': 131}], 'offsets_in_context': [{'start': 70, 'end': 80}], 'document_id': 'af74b43e88ba15d077e3a03249fedf94', 'meta': {'article_title': 'sd_paper_59_m.txt'}}>, <Answer {'answer': 'E. Space Debris', 'type': 'extractive', 'score': 0.0011082608543802053, 'context': 'E. Space Debris', 'offsets_in_document': [{'start': 0, 'end': 15}], 'offsets_in_context': [{'start': 0, 'end': 15}], 'document_id': 'c954750133624c203bd73f839a713019', 'meta': {'article_title': 'Arxiv_paper_112_m.txt'}}>, <Answer {'answer': 'SPACE OBJECT', 'type': 'extractive', 'score': 0.0010441763588460162, 'context': 'B. WHAT IS A SPACE OBJECT   ', 'offsets_in_document': [{'start': 13, 'end': 25}], 'offsets_in_context': [{'start': 13, 'end': 25}], 'document_id': 'c483a71487227da30562ff88bf0dbda3', 'meta': {'article_title': 'IAASS_paper_141_m.txt'}}>, <Answer {'answer': 'weight', 'type': 'extractive', 'score': 0.0006316729995887727, 'context': 'weight', 'offsets_in_document': [{'start': 0, 'end': 6}], 'offsets_in_context': [{'start': 0, 'end': 6}], 'document_id': '6bd65b17329e44ff4e9b10c51707c66d', 'meta': {'article_title': 'sd_paper_8_m.txt'}}>, <Answer {'answer': 'Space Debris', 'type': 'extractive', 'score': 0.000547067989828065, 'context': 'Space Debris', 'offsets_in_document': [{'start': 0, 'end': 12}], 'offsets_in_context': [{'start': 0, 'end': 12}], 'document_id': 'c954750133624c203bd73f839a713019', 'meta': {'article_title': 'Arxiv_paper_112_m.txt'}}>, <Answer {'answer': 'Space debris', 'type': 'extractive', 'score': 0.0002609363873489201, 'context': 'Space debris', 'offsets_in_document': [{'start': 0, 'end': 12}], 'offsets_in_context': [{'start': 0, 'end': 12}], 'document_id': 'c954750133624c203bd73f839a713019', 'meta': {'article_title': 'Arxiv_paper_112_m.txt'}}>], 'documents': [<Document: {'content': 'weight', 'content_type': 'text', 'score': None, 'meta': {'article_title': 'sd_paper_8_m.txt'}, 'embedding': None, 'id': '6bd65b17329e44ff4e9b10c51707c66d'}>, <Document: {'content': ' is the weight', 'content_type': 'text', 'score': None, 'meta': {'article_title': 'IAASS_paper_132_m.txt'}, 'embedding': None, 'id': 'bd52a136fbf11f3e2606d6fdbe4927ad'}>, <Document: {'content': 'B. WHAT IS A SPACE OBJECT   ', 'content_type': 'text', 'score': None, 'meta': {'article_title': 'IAASS_paper_141_m.txt'}, 'embedding': None, 'id': 'c483a71487227da30562ff88bf0dbda3'}>, <Document: {'content': 'Weight 5.5  0.3 kg', 'content_type': 'text', 'score': None, 'meta': {'article_title': 'Arxiv_paper_122_m.txt'}, 'embedding': None, 'id': 'cd67aafbdac07dcfe143c21a729b974a'}>, <Document: {'content': 'A. Equal Weight', 'content_type': 'text', 'score': None, 'meta': {'article_title': 'ssa_paper_10_m.txt'}, 'embedding': None, 'id': 'e619172d68d88c751d987900afb0d663'}>, <Document: {'content': 'This article considers why space debris is a problem, how space  debris is distributed, what risks space debris poses to satellites, what  international communities have done to ameliorate the problem, and  what we should do in the future.', 'content_type': 'text', 'score': None, 'meta': {'article_title': 'sd_paper_59_m.txt'}, 'embedding': None, 'id': 'af74b43e88ba15d077e3a03249fedf94'}>, <Document: {'content': 'space debris ', 'content_type': 'text', 'score': None, 'meta': {'article_title': 'Arxiv_paper_112_m.txt'}, 'embedding': None, 'id': 'c954750133624c203bd73f839a713019'}>, <Document: {'content': 'Space Debris', 'content_type': 'text', 'score': None, 'meta': {'article_title': 'Arxiv_paper_112_m.txt'}, 'embedding': None, 'id': 'c954750133624c203bd73f839a713019'}>, <Document: {'content': 'E. Space Debris', 'content_type': 'text', 'score': None, 'meta': {'article_title': 'Arxiv_paper_112_m.txt'}, 'embedding': None, 'id': 'c954750133624c203bd73f839a713019'}>, <Document: {'content': 'Space debris', 'content_type': 'text', 'score': None, 'meta': {'article_title': 'Arxiv_paper_112_m.txt'}, 'embedding': None, 'id': 'c954750133624c203bd73f839a713019'}>], 'root_node': 'Query', 'params': {'filters': {}, 'Retriever': {'top_k': 10}, 'Reader': {'top_k': 10}, 'Query': {}}, 'node_id': 'Reader'}\n",
            "--> End of process_request:\n",
            "request: query='What’s the weight of space debris?' params={'filters': {}, 'Retriever': {'top_k': 10}, 'Reader': {'top_k': 10}, 'Query': {'debug': False}} debug=False\n",
            "response <Response [200]>\n",
            "time: 12.55\n",
            "INFO:     3.249.46.150:0 - \"POST /query/ HTTP/1.1\" 200 OK\n",
            "INFO:     3.249.46.150:0 - \"GET /initialized HTTP/1.1\" 201 Created\n",
            "INFO:     3.249.46.150:0 - \"GET /initialized HTTP/1.1\" 201 Created\n",
            "INFO:     3.249.46.150:0 - \"POST /query HTTP/1.1\" 307 Temporary Redirect\n",
            "--> Running a query: query='What’s the weight of space debris?' params={'filters': {}, 'Retriever': {'top_k': 10}, 'Reader': {'top_k': 10}} debug=False\n",
            "--> Result from query: {'query': 'What’s the weight of space debris?', 'no_ans_gap': -3.606889009475708, 'answers': [<Answer {'answer': '5.5  0.3 kg', 'type': 'extractive', 'score': 0.14537174999713898, 'context': 'Weight 5.5  0.3 kg', 'offsets_in_document': [{'start': 7, 'end': 18}], 'offsets_in_context': [{'start': 7, 'end': 18}], 'document_id': 'cd67aafbdac07dcfe143c21a729b974a', 'meta': {'article_title': 'Arxiv_paper_122_m.txt'}}>, <Answer {'answer': 'Equal Weight', 'type': 'extractive', 'score': 0.010309807257726789, 'context': 'A. Equal Weight', 'offsets_in_document': [{'start': 3, 'end': 15}], 'offsets_in_context': [{'start': 3, 'end': 15}], 'document_id': 'e619172d68d88c751d987900afb0d663', 'meta': {'article_title': 'ssa_paper_10_m.txt'}}>, <Answer {'answer': 'weight', 'type': 'extractive', 'score': 0.002259506145492196, 'context': ' is the weight', 'offsets_in_document': [{'start': 8, 'end': 14}], 'offsets_in_context': [{'start': 8, 'end': 14}], 'document_id': 'bd52a136fbf11f3e2606d6fdbe4927ad', 'meta': {'article_title': 'IAASS_paper_132_m.txt'}}>, <Answer {'answer': 'satellites', 'type': 'extractive', 'score': 0.0016469474649056792, 'context': 'm, how space  debris is distributed, what risks space debris poses to satellites, what  international communities have done to ameliorate the problem,', 'offsets_in_document': [{'start': 121, 'end': 131}], 'offsets_in_context': [{'start': 70, 'end': 80}], 'document_id': 'af74b43e88ba15d077e3a03249fedf94', 'meta': {'article_title': 'sd_paper_59_m.txt'}}>, <Answer {'answer': 'E. Space Debris', 'type': 'extractive', 'score': 0.0011082608543802053, 'context': 'E. Space Debris', 'offsets_in_document': [{'start': 0, 'end': 15}], 'offsets_in_context': [{'start': 0, 'end': 15}], 'document_id': 'c954750133624c203bd73f839a713019', 'meta': {'article_title': 'Arxiv_paper_112_m.txt'}}>, <Answer {'answer': 'SPACE OBJECT', 'type': 'extractive', 'score': 0.0010441763588460162, 'context': 'B. WHAT IS A SPACE OBJECT   ', 'offsets_in_document': [{'start': 13, 'end': 25}], 'offsets_in_context': [{'start': 13, 'end': 25}], 'document_id': 'c483a71487227da30562ff88bf0dbda3', 'meta': {'article_title': 'IAASS_paper_141_m.txt'}}>, <Answer {'answer': 'weight', 'type': 'extractive', 'score': 0.0006316729995887727, 'context': 'weight', 'offsets_in_document': [{'start': 0, 'end': 6}], 'offsets_in_context': [{'start': 0, 'end': 6}], 'document_id': '6bd65b17329e44ff4e9b10c51707c66d', 'meta': {'article_title': 'sd_paper_8_m.txt'}}>, <Answer {'answer': 'Space Debris', 'type': 'extractive', 'score': 0.000547067989828065, 'context': 'Space Debris', 'offsets_in_document': [{'start': 0, 'end': 12}], 'offsets_in_context': [{'start': 0, 'end': 12}], 'document_id': 'c954750133624c203bd73f839a713019', 'meta': {'article_title': 'Arxiv_paper_112_m.txt'}}>, <Answer {'answer': 'Space debris', 'type': 'extractive', 'score': 0.0002609363873489201, 'context': 'Space debris', 'offsets_in_document': [{'start': 0, 'end': 12}], 'offsets_in_context': [{'start': 0, 'end': 12}], 'document_id': 'c954750133624c203bd73f839a713019', 'meta': {'article_title': 'Arxiv_paper_112_m.txt'}}>], 'documents': [<Document: {'content': 'weight', 'content_type': 'text', 'score': None, 'meta': {'article_title': 'sd_paper_8_m.txt'}, 'embedding': None, 'id': '6bd65b17329e44ff4e9b10c51707c66d'}>, <Document: {'content': ' is the weight', 'content_type': 'text', 'score': None, 'meta': {'article_title': 'IAASS_paper_132_m.txt'}, 'embedding': None, 'id': 'bd52a136fbf11f3e2606d6fdbe4927ad'}>, <Document: {'content': 'B. WHAT IS A SPACE OBJECT   ', 'content_type': 'text', 'score': None, 'meta': {'article_title': 'IAASS_paper_141_m.txt'}, 'embedding': None, 'id': 'c483a71487227da30562ff88bf0dbda3'}>, <Document: {'content': 'Weight 5.5  0.3 kg', 'content_type': 'text', 'score': None, 'meta': {'article_title': 'Arxiv_paper_122_m.txt'}, 'embedding': None, 'id': 'cd67aafbdac07dcfe143c21a729b974a'}>, <Document: {'content': 'A. Equal Weight', 'content_type': 'text', 'score': None, 'meta': {'article_title': 'ssa_paper_10_m.txt'}, 'embedding': None, 'id': 'e619172d68d88c751d987900afb0d663'}>, <Document: {'content': 'This article considers why space debris is a problem, how space  debris is distributed, what risks space debris poses to satellites, what  international communities have done to ameliorate the problem, and  what we should do in the future.', 'content_type': 'text', 'score': None, 'meta': {'article_title': 'sd_paper_59_m.txt'}, 'embedding': None, 'id': 'af74b43e88ba15d077e3a03249fedf94'}>, <Document: {'content': 'space debris ', 'content_type': 'text', 'score': None, 'meta': {'article_title': 'Arxiv_paper_112_m.txt'}, 'embedding': None, 'id': 'c954750133624c203bd73f839a713019'}>, <Document: {'content': 'Space Debris', 'content_type': 'text', 'score': None, 'meta': {'article_title': 'Arxiv_paper_112_m.txt'}, 'embedding': None, 'id': 'c954750133624c203bd73f839a713019'}>, <Document: {'content': 'E. Space Debris', 'content_type': 'text', 'score': None, 'meta': {'article_title': 'Arxiv_paper_112_m.txt'}, 'embedding': None, 'id': 'c954750133624c203bd73f839a713019'}>, <Document: {'content': 'Space debris', 'content_type': 'text', 'score': None, 'meta': {'article_title': 'Arxiv_paper_112_m.txt'}, 'embedding': None, 'id': 'c954750133624c203bd73f839a713019'}>], 'root_node': 'Query', 'params': {'filters': {}, 'Retriever': {'top_k': 10}, 'Reader': {'top_k': 10}, 'Query': {}}, 'node_id': 'Reader'}\n",
            "--> End of process_request:\n",
            "request: query='What’s the weight of space debris?' params={'filters': {}, 'Retriever': {'top_k': 10}, 'Reader': {'top_k': 10}, 'Query': {'debug': False}} debug=False\n",
            "response <Response [200]>\n",
            "time: 12.61\n",
            "INFO:     3.249.46.150:0 - \"POST /query/ HTTP/1.1\" 200 OK\n",
            "INFO:     3.249.46.150:0 - \"GET /initialized HTTP/1.1\" 201 Created\n",
            "INFO:     3.249.46.150:0 - \"GET /initialized HTTP/1.1\" 201 Created\n",
            "INFO:     3.249.46.150:0 - \"POST /query HTTP/1.1\" 307 Temporary Redirect\n",
            "--> Running a query: query='What’s the weight of space debris?' params={'filters': {}, 'Retriever': {'top_k': 10}, 'Reader': {'top_k': 10}} debug=False\n",
            "--> Result from query: {'query': 'What’s the weight of space debris?', 'no_ans_gap': -3.606889009475708, 'answers': [<Answer {'answer': '5.5  0.3 kg', 'type': 'extractive', 'score': 0.14537174999713898, 'context': 'Weight 5.5  0.3 kg', 'offsets_in_document': [{'start': 7, 'end': 18}], 'offsets_in_context': [{'start': 7, 'end': 18}], 'document_id': 'cd67aafbdac07dcfe143c21a729b974a', 'meta': {'article_title': 'Arxiv_paper_122_m.txt'}}>, <Answer {'answer': 'Equal Weight', 'type': 'extractive', 'score': 0.010309807257726789, 'context': 'A. Equal Weight', 'offsets_in_document': [{'start': 3, 'end': 15}], 'offsets_in_context': [{'start': 3, 'end': 15}], 'document_id': 'e619172d68d88c751d987900afb0d663', 'meta': {'article_title': 'ssa_paper_10_m.txt'}}>, <Answer {'answer': 'weight', 'type': 'extractive', 'score': 0.002259506145492196, 'context': ' is the weight', 'offsets_in_document': [{'start': 8, 'end': 14}], 'offsets_in_context': [{'start': 8, 'end': 14}], 'document_id': 'bd52a136fbf11f3e2606d6fdbe4927ad', 'meta': {'article_title': 'IAASS_paper_132_m.txt'}}>, <Answer {'answer': 'satellites', 'type': 'extractive', 'score': 0.0016469474649056792, 'context': 'm, how space  debris is distributed, what risks space debris poses to satellites, what  international communities have done to ameliorate the problem,', 'offsets_in_document': [{'start': 121, 'end': 131}], 'offsets_in_context': [{'start': 70, 'end': 80}], 'document_id': 'af74b43e88ba15d077e3a03249fedf94', 'meta': {'article_title': 'sd_paper_59_m.txt'}}>, <Answer {'answer': 'E. Space Debris', 'type': 'extractive', 'score': 0.0011082608543802053, 'context': 'E. Space Debris', 'offsets_in_document': [{'start': 0, 'end': 15}], 'offsets_in_context': [{'start': 0, 'end': 15}], 'document_id': 'c954750133624c203bd73f839a713019', 'meta': {'article_title': 'Arxiv_paper_112_m.txt'}}>, <Answer {'answer': 'SPACE OBJECT', 'type': 'extractive', 'score': 0.0010441763588460162, 'context': 'B. WHAT IS A SPACE OBJECT   ', 'offsets_in_document': [{'start': 13, 'end': 25}], 'offsets_in_context': [{'start': 13, 'end': 25}], 'document_id': 'c483a71487227da30562ff88bf0dbda3', 'meta': {'article_title': 'IAASS_paper_141_m.txt'}}>, <Answer {'answer': 'weight', 'type': 'extractive', 'score': 0.0006316729995887727, 'context': 'weight', 'offsets_in_document': [{'start': 0, 'end': 6}], 'offsets_in_context': [{'start': 0, 'end': 6}], 'document_id': '6bd65b17329e44ff4e9b10c51707c66d', 'meta': {'article_title': 'sd_paper_8_m.txt'}}>, <Answer {'answer': 'Space Debris', 'type': 'extractive', 'score': 0.000547067989828065, 'context': 'Space Debris', 'offsets_in_document': [{'start': 0, 'end': 12}], 'offsets_in_context': [{'start': 0, 'end': 12}], 'document_id': 'c954750133624c203bd73f839a713019', 'meta': {'article_title': 'Arxiv_paper_112_m.txt'}}>, <Answer {'answer': 'Space debris', 'type': 'extractive', 'score': 0.0002609363873489201, 'context': 'Space debris', 'offsets_in_document': [{'start': 0, 'end': 12}], 'offsets_in_context': [{'start': 0, 'end': 12}], 'document_id': 'c954750133624c203bd73f839a713019', 'meta': {'article_title': 'Arxiv_paper_112_m.txt'}}>], 'documents': [<Document: {'content': 'weight', 'content_type': 'text', 'score': None, 'meta': {'article_title': 'sd_paper_8_m.txt'}, 'embedding': None, 'id': '6bd65b17329e44ff4e9b10c51707c66d'}>, <Document: {'content': ' is the weight', 'content_type': 'text', 'score': None, 'meta': {'article_title': 'IAASS_paper_132_m.txt'}, 'embedding': None, 'id': 'bd52a136fbf11f3e2606d6fdbe4927ad'}>, <Document: {'content': 'B. WHAT IS A SPACE OBJECT   ', 'content_type': 'text', 'score': None, 'meta': {'article_title': 'IAASS_paper_141_m.txt'}, 'embedding': None, 'id': 'c483a71487227da30562ff88bf0dbda3'}>, <Document: {'content': 'Weight 5.5  0.3 kg', 'content_type': 'text', 'score': None, 'meta': {'article_title': 'Arxiv_paper_122_m.txt'}, 'embedding': None, 'id': 'cd67aafbdac07dcfe143c21a729b974a'}>, <Document: {'content': 'A. Equal Weight', 'content_type': 'text', 'score': None, 'meta': {'article_title': 'ssa_paper_10_m.txt'}, 'embedding': None, 'id': 'e619172d68d88c751d987900afb0d663'}>, <Document: {'content': 'This article considers why space debris is a problem, how space  debris is distributed, what risks space debris poses to satellites, what  international communities have done to ameliorate the problem, and  what we should do in the future.', 'content_type': 'text', 'score': None, 'meta': {'article_title': 'sd_paper_59_m.txt'}, 'embedding': None, 'id': 'af74b43e88ba15d077e3a03249fedf94'}>, <Document: {'content': 'space debris ', 'content_type': 'text', 'score': None, 'meta': {'article_title': 'Arxiv_paper_112_m.txt'}, 'embedding': None, 'id': 'c954750133624c203bd73f839a713019'}>, <Document: {'content': 'Space Debris', 'content_type': 'text', 'score': None, 'meta': {'article_title': 'Arxiv_paper_112_m.txt'}, 'embedding': None, 'id': 'c954750133624c203bd73f839a713019'}>, <Document: {'content': 'E. Space Debris', 'content_type': 'text', 'score': None, 'meta': {'article_title': 'Arxiv_paper_112_m.txt'}, 'embedding': None, 'id': 'c954750133624c203bd73f839a713019'}>, <Document: {'content': 'Space debris', 'content_type': 'text', 'score': None, 'meta': {'article_title': 'Arxiv_paper_112_m.txt'}, 'embedding': None, 'id': 'c954750133624c203bd73f839a713019'}>], 'root_node': 'Query', 'params': {'filters': {}, 'Retriever': {'top_k': 10}, 'Reader': {'top_k': 10}, 'Query': {}}, 'node_id': 'Reader'}\n",
            "--> End of process_request:\n",
            "request: query='What’s the weight of space debris?' params={'filters': {}, 'Retriever': {'top_k': 10}, 'Reader': {'top_k': 10}, 'Query': {'debug': False}} debug=False\n",
            "response <Response [200]>\n",
            "time: 12.64\n",
            "INFO:     3.249.46.150:0 - \"POST /query/ HTTP/1.1\" 200 OK\n",
            "INFO:     3.249.46.150:0 - \"GET /initialized HTTP/1.1\" 201 Created\n",
            "INFO:     3.249.46.150:0 - \"GET /initialized HTTP/1.1\" 201 Created\n",
            "INFO:     3.249.46.150:0 - \"GET /initialized HTTP/1.1\" 201 Created\n",
            "INFO:     3.249.46.150:0 - \"GET /initialized HTTP/1.1\" 201 Created\n",
            "INFO:     3.249.46.150:0 - \"GET /initialized HTTP/1.1\" 201 Created\n",
            "INFO:     3.249.46.150:0 - \"GET /initialized HTTP/1.1\" 201 Created\n",
            "INFO:     3.249.46.150:0 - \"GET /initialized HTTP/1.1\" 201 Created\n",
            "INFO:     3.249.46.150:0 - \"GET /initialized HTTP/1.1\" 201 Created\n",
            "INFO:     3.249.46.150:0 - \"GET /initialized HTTP/1.1\" 201 Created\n",
            "INFO:     3.249.46.150:0 - \"GET /initialized HTTP/1.1\" 201 Created\n",
            "INFO:     3.249.46.150:0 - \"GET /initialized HTTP/1.1\" 201 Created\n",
            "INFO:     3.249.46.150:0 - \"GET /initialized HTTP/1.1\" 201 Created\n",
            "INFO:     3.249.46.150:0 - \"GET /initialized HTTP/1.1\" 201 Created\n",
            "INFO:     3.249.46.150:0 - \"POST /query HTTP/1.1\" 307 Temporary Redirect\n",
            "--> Running a query: query='Why could someone think that interstellar planetary protection is of no concern?' params={'filters': {}, 'Retriever': {'top_k': 10}, 'Reader': {'top_k': 10}} debug=False\n",
            "--> Result from query: {'query': 'Why could someone think that interstellar planetary protection is of no concern?', 'no_ans_gap': -16.400534629821777, 'answers': [<Answer {'answer': 'planetary protection.', 'type': 'extractive', 'score': 0.0005820412297907751, 'context': 'planetary protection.', 'offsets_in_document': [{'start': 0, 'end': 21}], 'offsets_in_context': [{'start': 0, 'end': 21}], 'document_id': '2e162d79a381adefe0439fb0f3062a69', 'meta': {'article_title': 'pp_paper_42_m.txt'}}>, <Answer {'answer': 'Planetary Protection.', 'type': 'extractive', 'score': 0.0001842634883360006, 'context': 'Planetary Protection. ', 'offsets_in_document': [{'start': 0, 'end': 21}], 'offsets_in_context': [{'start': 0, 'end': 21}], 'document_id': '8b4c199d6ee87f1a53925dfcaf6421d3', 'meta': {'article_title': 'pp_paper_71_m.txt'}}>, <Answer {'answer': 'Planetary Protection', 'type': 'extractive', 'score': 0.00016569389845244586, 'context': 'Planetary Protection  ', 'offsets_in_document': [{'start': 0, 'end': 20}], 'offsets_in_context': [{'start': 0, 'end': 20}], 'document_id': '70d4c4835da7ebd9f9b1318ade696d3a', 'meta': {'article_title': 'Arxiv_paper_41_m.txt'}}>, <Answer {'answer': 'Planetary protection', 'type': 'extractive', 'score': 0.0001486599721829407, 'context': '3. Planetary protection  ', 'offsets_in_document': [{'start': 3, 'end': 23}], 'offsets_in_context': [{'start': 3, 'end': 23}], 'document_id': 'f138cf453c24e6c8f90ea9b93d67bf55', 'meta': {'article_title': 'Arxiv_paper_12_m.txt'}}>, <Answer {'answer': 'planetary protection', 'type': 'extractive', 'score': 9.499343286734074e-05, 'context': 'planetary protection', 'offsets_in_document': [{'start': 0, 'end': 20}], 'offsets_in_context': [{'start': 0, 'end': 20}], 'document_id': '5357469c2baddd78431a445bf6159c5d', 'meta': {'article_title': 'pp_paper_21_m.txt'}}>, <Answer {'answer': 'planetary protection', 'type': 'extractive', 'score': 9.499343286734074e-05, 'context': 'planetary protection', 'offsets_in_document': [{'start': 0, 'end': 20}], 'offsets_in_context': [{'start': 0, 'end': 20}], 'document_id': '2e162d79a381adefe0439fb0f3062a69', 'meta': {'article_title': 'pp_paper_42_m.txt'}}>, <Answer {'answer': 'Interstellar planetary protection', 'type': 'extractive', 'score': 8.329265619977377e-05, 'context': 'Interstellar planetary protection ', 'offsets_in_document': [{'start': 0, 'end': 33}], 'offsets_in_context': [{'start': 0, 'end': 33}], 'document_id': '897e74701bdaaba5f9423d62a9576866', 'meta': {'article_title': 'pp_paper_33_m.txt'}}>, <Answer {'answer': 'Interstellar planetary protection', 'type': 'extractive', 'score': 8.329265619977377e-05, 'context': 'Interstellar planetary protection ', 'offsets_in_document': [{'start': 0, 'end': 33}], 'offsets_in_context': [{'start': 0, 'end': 33}], 'document_id': '1406c6db8212ba9123b87d7f3dab5847', 'meta': {'article_title': 'pp_paper_45_m.txt'}}>, <Answer {'answer': 'Planetary protection', 'type': 'extractive', 'score': 7.21685846656328e-05, 'context': 'Planetary protection', 'offsets_in_document': [{'start': 0, 'end': 20}], 'offsets_in_context': [{'start': 0, 'end': 20}], 'document_id': 'a76d2d0ffcabdbf229616902743792f3', 'meta': {'article_title': 'Arxiv_paper_115_m.txt'}}>, <Answer {'answer': 'Interstellar planetary protection', 'type': 'extractive', 'score': 5.7090002883342095e-05, 'context': 'Interstellar planetary protection', 'offsets_in_document': [{'start': 0, 'end': 33}], 'offsets_in_context': [{'start': 0, 'end': 33}], 'document_id': '897e74701bdaaba5f9423d62a9576866', 'meta': {'article_title': 'pp_paper_33_m.txt'}}>], 'documents': [<Document: {'content': 'Interstellar planetary protection', 'content_type': 'text', 'score': None, 'meta': {'article_title': 'pp_paper_33_m.txt'}, 'embedding': None, 'id': '897e74701bdaaba5f9423d62a9576866'}>, <Document: {'content': 'Interstellar planetary protection ', 'content_type': 'text', 'score': None, 'meta': {'article_title': 'pp_paper_33_m.txt'}, 'embedding': None, 'id': '897e74701bdaaba5f9423d62a9576866'}>, <Document: {'content': 'Interstellar planetary protection ', 'content_type': 'text', 'score': None, 'meta': {'article_title': 'pp_paper_45_m.txt'}, 'embedding': None, 'id': '1406c6db8212ba9123b87d7f3dab5847'}>, <Document: {'content': 'planetary protection', 'content_type': 'text', 'score': None, 'meta': {'article_title': 'pp_paper_21_m.txt'}, 'embedding': None, 'id': '5357469c2baddd78431a445bf6159c5d'}>, <Document: {'content': 'Planetary Protection. ', 'content_type': 'text', 'score': None, 'meta': {'article_title': 'pp_paper_71_m.txt'}, 'embedding': None, 'id': '8b4c199d6ee87f1a53925dfcaf6421d3'}>, <Document: {'content': 'Planetary protection', 'content_type': 'text', 'score': None, 'meta': {'article_title': 'Arxiv_paper_115_m.txt'}, 'embedding': None, 'id': 'a76d2d0ffcabdbf229616902743792f3'}>, <Document: {'content': 'planetary protection.', 'content_type': 'text', 'score': None, 'meta': {'article_title': 'pp_paper_42_m.txt'}, 'embedding': None, 'id': '2e162d79a381adefe0439fb0f3062a69'}>, <Document: {'content': 'planetary protection', 'content_type': 'text', 'score': None, 'meta': {'article_title': 'pp_paper_42_m.txt'}, 'embedding': None, 'id': '2e162d79a381adefe0439fb0f3062a69'}>, <Document: {'content': 'Planetary Protection  ', 'content_type': 'text', 'score': None, 'meta': {'article_title': 'Arxiv_paper_41_m.txt'}, 'embedding': None, 'id': '70d4c4835da7ebd9f9b1318ade696d3a'}>, <Document: {'content': '3. Planetary protection  ', 'content_type': 'text', 'score': None, 'meta': {'article_title': 'Arxiv_paper_12_m.txt'}, 'embedding': None, 'id': 'f138cf453c24e6c8f90ea9b93d67bf55'}>], 'root_node': 'Query', 'params': {'filters': {}, 'Retriever': {'top_k': 10}, 'Reader': {'top_k': 10}, 'Query': {}}, 'node_id': 'Reader'}\n",
            "--> End of process_request:\n",
            "request: query='Why could someone think that interstellar planetary protection is of no concern?' params={'filters': {}, 'Retriever': {'top_k': 10}, 'Reader': {'top_k': 10}, 'Query': {'debug': False}} debug=False\n",
            "response <Response [200]>\n",
            "time: 13.20\n",
            "INFO:     3.249.46.150:0 - \"POST /query/ HTTP/1.1\" 200 OK\n",
            "INFO:     3.249.46.150:0 - \"GET /initialized HTTP/1.1\" 201 Created\n",
            "INFO:     3.249.46.150:0 - \"GET /initialized HTTP/1.1\" 201 Created\n",
            "INFO:     34.245.178.3:0 - \"GET /initialized HTTP/1.1\" 201 Created\n"
          ]
        },
        {
          "output_type": "stream",
          "name": "stderr",
          "text": [
            "INFO:     Shutting down\n",
            "INFO - uvicorn.error -  Shutting down\n",
            "INFO:     Finished server process [61]\n",
            "INFO - uvicorn.error -  Finished server process [61]\n"
          ]
        }
      ],
      "source": [
        "server.run_app(app=app)"
      ]
    },
    {
      "cell_type": "code",
      "execution_count": null,
      "metadata": {
        "id": "-YBN-qovMeMM"
      },
      "outputs": [],
      "source": [
        ""
      ]
    }
  ],
  "metadata": {
    "colab": {
      "collapsed_sections": [],
      "name": "space_diss_api.ipynb",
      "provenance": [],
      "authorship_tag": "ABX9TyPBvWVQTqDmoYUxI3ptl6Io",
      "include_colab_link": true
    },
    "gpuClass": "standard",
    "kernelspec": {
      "display_name": "Python 3",
      "name": "python3"
    },
    "language_info": {
      "name": "python"
    }
  },
  "nbformat": 4,
  "nbformat_minor": 0
}